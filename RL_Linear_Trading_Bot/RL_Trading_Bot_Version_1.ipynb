{
 "cells": [
  {
   "cell_type": "markdown",
   "id": "c5b65444",
   "metadata": {},
   "source": [
    "# RL Trading Bot (Version 1)\n",
    "### 2022/06/06, AJ Zerouali\n",
    "### Updated: 2022/06/14\n",
    "\n",
    "## I - Introduction\n",
    "\n",
    "This is Section 10 of Lazy Programmer's 1st RL course, which is about stock trading with RL. In these lectures, the instructor uses a linear regression to build an estimator of the Q-function, with an explicit formula for gradient descent with momentum. He's not using neural nets, but I will deviate a little from this.\n",
    "\n",
    "It is useful to note that the trading bot implemented in these lectures is inspired from the paper Xiao et al. '18, \"Practical deep RL for stock trading\" (https://arxiv.org/pdf/1811.07522.pdf). This paper uses DDPG for the agent, which we'll do elsewhere."
   ]
  },
  {
   "cell_type": "markdown",
   "id": "21f51961",
   "metadata": {},
   "source": [
    "## II - Simplifying assumptions:\n",
    "\n",
    "In Lecture 92, Lazy Programmer makes the following simplifying assumptions: \n",
    "* We'll consider a portfolio of 3 stocks only.\n",
    "* The state at a given step will consist of the closing price and the number of shares for each stock, along with the cash available.\n",
    "* For each stock there will be 3 possible actions: Buy, sell and hold.\n",
    "* We'll follow an all or nothing approach: If we sell a stock then we sell **all** the shares, and if we buy a stock then we buy **buy as many shares as possible**. The idea is to do this in a *round robin* fashion (loop over stocks and buy until there's no more cash left).\n",
    "* Sell stocks before buying more."
   ]
  },
  {
   "cell_type": "code",
   "execution_count": null,
   "id": "2bd98f6d",
   "metadata": {},
   "outputs": [],
   "source": []
  },
  {
   "cell_type": "markdown",
   "id": "44decc73",
   "metadata": {},
   "source": [
    "## Environment\n",
    "\n",
    "Inspired by OpenAI Gym API. Will use Pandas Datareader elsewhere to download data. Here we'll load the data from CSVs created previously."
   ]
  },
  {
   "cell_type": "code",
   "execution_count": 1,
   "id": "2350a757",
   "metadata": {},
   "outputs": [],
   "source": [
    "import numpy as np\n",
    "import pandas as pd\n",
    "import matplotlib.pyplot as plt\n",
    "import pandas_datareader as reader\n",
    "from tensorflow import keras\n",
    "from datetime import datetime"
   ]
  },
  {
   "cell_type": "code",
   "execution_count": 2,
   "id": "9601f38e",
   "metadata": {},
   "outputs": [],
   "source": [
    "# These imports are for the standard scaler from sklearn\n",
    "from sklearn.preprocessing import StandardScaler\n",
    "from pickle import dump, load"
   ]
  },
  {
   "cell_type": "markdown",
   "id": "ae3a4797",
   "metadata": {},
   "source": [
    "I'll set the start date and end dates below."
   ]
  },
  {
   "cell_type": "markdown",
   "id": "9a7caf2c",
   "metadata": {},
   "source": [
    "#### Questions:\n",
    "* Length of data should be between 5 and 10 years. Will take 10 years for training data (2010-2019) and 2 years for testing (2020-2021).\n",
    "* Where does the number of stocks fit?  \n",
    "* State array has to contain the price of each stock, the no. of shares of each stock, plus current uninvested cash. The environment stores the state. \n",
    "* How many tickers and what stocks to consider? Microsoft, Apple, Facebook, Tesla, Samsung, Motorola, Nokia, \n",
    "\n",
    "**Trading environment**:\n",
    "* Attributes: Initial cash; no. of trading days (i.e. length of time series); no. of stocks; arrays of prices"
   ]
  },
  {
   "cell_type": "code",
   "execution_count": 3,
   "id": "dbf3e0dc",
   "metadata": {},
   "outputs": [],
   "source": [
    "class Trading_Env:\n",
    "    '''\n",
    "        Trading environment\n",
    "    '''\n",
    "    def __init__(self, df_data, data_start_date, data_end_date, stock_tickers,\\\n",
    "                 n_stocks, ini_cash):\n",
    "        '''\n",
    "            Trading environment specified by a dataset and a list of tickers.\n",
    "            Dataset is a pd.Dataframe of closing prices\n",
    "            Gives no. of trading days.\n",
    "            \n",
    "            Convention for possible actions for an asset: 0 = HOLD, 1 = BUY, 1 = SELL.\n",
    "            \n",
    "            State will be described by an array of length 2*(n_stocks)+1.\n",
    "            \n",
    "            ARGUMENTS:  - df_data: Pandas DataFrame of training data (5 or 10 years).\n",
    "                        - data_start_date: Start date of data, datetime.datetime object\n",
    "                        - data_start_date: End date of data, datetime.datetime object\n",
    "                        - stock_tickers: List of tickers of stocks\n",
    "                        - n_stocks: No. of stocks used in the environment\n",
    "                        - ini_cash: Initial uninvested cash.\n",
    "            \n",
    "        '''\n",
    "        # Data set attributes:\n",
    "        self.n_data_days = len(df_data) # Length of dataset\n",
    "        self.data_start_date = data_start_date\n",
    "        self.data_end_date = data_end_date\n",
    "        self.stock_tickers = stock_tickers\n",
    "                \n",
    "        # Portfolio attributes\n",
    "        self.n_stocks = n_stocks # No. of stocks used in env\n",
    "        self.ini_cash = ini_cash # \n",
    "        \n",
    "        # Actions and action space\n",
    "        self.n_choices = 3 # No. of possible actions for each stock\n",
    "        self.n_actions = self.n_stocks**self.n_choices\n",
    "        self.action_space = [i for i in range(self.n_actions)] # Action space (indices)\n",
    "        self.action_space_arrs = []\n",
    "        ## Populate action space in array form. Order of array indices corresponds \n",
    "        ##  to that of ticker list (self.stock_tickers)\n",
    "        for i in range(self.n_choices):\n",
    "            for j in range(self.n_choices):\n",
    "                for k in range(self.n_choices):\n",
    "                    self.action_space_arrs.append(np.array([i,j,k], dtype = np.int8))\n",
    "        \n",
    "        \n",
    "        # This time series is the data in np.ndarray format\n",
    "        ### Note: Clean the data frame df_data to avoid errors, especially if loaded from CSV\n",
    "        self.time_series = np.zeros(shape = (self.n_data_days, self.n_stocks), dtype = np.float32)\n",
    "        for i in range(self.n_stocks):\n",
    "            self.time_series[:,i] = df_data[self.stock_tickers[i]].to_numpy()\n",
    "        \n",
    "        # time_index acted upon by reset() and step(). \n",
    "        self.time_index = 0\n",
    "        # Current state array.\n",
    "        self.state_shape = 2*self.n_stocks+1\n",
    "        self.state = np.zeros(shape = self.state_shape, dtype=np.int32)\n",
    "        \n",
    "    # END DEF __init__()\n",
    "        \n",
    "        \n",
    "    def reset(self):\n",
    "        '''\n",
    "            Resets environment to beginning of the dataset (day 1)\n",
    "            Returns initial state\n",
    "        '''\n",
    "        self.time_index = 0\n",
    "        state = np.zeros(shape = self.state_shape, dtype= np.float32)\n",
    "        state[0:self.n_stocks] = self.time_series[0]\n",
    "        state[-1] = self.ini_cash\n",
    "        self.state = state\n",
    "        \n",
    "        return state\n",
    "    \n",
    "    # END DEF reset()\n",
    "    \n",
    "    # \"Execute trades\" method. Does the heavy lifting for the step() method\n",
    "    def exec_trades(self, action):\n",
    "        '''\n",
    "            Execute trades given by action in environment.\n",
    "            In symbols, the arguments are (s_t,a_t, p_(t+1)), where p_(t+1) are\n",
    "            stock prices of the next day. This method computes the state s_(t+1)\n",
    "            resulting from (s_t,a_t, p_(t+1)). \n",
    "            (Notation: If p_t = (p^1_t, p^2_t, p^3_t) are stocks prices, then\n",
    "            s_t = (p_t, n_t, c_t) where n_t is the 3-vector of shares and c_t is \n",
    "            the available cash.)\n",
    "            \n",
    "            ARGUMENT: - action\n",
    "            OUTPUT: - New state s_(t+1).\n",
    "            IMPORTANT: This method should be called AFTER the time_index is incremented\n",
    "                        in the step() method.\n",
    "        '''\n",
    "    \n",
    "        #### CONVENTION: For actions per stock 0 = HOLD; 1 = BUY; 2 = SELL ####\n",
    "\n",
    "        # Init.\n",
    "        ini_state = np.copy(self.state)\n",
    "        new_state = np.copy(self.state)\n",
    "        '''\n",
    "        Note: Initially wrote new_state[0:self.n_stocks] = self.time_series[self.time_index+1].\n",
    "                This method is called after the update self.time_index += 1 in step()\n",
    "        '''\n",
    "        new_state[0:self.n_stocks] = self.time_series[self.time_index]\n",
    "\n",
    "        # Unpack action\n",
    "        action_arr = self.action_space_arrs[action]\n",
    "\n",
    "        # Make sell and buy lists\n",
    "        sell_list = []\n",
    "        buy_list = []\n",
    "        #### NOTE: Unless otherwise stated, i is stock index ####\n",
    "        for i in range(self.n_stocks):\n",
    "            if action_arr[i] == 1:\n",
    "                buy_list.append(i)\n",
    "            elif action_arr[i] == 2:\n",
    "                sell_list.append(i)\n",
    "\n",
    "        # Sell assets. Recall: cash = state[-1]\n",
    "        for i in sell_list:\n",
    "            # For stock i, update cash by selling new_state[self.n_stocks+i] shares at price new_state[i]\n",
    "            new_state[-1] += new_state[self.n_stocks+i]*new_state[i]\n",
    "            # Update no. of share of stock i to 0\n",
    "            new_state[self.n_stocks+i] = 0\n",
    "\n",
    "        # Buy shares if buy_list is non empty:\n",
    "        if len(buy_list) > 0:\n",
    "            ## Make stop array for while loop\n",
    "            stop_arr = np.zeros(shape = len(buy_list), dtype = np.bool8)\n",
    "            ## Initialize boolean array for while loop\n",
    "            continue_arr = np.ones(shape = len(buy_list), dtype = np.bool8)\n",
    "            #### NOTE: Always iter over continue_arr with i_list      ####\n",
    "            ####       Always iter over state with i=buy_list[i_list] ####\n",
    "            for i_list in range(len(buy_list)): # Can this loop be avoided?\n",
    "                # Set continue_arr[i_list] = True \n",
    "                # if can afford 1 share of stock i = buy_list[i_list]\n",
    "                continue_arr[i_list] = (new_state[-1] >= new_state[buy_list[i_list]])\n",
    "\n",
    "            ## Main loop\n",
    "            i_list = 0\n",
    "            while not np.array_equal(continue_arr, stop_arr):\n",
    "                # Init. cash and stock indx\n",
    "                i = buy_list[i_list]\n",
    "                cash = np.copy(new_state[-1])\n",
    "\n",
    "                # Condition\n",
    "                if continue_arr[i_list] == True:\n",
    "                    # Buy one share of stock i\n",
    "                    cash -= new_state[i]\n",
    "                    new_state[self.n_stocks+i] += 1\n",
    "                    new_state[-1] = cash\n",
    "\n",
    "                # Update list index for next iteration\n",
    "                if i_list == (len(buy_list)-1):\n",
    "                    i_list = 0\n",
    "                else:\n",
    "                    i_list += 1\n",
    "\n",
    "                # Update continue_arr for next iteration (at next index only)\n",
    "                continue_arr[i_list] = ( cash >= new_state[buy_list[i_list]] )\n",
    "\n",
    "        return new_state\n",
    "    \n",
    "    # Step method familiar to Gym users. Calls the exec_trades() method above\n",
    "    def step(self, action):\n",
    "        '''\n",
    "            Take action a in environment. Returns s', r, done, info.\n",
    "            Remark: Calls exec_trades() after incrementing time index.\n",
    "            \n",
    "            ARGUMENT: \n",
    "            \n",
    "        ''' \n",
    "        # Increment time index\n",
    "        self.time_index += 1 \n",
    "        \n",
    "        # Compute next state (IMPORTANT: This line MUST come after the one above)\n",
    "        next_state = self.exec_trades(action)\n",
    "        \n",
    "        # Compute new portfolio value and assign to info dictionary\n",
    "        new_portfolio_value = np.dot(next_state[0:self.n_stocks], \\\n",
    "                                     next_state[self.n_stocks:2*self.n_stocks]) + next_state[-1]\n",
    "                                \n",
    "        \n",
    "        # info will just be next portfolio value\n",
    "        info = {'Portfolio Value':new_portfolio_value} \n",
    "        \n",
    "        # Difference between portfolio values\n",
    "        reward = new_portfolio_value - np.dot(self.state[0:self.n_stocks], \\\n",
    "                                              self.state[self.n_stocks:2*self.n_stocks]) - self.state[-1]\n",
    "        # UPDATE ENVIRONMENT STATE \n",
    "        self.state = next_state\n",
    "        \n",
    "        # Done boolean\n",
    "        if self.time_index == (self.n_data_days-1):\n",
    "            done = True\n",
    "        else:\n",
    "            done = False\n",
    "            \n",
    "        \n",
    "        \n",
    "        return next_state, reward, done, info\n",
    "        \n",
    "    # END DEF step()    \n",
    "\n",
    "# END CLASS Trading_Env"
   ]
  },
  {
   "cell_type": "markdown",
   "id": "e035331d",
   "metadata": {},
   "source": []
  },
  {
   "cell_type": "code",
   "execution_count": null,
   "id": "cb812fd0",
   "metadata": {},
   "outputs": [],
   "source": []
  },
  {
   "cell_type": "code",
   "execution_count": null,
   "id": "5fcdab33",
   "metadata": {},
   "outputs": [],
   "source": []
  },
  {
   "cell_type": "code",
   "execution_count": null,
   "id": "de2ef5b7",
   "metadata": {},
   "outputs": [],
   "source": []
  },
  {
   "cell_type": "markdown",
   "id": "5b811468",
   "metadata": {},
   "source": [
    "## Scaler for dataset\n",
    "\n",
    "I'm borrowing this from Lazy Programmer's GitHub: https://github.com/lazyprogrammer/machine_learning_examples/blob/master/rl/linear_rl_trader.py.\n"
   ]
  },
  {
   "cell_type": "code",
   "execution_count": 4,
   "id": "d0a71a4b",
   "metadata": {},
   "outputs": [],
   "source": [
    "def build_scaler(env, save_scaler = False, scaler_fname=\"default_scaler.pkl\"):\n",
    "    '''\n",
    "        Builds a StandardScaler() for the states of a Trading_Env() object.\n",
    "        IMPORTANT: Import StandardScaler from sklearn.preprocessing prior to\n",
    "                   calling this function.\n",
    "        \n",
    "        ARGUMENTS: - env: Trading_Env() object.\n",
    "                   - save_scaler: Boolean for saving.\n",
    "                   - scaler_fname: \n",
    "        OUTPUT: - dataset_scaler: Calibrated sklearn.preprocessing.StandardScaler() object.\n",
    "        NOTEs: - This function generates an episode using random choices from env.action_space,\n",
    "                 then fits the StandardScaler() to the resulting list of states.\n",
    "               - For clarity and future use, include tickers in filename\n",
    "    '''\n",
    "    # Instantiate scaler\n",
    "    dataset_scaler = StandardScaler()\n",
    "    \n",
    "    # Init. state list\n",
    "    state_list = [env.reset()]\n",
    "    \n",
    "    # Loop over entire dataset. Create a random episode with random choices\n",
    "    #for _ in range(env.n_data_days):\n",
    "    done = False\n",
    "    while not done:        \n",
    "        action = np.random.choice(env.action_space)\n",
    "        next_state, reward, done, info = env.step(action)\n",
    "        state_list.append(next_state)\n",
    "        \n",
    "    # Fit scaler\n",
    "    dataset_scaler.fit(state_list)\n",
    "    \n",
    "    # Save scaler using pickle\n",
    "    ## Note: Use pickle.dump(obj, open('fname_str.pkl', 'wb')) to save scaler,\n",
    "    ##       use scaler = pickle.load(open('fname_str.pkl', 'rb')) to load obj.\n",
    "    if save_scaler:\n",
    "        # Include env tickers in order in filename\n",
    "        if scaler_fname == \"default_scaler.pkl\":\n",
    "            fname = scaler_fname[:-4]\n",
    "            fext = scaler_fname[-4:]\n",
    "            for tckr in env.stock_tickers:\n",
    "                fname += '_'+tckr\n",
    "            fname += fext\n",
    "            scaler_fname = fname\n",
    "        # Save the scaler        \n",
    "        dump(dataset_scaler, open(scaler_fname, 'wb'))\n",
    "    \n",
    "    return dataset_scaler\n",
    "# END DEF build_scaler()"
   ]
  },
  {
   "cell_type": "markdown",
   "id": "37620a54",
   "metadata": {},
   "source": [
    "## Linear Agent\n",
    "\n",
    "This part implements a \"linear trader\", where the Q-function is represented by a shallow network with linear activations only.\n",
    "This class doesn't implement gradient descent by hand, and uses Keras' training function. Lastly, will not use a batch approach in this class.\n"
   ]
  },
  {
   "cell_type": "code",
   "execution_count": 5,
   "id": "d9e9780a",
   "metadata": {},
   "outputs": [],
   "source": [
    "class Linear_Trader:\n",
    "    '''\n",
    "         Q-function is represented by a shallow network with linear activations only,\n",
    "         uses Keras' simple SGD fitting function (no batch training).\n",
    "         Uses a pretrained scaler on the Trading_Env() environment of interest.\n",
    "    '''\n",
    "    def __init__(self, env, \\\n",
    "                 # RL hyperparameters\n",
    "                 learn_rate, gamma, epsilon, \\\n",
    "                 \n",
    "                 scaler,\n",
    "                 # Filename for model\n",
    "                 model_fname = \"Linear_Trader_001.h5\"):\n",
    "        '''\n",
    "            Linear trader agent\n",
    "            ARGUMENTS:  - env: Trading_Environment() object. Gives the action/state space dimensions\n",
    "                        - learn_rate, gamma, epsilon: Learning hyperparameters\n",
    "                        - scaler: StandardScaler() from sklearn.preprocessing, previously trained on env dataset.\n",
    "                        - model_fname: Filename for saving the model\n",
    "            Note: Called linear trader because the Q-network is an affine transormation of the states.\n",
    "                  Corresp. attribute is q_net, built by calling build_network() defined below.\n",
    "        '''\n",
    "        \n",
    "        # Learning hyperparameters\n",
    "        self.gamma = gamma\n",
    "        self.epsilon = epsilon\n",
    "        self.learn_rate = learn_rate\n",
    "        \n",
    "        # Action/State dimensions\n",
    "        self.n_stocks = env.n_stocks\n",
    "        self.n_actions = env.n_actions\n",
    "        self.state_shape = 2*self.n_stocks + 1\n",
    "        \n",
    "        # Scaler for states\n",
    "        self.scaler = scaler\n",
    "        \n",
    "        # Q-network\n",
    "        self.q_net = self.build_net()\n",
    "        self.model_fname = model_fname\n",
    "     \n",
    "    # END DEF __init__()\n",
    "    \n",
    "    def build_net(self):\n",
    "        \n",
    "        ################################\n",
    "        ### MAKE SURE THIS WILL WORK ###\n",
    "        ################################\n",
    "        \n",
    "        # Shallow network with parameters (W,b)\n",
    "        ## Note: Although input_shape = (state_shape, ), TensorFlow 2.7.x+\n",
    "        ##       will change it to (None, state_shape).\n",
    "        ##       Pass-in state s as x = np.array([s]) (s scaled).\n",
    "        lin_model = keras.models.Sequential()\n",
    "        lin_model.add(keras.layers.Dense(units = self.n_actions, \\\n",
    "                                         input_shape = (self.state_shape, ),\\\n",
    "                                         activation = \"linear\"))\n",
    "        lin_model.compile(optimizer = \"sgd\", loss = \"mse\")\n",
    "        \n",
    "        return lin_model\n",
    "        \n",
    "    # END DEF build_net()\n",
    "    \n",
    "    def choose_action(self, state):\n",
    "        \"\"\"\n",
    "            Method choosing action in input state following epsilon-greedy policy.\n",
    "            INPUT: observation (current state)\n",
    "            OUTPUT: action\n",
    "        \"\"\"\n",
    "        random_no = np.random.uniform(0,1)\n",
    "        \n",
    "        if random_no < self.epsilon:\n",
    "            action = np.random.choice(self.n_actions)\n",
    "        else:\n",
    "            #### IMPORTANT: Modify for scaled states #####\n",
    "            '''\n",
    "                Note: About reshaping, I had the following message from sklearn/numpy\n",
    "                     \"Reshape your data either using array.reshape(-1, 1) \n",
    "                      if your data has a single feature or array.reshape(1, -1) \n",
    "                      if it contains a single sample.\"\n",
    "            '''\n",
    "            # Reshaped state for scaler\n",
    "            state_ = self.scaler.transform(state.reshape(1, -1))\n",
    "            #state_ = np.array([self.scaler.transform(s)])\n",
    "            q_eval = self.q_net.predict(state_) # Check if you need to add [0] at the end.\n",
    "            action = np.argmax(q_eval)\n",
    "            \n",
    "        return action\n",
    "        \n",
    "    # END DEF choose_action()\n",
    "    \n",
    "    # Training method. Takes in more arguments since we're not using a \n",
    "    # replay buffer for batches.\n",
    "    def train_net(self, state, action, reward, next_state, done,\\\n",
    "                  N_steps=0, ep_i=0, notify_end_train=False):\n",
    "        '''\n",
    "            Training method for linear trader. Executes on SGD descent step on scalars.\n",
    "            Most parameters are outputs of env.Step() method.\n",
    "            \n",
    "            ARGUMENTS: - state, action, reward, next_state: (s,a,r,s') transition tuple.\n",
    "                       - done: Boolean designating end of episode.\n",
    "                       - N_steps, ep_i, notify_end_train: Debug parameters for printing.\n",
    "        '''\n",
    "        \n",
    "        ################################################################\n",
    "        ### MAKE SURE THIS WILL WORK ###\n",
    "        ### Might be useful to debug as a function outside the class\n",
    "        ################################################################\n",
    "        \n",
    "        # Scale the arguments and format\n",
    "        '''\n",
    "        state_ = np.array([self.scaler.transform(state)])\n",
    "        next_state_ = np.array([self.scaler.transform(next_state)])\n",
    "        '''\n",
    "        state_ = self.scaler.transform(state.reshape(1,-1))\n",
    "        next_state_ = self.scaler.transform(next_state.reshape(1,-1))\n",
    "        \n",
    "        ################################################################\n",
    "        ### NOTE: This is consistent with the implementation of \n",
    "        ###       Trading_Env.step(). The done flag is true when\n",
    "        ###       env.time_index = env.n_data_days, which occurs\n",
    "        ###       when next_state is terminal.\n",
    "        ################################################################\n",
    "        \n",
    "        # Q-value estimates\n",
    "        q_eval = self.q_net.predict(state_)\n",
    "        q_next = self.q_net.predict(next_state_)\n",
    "        \n",
    "        # TD target(be careful if done=True)\n",
    "        y = reward +self.gamma*np.max(q_next)*(1-int(done))\n",
    "        \n",
    "        # Target vector for q_net\n",
    "        q_target = np.copy(q_eval)\n",
    "        '''\n",
    "        NOTE: Beware of input_shape produced by TensorFlow 2.7+. When building network\n",
    "              we specified input_shape = (self.state_shape,), but TF2 changes it to \n",
    "              (None, self.state_shape). Likewise, the output shape is (None, env.n_actions)\n",
    "              when specifying env.n_actions neurons in the layer.\n",
    "        '''\n",
    "        q_target[0, action] = y\n",
    "        \n",
    "        # Fit the network using keras.models.Sequential.fit(x,y, batch_size = 32, epochs=10)\n",
    "        self.q_net.fit(state_, q_target, batch_size =1, verbose = 0)\n",
    "        \n",
    "    # END DEF train_net()\n",
    "    \n",
    "    def save_model(self):\n",
    "        self.q_net.save(self.model_fname)\n",
    "    # END DEF save_model()\n",
    "    \n",
    "    def load_model(self, ext_model_fname):\n",
    "        self.q_net = keras.models.load_model(ext_model_fname)\n",
    "    # END DEF load_model()\n",
    "    \n",
    "# END CLASS Linear_Trader    \n",
    "    \n",
    "    "
   ]
  },
  {
   "cell_type": "code",
   "execution_count": 10,
   "id": "2c520f22",
   "metadata": {},
   "outputs": [
    {
     "name": "stdout",
     "output_type": "stream",
     "text": [
      "Help on function load_model in module tensorflow.python.keras.saving.save:\n",
      "\n",
      "load_model(filepath, custom_objects=None, compile=True, options=None)\n",
      "    Loads a model saved via `model.save()`.\n",
      "    \n",
      "    Usage:\n",
      "    \n",
      "    >>> model = tf.keras.Sequential([\n",
      "    ...     tf.keras.layers.Dense(5, input_shape=(3,)),\n",
      "    ...     tf.keras.layers.Softmax()])\n",
      "    >>> model.save('/tmp/model')\n",
      "    >>> loaded_model = tf.keras.models.load_model('/tmp/model')\n",
      "    >>> x = tf.random.uniform((10, 3))\n",
      "    >>> assert np.allclose(model.predict(x), loaded_model.predict(x))\n",
      "    \n",
      "    Note that the model weights may have different scoped names after being\n",
      "    loaded. Scoped names include the model/layer names, such as\n",
      "    `\"dense_1/kernel:0\"`. It is recommended that you use the layer properties to\n",
      "    access specific variables, e.g. `model.get_layer(\"dense_1\").kernel`.\n",
      "    \n",
      "    Args:\n",
      "        filepath: One of the following:\n",
      "            - String or `pathlib.Path` object, path to the saved model\n",
      "            - `h5py.File` object from which to load the model\n",
      "        custom_objects: Optional dictionary mapping names\n",
      "            (strings) to custom classes or functions to be\n",
      "            considered during deserialization.\n",
      "        compile: Boolean, whether to compile the model\n",
      "            after loading.\n",
      "        options: Optional `tf.saved_model.LoadOptions` object that specifies\n",
      "          options for loading from SavedModel.\n",
      "    \n",
      "    Returns:\n",
      "        A Keras model instance. If the original model was compiled, and saved with\n",
      "        the optimizer, then the returned model will be compiled. Otherwise, the\n",
      "        model will be left uncompiled. In the case that an uncompiled model is\n",
      "        returned, a warning is displayed if the `compile` argument is set to\n",
      "        `True`.\n",
      "    \n",
      "    Raises:\n",
      "        ImportError: if loading from an hdf5 file and h5py is not available.\n",
      "        IOError: In case of an invalid savefile.\n",
      "\n"
     ]
    }
   ],
   "source": [
    "help(keras.models.load_model)"
   ]
  },
  {
   "cell_type": "markdown",
   "id": "34e6b83f",
   "metadata": {},
   "source": [
    "## Training algorithm\n",
    "\n",
    "This is the code for the training file. There will be a separate one for testing.\n",
    "As mentioned above, we first train our linear agent on a dataset of 3 stocks over a period of 10 years, from 2010-01-01 to 2019-12-31.\n"
   ]
  },
  {
   "cell_type": "code",
   "execution_count": 3,
   "id": "ff02397e",
   "metadata": {},
   "outputs": [],
   "source": [
    "# Training data start and end dates\n",
    "data_training_start = datetime(2010, 1, 1)\n",
    "data_training_end = datetime(2019, 12, 31)"
   ]
  },
  {
   "cell_type": "code",
   "execution_count": 6,
   "id": "ec8b26e9",
   "metadata": {},
   "outputs": [
    {
     "name": "stdout",
     "output_type": "stream",
     "text": [
      "2010-01-01 00:00:00\n"
     ]
    }
   ],
   "source": []
  },
  {
   "cell_type": "code",
   "execution_count": 4,
   "id": "1c4dd4dd",
   "metadata": {},
   "outputs": [],
   "source": [
    "df_data =pd.read_csv(\"Training_DataSet_01_AdjClose.csv\", usecols = [\"AAPL\", \"AMZN\", \"JNJ\"])"
   ]
  },
  {
   "cell_type": "code",
   "execution_count": 5,
   "id": "f179b616",
   "metadata": {},
   "outputs": [
    {
     "data": {
      "text/html": [
       "<div>\n",
       "<style scoped>\n",
       "    .dataframe tbody tr th:only-of-type {\n",
       "        vertical-align: middle;\n",
       "    }\n",
       "\n",
       "    .dataframe tbody tr th {\n",
       "        vertical-align: top;\n",
       "    }\n",
       "\n",
       "    .dataframe thead th {\n",
       "        text-align: right;\n",
       "    }\n",
       "</style>\n",
       "<table border=\"1\" class=\"dataframe\">\n",
       "  <thead>\n",
       "    <tr style=\"text-align: right;\">\n",
       "      <th></th>\n",
       "      <th>AAPL</th>\n",
       "      <th>AMZN</th>\n",
       "      <th>JNJ</th>\n",
       "    </tr>\n",
       "  </thead>\n",
       "  <tbody>\n",
       "    <tr>\n",
       "      <th>0</th>\n",
       "      <td>6.535086</td>\n",
       "      <td>6.695000</td>\n",
       "      <td>44.863743</td>\n",
       "    </tr>\n",
       "    <tr>\n",
       "      <th>1</th>\n",
       "      <td>6.546385</td>\n",
       "      <td>6.734500</td>\n",
       "      <td>44.343533</td>\n",
       "    </tr>\n",
       "    <tr>\n",
       "      <th>2</th>\n",
       "      <td>6.442255</td>\n",
       "      <td>6.612500</td>\n",
       "      <td>44.704216</td>\n",
       "    </tr>\n",
       "    <tr>\n",
       "      <th>3</th>\n",
       "      <td>6.430344</td>\n",
       "      <td>6.500000</td>\n",
       "      <td>44.385155</td>\n",
       "    </tr>\n",
       "    <tr>\n",
       "      <th>4</th>\n",
       "      <td>6.473097</td>\n",
       "      <td>6.676000</td>\n",
       "      <td>44.537754</td>\n",
       "    </tr>\n",
       "    <tr>\n",
       "      <th>...</th>\n",
       "      <td>...</td>\n",
       "      <td>...</td>\n",
       "      <td>...</td>\n",
       "    </tr>\n",
       "    <tr>\n",
       "      <th>2511</th>\n",
       "      <td>69.835594</td>\n",
       "      <td>89.460503</td>\n",
       "      <td>136.812378</td>\n",
       "    </tr>\n",
       "    <tr>\n",
       "      <th>2512</th>\n",
       "      <td>71.221161</td>\n",
       "      <td>93.438499</td>\n",
       "      <td>136.718643</td>\n",
       "    </tr>\n",
       "    <tr>\n",
       "      <th>2513</th>\n",
       "      <td>71.194122</td>\n",
       "      <td>93.489998</td>\n",
       "      <td>136.643661</td>\n",
       "    </tr>\n",
       "    <tr>\n",
       "      <th>2514</th>\n",
       "      <td>71.616684</td>\n",
       "      <td>92.344498</td>\n",
       "      <td>136.221786</td>\n",
       "    </tr>\n",
       "    <tr>\n",
       "      <th>2515</th>\n",
       "      <td>72.139954</td>\n",
       "      <td>92.391998</td>\n",
       "      <td>136.756149</td>\n",
       "    </tr>\n",
       "  </tbody>\n",
       "</table>\n",
       "<p>2516 rows × 3 columns</p>\n",
       "</div>"
      ],
      "text/plain": [
       "           AAPL       AMZN         JNJ\n",
       "0      6.535086   6.695000   44.863743\n",
       "1      6.546385   6.734500   44.343533\n",
       "2      6.442255   6.612500   44.704216\n",
       "3      6.430344   6.500000   44.385155\n",
       "4      6.473097   6.676000   44.537754\n",
       "...         ...        ...         ...\n",
       "2511  69.835594  89.460503  136.812378\n",
       "2512  71.221161  93.438499  136.718643\n",
       "2513  71.194122  93.489998  136.643661\n",
       "2514  71.616684  92.344498  136.221786\n",
       "2515  72.139954  92.391998  136.756149\n",
       "\n",
       "[2516 rows x 3 columns]"
      ]
     },
     "execution_count": 5,
     "metadata": {},
     "output_type": "execute_result"
    }
   ],
   "source": [
    "df_data"
   ]
  },
  {
   "cell_type": "code",
   "execution_count": 17,
   "id": "f7c79fb5",
   "metadata": {},
   "outputs": [
    {
     "name": "stdout",
     "output_type": "stream",
     "text": [
      "Starting main loop...\n",
      "Exited main loop.\n",
      "Writing report and portfolio histories...\n",
      "Saved DQN model parameters under Linear_Trader_AMZN_JPM_INTC_220610.h5\n"
     ]
    }
   ],
   "source": [
    "'''\n",
    "#################################################\n",
    "### LINEAR TRADING AGENT - TRAINING ALGORITHM ###\n",
    "#################################################\n",
    "## 2022/06/10; Ahmed J Zerouali\n",
    "### Updated: 2022/06/10\n",
    "# This is the training \n",
    "## \n",
    "\n",
    "# Header\n",
    "from __future__ import print_function, division\n",
    "from builtins import range\n",
    "\n",
    "# Basic imports\n",
    "import numpy as np\n",
    "import pandas as pd\n",
    "import matplotlib.pyplot as plt\n",
    "import pandas_datareader as reader\n",
    "from tensorflow import keras\n",
    "from datetime import datetime\n",
    "\n",
    "# These imports are for the standard scaler from sklearn\n",
    "from sklearn.preprocessing import StandardScaler\n",
    "from pickle import dump, load\n",
    "\n",
    "# Import trading environment, \"linear RL trader\" and scaler construction f'n\n",
    "from Linear_RL_Trader import Trading_Env, Linear_Trader, build_scaler\n",
    "\n",
    "'''\n",
    "# if name==\"__main__\":\n",
    "# Training algorithm: Part 1 - Initializations\n",
    "if True:\n",
    "    ###########################\n",
    "    ##### INITIALIZATIONS #####\n",
    "    ###########################\n",
    "    \n",
    "    # Number of training episodes\n",
    "    n_episodes = 1\n",
    "    \n",
    "    # Init. Deep RL hyperparameters:\n",
    "    learn_rate = 0.01\n",
    "    gamma = 0.99\n",
    "    epsilon = 0.1\n",
    "    \n",
    "    # Init. filenames\n",
    "    ### NOTE: Modify filenames to not overwrite\n",
    "    model_fname = 'Linear_Trader_AMZN_JPM_INTC_220610.h5'\n",
    "    scaler_fname = 'Lin_Trader_Scaler_AMZN_JPM_INTC_220610.pkl'\n",
    "    portfolio_returns_fname = \"Returns_Hist_AMZN_JPM_INTC_220610.csv\"\n",
    "    portfolio_values_fname = \"Values_Hist_AMZN_JPM_INTC_220610.csv\"\n",
    "    \n",
    "    # Ticker list\n",
    "    '''\n",
    "    NOTE: This is very important. I intend to test the \n",
    "          trading bot on the years 2020 and 2021. I'll\n",
    "          take 'AMZN' (steady growth on test period),\n",
    "          'JPM' (hit pretty hard in 2020), and Intel\n",
    "          'INTC' which had several ups and downs.\n",
    "          The latter had the worst dip in March 2020.\n",
    "    '''\n",
    "    ticker_list = ['AMZN', 'JPM', 'INTC']\n",
    "    \n",
    "    # Training set dates\n",
    "    data_training_start = datetime(2010, 1, 1)\n",
    "    data_training_end = datetime(2019, 12, 31)\n",
    "    \n",
    "    # Load dataset\n",
    "    df_train_data = pd.read_csv(\"Training_DataSet_01_AdjClose.csv\", usecols = ticker_list)\n",
    "    \n",
    "    # Instantiate environment\n",
    "    '''\n",
    "    def __init__(self, df_data, data_start_date, data_end_date, stock_tickers,\\\n",
    "                 n_stocks, ini_cash):\n",
    "    '''\n",
    "    env = Trading_Env(df_data=df_train_data,\\\n",
    "                      data_start_date=data_training_start,\\\n",
    "                      data_end_date=data_training_end, \\\n",
    "                      stock_tickers=ticker_list,\\\n",
    "                      n_stocks = 3, ini_cash = 5000.0)\n",
    "    \n",
    "    # Build scaler and save file\n",
    "    ## The scaler resets the environment in the beginning\n",
    "    scaler_AMZN_JPM_INTC = build_scaler(env, save_scaler=True, scaler_fname = scaler_fname)\n",
    "    \n",
    "        # Instantiate linear agent\n",
    "    ## Note: The constructor initializes the Q-network weights\n",
    "    '''\n",
    "        def __init__(self, env, \\\n",
    "                 # RL hyperparameters\n",
    "                 learn_rate, gamma, epsilon, \\\n",
    "                 scaler,\n",
    "                 # Filename for model\n",
    "                 model_fname = \"Linear_Trader_001.h5\"):\n",
    "    '''\n",
    "    env.reset()\n",
    "    agent = Linear_Trader(env, learn_rate = learn_rate, gamma = gamma, epsilon = epsilon,\\\n",
    "                          scaler=scaler_AMZN_JPM_INTC, model_fname=model_fname)\n",
    "    \n",
    "    # Portfolio returns\n",
    "    portfolio_returns_hist = []\n",
    "    portfolio_values_hist = []\n",
    "    \n",
    "    # Init. timer of main loop\n",
    "    training_begin_time = datetime.now()\n",
    "    \n",
    "    #####################\n",
    "    ##### MAIN LOOP #####\n",
    "    #####################\n",
    "    \n",
    "    print(\"Starting main loop...\")\n",
    "    # Loop over episodes:\n",
    "    for episode_cntr in range(n_episodes):\n",
    "        \n",
    "        # Init. episode\n",
    "        done = False\n",
    "        portfolio_return = 0.0\n",
    "        state = env.reset()\n",
    "        \n",
    "        # Loop over steps in episodes\n",
    "        while not done:\n",
    "            \n",
    "            # Choose an action (following epsilon-greedy)\n",
    "            action = agent.choose_action(state)\n",
    "            # Get reward and next state\n",
    "            next_state, reward, done, info = env.step(action)\n",
    "            # Update score\n",
    "            portfolio_return += reward\n",
    "            \n",
    "            '''\n",
    "            train_net(self, state, action, reward, next_state, done,\\\n",
    "                  N_steps=0, ep_i=0, notify_end_train=False):\n",
    "            '''\n",
    "            # Train the model\n",
    "            agent.train_net(state, action, reward, next_state, done)\n",
    "            # Update state\n",
    "            state = next_state\n",
    "                \n",
    "            # Append portfolio return and value\n",
    "            portfolio_returns_hist.append(portfolio_return)\n",
    "            portfolio_values_hist.append(info['Portfolio Value'])\n",
    "            \n",
    "        # END while over episode steps\n",
    "\n",
    "    # END OF MAIN DQN LOOP (i over episodes) \n",
    "    print(\"Exited main loop.\")\n",
    "    \n",
    "    # Exec time of main loop\n",
    "    training_exec_time = datetime.now()-training_begin_time\n",
    "    \n",
    "    ###################################\n",
    "    ##### REPORT AND RESULT FILES #####\n",
    "    ###################################\n",
    "    \n",
    "    # New\n",
    "    print(f\"Writing report and portfolio histories...\")\n",
    "    \n",
    "    # Save portfolio returns history into a CSV (using Pandas)\n",
    "    ### NOTE: Modify the code below to clean-out output\n",
    "    df_returns = pd.DataFrame(portfolio_returns_hist, columns = ['Returns'])\n",
    "    df_returns.to_csv(portfolio_returns_fname)\n",
    "    # Compute mean, min and max of scores, added to report below.\n",
    "    returns_mean = df_returns[\"Returns\"].mean()\n",
    "    returns_max = df_returns[\"Returns\"].max()\n",
    "    returns_min = df_returns[\"Returns\"].min()\n",
    "    # Save portfolio values history into a CSV\n",
    "    df_values = pd.DataFrame(portfolio_values_hist, columns = ['Portfolio Values'])\n",
    "    df_values.to_csv(portfolio_values_fname)\n",
    "\n",
    "    # Save trained DQN model:\n",
    "    agent.save_model()\n",
    "    print(f\"Saved linear model parameters under {model_fname}\")\n",
    "\n",
    "    # Report file open\n",
    "    fname_time = datetime.now()\n",
    "    report_fname = \"Report_Lin_Trader_\"\\\n",
    "                    +str(fname_time.year-2000)+str(fname_time.month)+str(fname_time.day)\\\n",
    "                    +str(fname_time.hour)+str(fname_time.minute)+\".txt\"\n",
    "    report_file = open(report_fname, mode = \"w+\")\n",
    "    # Title\n",
    "    report_file.write(f\"Linear trading agent - {fname_time}:\\n\")\n",
    "    # Write report to file\n",
    "    report_file.write(f\"- Execution over {n_episodes} episodes over steps completed.\\n\")\n",
    "    report_file.write(f\"- Data tickers: {ticker_list}.\\n\")\n",
    "    report_file.write(f\"- Training data start date: {data_training_start}.\\n\")\n",
    "    report_file.write(f\"- Training data end date: {data_training_end}.\\n\")\n",
    "    report_file.write(f\"- Total training time: {training_exec_time}.\\n\")\n",
    "    report_file.write(f\"- Average return: {returns_mean}.\\n\")\n",
    "    report_file.write(f\"- Highest return: {returns_max}.\\n\")\n",
    "    report_file.write(f\"- Lowest return: {returns_min}.\\n\")\n",
    "    report_file.write(f\"- DRL Hypeparameters: * learn_rate = {learn_rate},\\n\")\n",
    "    report_file.write(f\"                      * gamma = {gamma},\\n\")\n",
    "    report_file.write(f\"                      * epsilon = {epsilon},\\n\")\n",
    "    report_file.write(f\"                      * Saved model filename = {model_fname}.\\n\")\n",
    "    # Close report file\n",
    "    report_file.close()"
   ]
  },
  {
   "cell_type": "code",
   "execution_count": 18,
   "id": "433a7188",
   "metadata": {},
   "outputs": [
    {
     "data": {
      "text/plain": [
       "<AxesSubplot:>"
      ]
     },
     "execution_count": 18,
     "metadata": {},
     "output_type": "execute_result"
    },
    {
     "data": {
      "image/png": "[encoded data removed]",
      "text/plain": [
       "<Figure size 432x288 with 1 Axes>"
      ]
     },
     "metadata": {
      "needs_background": "light"
     },
     "output_type": "display_data"
    }
   ],
   "source": [
    "df_returns.plot()"
   ]
  },
  {
   "cell_type": "code",
   "execution_count": 19,
   "id": "3a44088a",
   "metadata": {},
   "outputs": [
    {
     "data": {
      "text/plain": [
       "<AxesSubplot:>"
      ]
     },
     "execution_count": 19,
     "metadata": {},
     "output_type": "execute_result"
    },
    {
     "data": {
      "image/png": "[encoded data removed]",
      "text/plain": [
       "<Figure size 432x288 with 1 Axes>"
      ]
     },
     "metadata": {
      "needs_background": "light"
     },
     "output_type": "display_data"
    }
   ],
   "source": [
    "df_values.plot()"
   ]
  },
  {
   "cell_type": "markdown",
   "id": "4e3f637a",
   "metadata": {},
   "source": [
    "## Testing algorithm\n",
    "\n",
    "To test the model trained above, we use:\n",
    "\n",
    "* Stock price histories from 2020-01-01 to 2021-12-31 (as with the training data, the CSV files are created elsewhere).\n",
    "\n",
    "* The scaler and the weights obtained from the training process.\n"
   ]
  },
  {
   "cell_type": "markdown",
   "id": "2ce4a062",
   "metadata": {},
   "source": [
    "### Verifying files\n",
    "\n",
    "This is to check that the training data is loaded properly and that the StandardScaler works."
   ]
  },
  {
   "cell_type": "code",
   "execution_count": 10,
   "id": "c7e64323",
   "metadata": {},
   "outputs": [
    {
     "data": {
      "text/html": [
       "<div>\n",
       "<style scoped>\n",
       "    .dataframe tbody tr th:only-of-type {\n",
       "        vertical-align: middle;\n",
       "    }\n",
       "\n",
       "    .dataframe tbody tr th {\n",
       "        vertical-align: top;\n",
       "    }\n",
       "\n",
       "    .dataframe thead th {\n",
       "        text-align: right;\n",
       "    }\n",
       "</style>\n",
       "<table border=\"1\" class=\"dataframe\">\n",
       "  <thead>\n",
       "    <tr style=\"text-align: right;\">\n",
       "      <th></th>\n",
       "      <th>AMZN</th>\n",
       "      <th>JPM</th>\n",
       "      <th>INTC</th>\n",
       "    </tr>\n",
       "  </thead>\n",
       "  <tbody>\n",
       "    <tr>\n",
       "      <th>0</th>\n",
       "      <td>94.900497</td>\n",
       "      <td>131.047989</td>\n",
       "      <td>56.975693</td>\n",
       "    </tr>\n",
       "    <tr>\n",
       "      <th>1</th>\n",
       "      <td>93.748497</td>\n",
       "      <td>129.318619</td>\n",
       "      <td>56.282696</td>\n",
       "    </tr>\n",
       "    <tr>\n",
       "      <th>2</th>\n",
       "      <td>95.143997</td>\n",
       "      <td>129.215790</td>\n",
       "      <td>56.123493</td>\n",
       "    </tr>\n",
       "    <tr>\n",
       "      <th>3</th>\n",
       "      <td>95.343002</td>\n",
       "      <td>127.019043</td>\n",
       "      <td>55.187008</td>\n",
       "    </tr>\n",
       "    <tr>\n",
       "      <th>4</th>\n",
       "      <td>94.598503</td>\n",
       "      <td>128.009918</td>\n",
       "      <td>55.224464</td>\n",
       "    </tr>\n",
       "    <tr>\n",
       "      <th>...</th>\n",
       "      <td>...</td>\n",
       "      <td>...</td>\n",
       "      <td>...</td>\n",
       "    </tr>\n",
       "    <tr>\n",
       "      <th>500</th>\n",
       "      <td>169.669495</td>\n",
       "      <td>156.060837</td>\n",
       "      <td>51.143055</td>\n",
       "    </tr>\n",
       "    <tr>\n",
       "      <th>501</th>\n",
       "      <td>170.660995</td>\n",
       "      <td>156.534454</td>\n",
       "      <td>50.965816</td>\n",
       "    </tr>\n",
       "    <tr>\n",
       "      <th>502</th>\n",
       "      <td>169.201004</td>\n",
       "      <td>156.455521</td>\n",
       "      <td>51.034748</td>\n",
       "    </tr>\n",
       "    <tr>\n",
       "      <th>503</th>\n",
       "      <td>168.644501</td>\n",
       "      <td>156.376587</td>\n",
       "      <td>50.946129</td>\n",
       "    </tr>\n",
       "    <tr>\n",
       "      <th>504</th>\n",
       "      <td>166.716995</td>\n",
       "      <td>156.248322</td>\n",
       "      <td>50.709808</td>\n",
       "    </tr>\n",
       "  </tbody>\n",
       "</table>\n",
       "<p>505 rows × 3 columns</p>\n",
       "</div>"
      ],
      "text/plain": [
       "           AMZN         JPM       INTC\n",
       "0     94.900497  131.047989  56.975693\n",
       "1     93.748497  129.318619  56.282696\n",
       "2     95.143997  129.215790  56.123493\n",
       "3     95.343002  127.019043  55.187008\n",
       "4     94.598503  128.009918  55.224464\n",
       "..          ...         ...        ...\n",
       "500  169.669495  156.060837  51.143055\n",
       "501  170.660995  156.534454  50.965816\n",
       "502  169.201004  156.455521  51.034748\n",
       "503  168.644501  156.376587  50.946129\n",
       "504  166.716995  156.248322  50.709808\n",
       "\n",
       "[505 rows x 3 columns]"
      ]
     },
     "execution_count": 10,
     "metadata": {},
     "output_type": "execute_result"
    }
   ],
   "source": [
    "df_temp = pd.read_csv(\"Testing_DataSet_01_AdjClose.csv\", usecols = ['AMZN', 'JPM', 'INTC'])\n",
    "df_temp"
   ]
  },
  {
   "cell_type": "code",
   "execution_count": 11,
   "id": "3b7c238a",
   "metadata": {},
   "outputs": [
    {
     "data": {
      "text/plain": [
       "505"
      ]
     },
     "execution_count": 11,
     "metadata": {},
     "output_type": "execute_result"
    }
   ],
   "source": [
    "len(df_temp)"
   ]
  },
  {
   "cell_type": "code",
   "execution_count": 7,
   "id": "56992dc6",
   "metadata": {},
   "outputs": [],
   "source": [
    "temp_scaler_fname = \"Lin_Trader_Scaler_AMZN_JPM_INTC_220610.pkl\""
   ]
  },
  {
   "cell_type": "code",
   "execution_count": 5,
   "id": "356b53a6",
   "metadata": {},
   "outputs": [
    {
     "name": "stdout",
     "output_type": "stream",
     "text": [
      "Help on built-in function load in module _pickle:\n",
      "\n",
      "load(file, *, fix_imports=True, encoding='ASCII', errors='strict', buffers=())\n",
      "    Read and return an object from the pickle data stored in a file.\n",
      "    \n",
      "    This is equivalent to ``Unpickler(file).load()``, but may be more\n",
      "    efficient.\n",
      "    \n",
      "    The protocol version of the pickle is detected automatically, so no\n",
      "    protocol argument is needed.  Bytes past the pickled object's\n",
      "    representation are ignored.\n",
      "    \n",
      "    The argument *file* must have two methods, a read() method that takes\n",
      "    an integer argument, and a readline() method that requires no\n",
      "    arguments.  Both methods should return bytes.  Thus *file* can be a\n",
      "    binary file object opened for reading, an io.BytesIO object, or any\n",
      "    other custom object that meets this interface.\n",
      "    \n",
      "    Optional keyword arguments are *fix_imports*, *encoding* and *errors*,\n",
      "    which are used to control compatibility support for pickle stream\n",
      "    generated by Python 2.  If *fix_imports* is True, pickle will try to\n",
      "    map the old Python 2 names to the new names used in Python 3.  The\n",
      "    *encoding* and *errors* tell pickle how to decode 8-bit string\n",
      "    instances pickled by Python 2; these default to 'ASCII' and 'strict',\n",
      "    respectively.  The *encoding* can be 'bytes' to read these 8-bit\n",
      "    string instances as bytes objects.\n",
      "\n"
     ]
    }
   ],
   "source": [
    "help(load)"
   ]
  },
  {
   "cell_type": "code",
   "execution_count": 8,
   "id": "3d436f39",
   "metadata": {},
   "outputs": [],
   "source": [
    "temp_scaler = load(open(temp_scaler_fname, \"rb\"))"
   ]
  },
  {
   "cell_type": "code",
   "execution_count": 9,
   "id": "b319529b",
   "metadata": {},
   "outputs": [
    {
     "data": {
      "text/plain": [
       "sklearn.preprocessing._data.StandardScaler"
      ]
     },
     "execution_count": 9,
     "metadata": {},
     "output_type": "execute_result"
    }
   ],
   "source": [
    "type(temp_scaler)"
   ]
  },
  {
   "cell_type": "code",
   "execution_count": null,
   "id": "bead7bb0",
   "metadata": {},
   "outputs": [],
   "source": []
  },
  {
   "cell_type": "code",
   "execution_count": null,
   "id": "e4e828eb",
   "metadata": {},
   "outputs": [],
   "source": []
  },
  {
   "cell_type": "code",
   "execution_count": 12,
   "id": "d80e7bdb",
   "metadata": {},
   "outputs": [
    {
     "name": "stdout",
     "output_type": "stream",
     "text": [
      "Starting main loop...\n",
      "Exited main loop.\n",
      "Writing report and portfolio histories...\n"
     ]
    }
   ],
   "source": [
    "'''\n",
    "######################################\n",
    "### LINEAR TRADING AGENT - TESTING ###\n",
    "######################################\n",
    "## 2022/06/14; Ahmed J Zerouali\n",
    "### Updated: 2022/06/14\n",
    "# This is the testing script for the linear trader.\n",
    "## \n",
    "\n",
    "# Header\n",
    "from __future__ import print_function, division\n",
    "from builtins import range\n",
    "\n",
    "# Basic imports\n",
    "import numpy as np\n",
    "import pandas as pd\n",
    "import matplotlib.pyplot as plt\n",
    "from tensorflow import keras\n",
    "from datetime import datetime\n",
    "\n",
    "# These imports are for the standard scaler from sklearn\n",
    "from sklearn.preprocessing import StandardScaler\n",
    "from pickle import dump, load\n",
    "\n",
    "# Import trading environment, \"linear RL trader\" and scaler construction f'n\n",
    "from Linear_RL_Trader import Trading_Env, Linear_Trader, build_scaler\n",
    "\n",
    "'''\n",
    "# if name==\"__main__\":\n",
    "# Training algorithm: Part 1 - Initializations\n",
    "if True:\n",
    "    ###########################\n",
    "    ##### INITIALIZATIONS #####\n",
    "    ###########################\n",
    "    \n",
    "    # Number of episodes\n",
    "    n_episodes = 1\n",
    "    \n",
    "    # Init. Deep RL hyperparameters:\n",
    "    learn_rate = 0.01\n",
    "    gamma = 0.99\n",
    "    epsilon = 0.1\n",
    "    \n",
    "    # Init. filenames\n",
    "    ### NOTE: Modify filenames to not overwrite\n",
    "    model_fname = 'Linear_Trader_AMZN_JPM_INTC_220610.h5' \n",
    "    scaler_fname = 'Lin_Trader_Scaler_AMZN_JPM_INTC_220610.pkl'\n",
    "    portfolio_returns_fname = \"TEST_Returns_AMZN_JPM_INTC_220610.csv\"\n",
    "    portfolio_values_fname = \"TEST_Values_AMZN_JPM_INTC_220610.csv\"\n",
    "    \n",
    "    # Ticker list\n",
    "    '''\n",
    "    NOTE: Should be tested on other tickers\n",
    "    '''\n",
    "    ticker_list = ['AMZN', 'JPM', 'INTC']\n",
    "    \n",
    "    # Testing set dates\n",
    "    data_testing_start = datetime(2020, 1, 1)\n",
    "    data_testing_end = datetime(2021, 12, 31)\n",
    "    \n",
    "    # Load dataset\n",
    "    df_test_data = pd.read_csv(\"Testing_DataSet_01_AdjClose.csv\", usecols = ticker_list)\n",
    "    \n",
    "    # Instantiate environment\n",
    "    '''\n",
    "    def __init__(self, df_data, data_start_date, data_end_date, stock_tickers,\\\n",
    "                 n_stocks, ini_cash):\n",
    "    '''\n",
    "    env = Trading_Env(df_data=df_test_data,\\\n",
    "                      data_start_date=data_testing_start,\\\n",
    "                      data_end_date=data_testing_end, \\\n",
    "                      stock_tickers=ticker_list,\\\n",
    "                      n_stocks = 3, ini_cash = 5000.0)\n",
    "    \n",
    "    # Load trained scaler \n",
    "    scaler_AMZN_JPM_INTC = load(open(scaler_fname, \"rb\"))\n",
    "    \n",
    "    # Instantiate linear agent and load trained linear model\n",
    "    '''\n",
    "        def __init__(self, env, \\\n",
    "                 # RL hyperparameters\n",
    "                 learn_rate, gamma, epsilon, \\\n",
    "                 scaler,\n",
    "                 # Filename for model\n",
    "                 model_fname = \"Linear_Trader_001.h5\"):\n",
    "    '''\n",
    "    env.reset()\n",
    "    \n",
    "    agent = Linear_Trader(env, learn_rate = learn_rate, gamma = gamma, epsilon = epsilon,\\\n",
    "                          scaler=scaler_AMZN_JPM_INTC)\n",
    "    agent.load_model(model_fname)\n",
    "    \n",
    "    # Portfolio returns\n",
    "    portfolio_returns_hist = []\n",
    "    portfolio_values_hist = []\n",
    "    \n",
    "    # Init. timer of main loop\n",
    "    testing_begin_time = datetime.now()\n",
    "    \n",
    "    #####################\n",
    "    ##### MAIN LOOP #####\n",
    "    #####################\n",
    "    \n",
    "    print(\"Starting main loop...\")\n",
    "    # Loop over episodes:\n",
    "    for episode_cntr in range(n_episodes):\n",
    "        \n",
    "        # Init. episode\n",
    "        done = False\n",
    "        portfolio_return = 0.0\n",
    "        state = env.reset()\n",
    "        \n",
    "        # Loop over steps in episodes\n",
    "        while not done:\n",
    "            \n",
    "            # Choose an action (following epsilon-greedy)\n",
    "            action = agent.choose_action(state) # Review the policy implemented in the agent\n",
    "            # Get reward and next state\n",
    "            next_state, reward, done, info = env.step(action)\n",
    "            # Update score\n",
    "            portfolio_return += reward\n",
    "            # Update state\n",
    "            state = next_state\n",
    "                \n",
    "            # Append portfolio return and value\n",
    "            portfolio_returns_hist.append(portfolio_return)\n",
    "            portfolio_values_hist.append(info['Portfolio Value'])\n",
    "            \n",
    "        # END while over episode steps\n",
    "\n",
    "    # END OF MAIN TESTING LOOP (i over episodes) \n",
    "    print(\"Exited main loop.\")\n",
    "    \n",
    "    # Exec time of main loop\n",
    "    testing_exec_time = datetime.now()-testing_begin_time\n",
    "    \n",
    "    ###################################\n",
    "    ##### REPORT AND RESULT FILES #####\n",
    "    ###################################\n",
    "    \n",
    "    # New\n",
    "    print(f\"Writing report and portfolio histories...\")\n",
    "    \n",
    "    # Save portfolio returns history into a CSV (using Pandas)\n",
    "    ### NOTE: Modify the code below to clean-out output\n",
    "    df_returns = pd.DataFrame(portfolio_returns_hist, columns = ['Returns'])\n",
    "    df_returns.to_csv(portfolio_returns_fname)\n",
    "    # Compute mean, min and max of scores, added to report below.\n",
    "    returns_mean = df_returns[\"Returns\"].mean()\n",
    "    returns_max = df_returns[\"Returns\"].max()\n",
    "    returns_min = df_returns[\"Returns\"].min()\n",
    "    # Save portfolio values history into a CSV\n",
    "    df_values = pd.DataFrame(portfolio_values_hist, columns = ['Portfolio Values'])\n",
    "    df_values.to_csv(portfolio_values_fname)\n",
    "\n",
    "    # Report file open\n",
    "    fname_time = datetime.now()\n",
    "    report_fname = \"TEST_Rprt_Lin_Trader_\"\\\n",
    "                    +str(fname_time.year-2000)+str(fname_time.month)+str(fname_time.day)\\\n",
    "                    +str(fname_time.hour)+str(fname_time.minute)+\".txt\"\n",
    "    report_file = open(report_fname, mode = \"w+\")\n",
    "    # Title\n",
    "    report_file.write(f\"Linear trading agent TEST MODE - {fname_time}:\\n\")\n",
    "    # Write report to file\n",
    "    report_file.write(f\"- Execution over {n_episodes} episodes of {len(df_values)} days.\\n\")\n",
    "    report_file.write(f\"- Weights of Linear Trader used: {model_fname}.\\n\")\n",
    "    report_file.write(f\"- Data tickers: {ticker_list}.\\n\")\n",
    "    report_file.write(f\"- Test data start date: {data_testing_start}.\\n\")\n",
    "    report_file.write(f\"- Test data end date: {data_testing_end}.\\n\")\n",
    "    report_file.write(f\"- Total runtime: {testing_exec_time}.\\n\")\n",
    "    report_file.write(f\"- Average return: {returns_mean}.\\n\")\n",
    "    report_file.write(f\"- Highest return: {returns_max}.\\n\")\n",
    "    report_file.write(f\"- Lowest return: {returns_min}.\\n\")\n",
    "    report_file.write(f\"- DRL Hypeparameters: * learn_rate = {learn_rate},\\n\")\n",
    "    report_file.write(f\"                      * gamma = {gamma},\\n\")\n",
    "    report_file.write(f\"                      * epsilon = {epsilon},\\n\")\n",
    "    # Close report file\n",
    "    report_file.close()"
   ]
  },
  {
   "cell_type": "code",
   "execution_count": 13,
   "id": "a971c29f",
   "metadata": {},
   "outputs": [
    {
     "data": {
      "text/plain": [
       "<AxesSubplot:>"
      ]
     },
     "execution_count": 13,
     "metadata": {},
     "output_type": "execute_result"
    },
    {
     "data": {
      "image/png": "[encoded data removed]",
      "text/plain": [
       "<Figure size 432x288 with 1 Axes>"
      ]
     },
     "metadata": {
      "needs_background": "light"
     },
     "output_type": "display_data"
    }
   ],
   "source": [
    "df_returns.plot()"
   ]
  },
  {
   "cell_type": "markdown",
   "id": "9aff63d4",
   "metadata": {},
   "source": [
    "A really bad first performance..."
   ]
  },
  {
   "cell_type": "markdown",
   "id": "cb52a38a",
   "metadata": {},
   "source": [
    "### Using optimal actions\n",
    "\n",
    "The previous test used the $\\varepsilon$-greedy policy to compute the actions. The code below doesn't call the choose_action() method of the agent, and instead computes the optimal action."
   ]
  },
  {
   "cell_type": "code",
   "execution_count": 6,
   "id": "26c55c1c",
   "metadata": {},
   "outputs": [],
   "source": [
    "def argmax_policy(agent, state):\n",
    "    '''\n",
    "        Function that computes optimal action from a trained (linear) Q-network.\n",
    "        ARGUMENTS: - agent: Linear_Trader() object with trained Q-network\n",
    "                   - state: Current state to evaluate Q-value\n",
    "        OUTPUT:    - action: Action that is the argmax of the Q-values.\n",
    "    '''\n",
    "    state_ = agent.scaler.transform(state.reshape(1,-1))\n",
    "    q_eval = agent.q_net.predict(state_)\n",
    "    action = np.argmax(q_eval)\n",
    "    \n",
    "    return action"
   ]
  },
  {
   "cell_type": "code",
   "execution_count": 7,
   "id": "5e37f869",
   "metadata": {},
   "outputs": [
    {
     "name": "stdout",
     "output_type": "stream",
     "text": [
      "Starting main loop...\n",
      "Exited main loop.\n",
      "Writing report and portfolio histories...\n"
     ]
    }
   ],
   "source": [
    "'''\n",
    "######################################\n",
    "### LINEAR TRADING AGENT - TESTING ###\n",
    "######################################\n",
    "## 2022/06/14; Ahmed J Zerouali\n",
    "### Updated: 2022/06/14\n",
    "# This is the testing script for the linear trader.\n",
    "## \n",
    "\n",
    "# Header\n",
    "from __future__ import print_function, division\n",
    "from builtins import range\n",
    "\n",
    "# Basic imports\n",
    "import numpy as np\n",
    "import pandas as pd\n",
    "import matplotlib.pyplot as plt\n",
    "from tensorflow import keras\n",
    "from datetime import datetime\n",
    "\n",
    "# These imports are for the standard scaler from sklearn\n",
    "from sklearn.preprocessing import StandardScaler\n",
    "from pickle import dump, load\n",
    "\n",
    "# Import trading environment, \"linear RL trader\" and scaler construction f'n\n",
    "from Linear_RL_Trader import Trading_Env, Linear_Trader, build_scaler\n",
    "\n",
    "'''\n",
    "# if name==\"__main__\":\n",
    "# Training algorithm: Part 1 - Initializations\n",
    "if True:\n",
    "    ###########################\n",
    "    ##### INITIALIZATIONS #####\n",
    "    ###########################\n",
    "    \n",
    "    # Number of episodes\n",
    "    n_episodes = 1\n",
    "    \n",
    "    # Init. Deep RL hyperparameters:\n",
    "    learn_rate = 0.01\n",
    "    gamma = 0.99\n",
    "    epsilon = 0.1\n",
    "    \n",
    "    # Init. filenames\n",
    "    ### NOTE: Modify filenames to not overwrite\n",
    "    model_fname = 'Linear_Trader_AMZN_JPM_INTC_220610.h5' \n",
    "    scaler_fname = 'Lin_Trader_Scaler_AMZN_JPM_INTC_220610.pkl'\n",
    "    portfolio_returns_fname = \"TEST_Returns_AMZN_JPM_INTC_220610.csv\"\n",
    "    portfolio_values_fname = \"TEST_Values_AMZN_JPM_INTC_220610.csv\"\n",
    "    \n",
    "    # Ticker list\n",
    "    '''\n",
    "    NOTE: Should be tested on other tickers\n",
    "    '''\n",
    "    ticker_list = ['AMZN', 'JPM', 'INTC']\n",
    "    \n",
    "    # Testing set dates\n",
    "    data_testing_start = datetime(2020, 1, 1)\n",
    "    data_testing_end = datetime(2021, 12, 31)\n",
    "    \n",
    "    # Load dataset\n",
    "    df_test_data = pd.read_csv(\"Testing_DataSet_01_AdjClose.csv\", usecols = ticker_list)\n",
    "    \n",
    "    # Instantiate environment\n",
    "    '''\n",
    "    def __init__(self, df_data, data_start_date, data_end_date, stock_tickers,\\\n",
    "                 n_stocks, ini_cash):\n",
    "    '''\n",
    "    env = Trading_Env(df_data=df_test_data,\\\n",
    "                      data_start_date=data_testing_start,\\\n",
    "                      data_end_date=data_testing_end, \\\n",
    "                      stock_tickers=ticker_list,\\\n",
    "                      n_stocks = 3, ini_cash = 5000.0)\n",
    "    \n",
    "    # Load trained scaler \n",
    "    scaler_AMZN_JPM_INTC = load(open(scaler_fname, \"rb\"))\n",
    "    \n",
    "    # Instantiate linear agent and load trained linear model\n",
    "    '''\n",
    "        def __init__(self, env, \\\n",
    "                 # RL hyperparameters\n",
    "                 learn_rate, gamma, epsilon, \\\n",
    "                 scaler,\n",
    "                 # Filename for model\n",
    "                 model_fname = \"Linear_Trader_001.h5\"):\n",
    "    '''\n",
    "    env.reset()\n",
    "    \n",
    "    agent = Linear_Trader(env, learn_rate = learn_rate, gamma = gamma, epsilon = epsilon,\\\n",
    "                          scaler=scaler_AMZN_JPM_INTC)\n",
    "    agent.load_model(model_fname)\n",
    "    \n",
    "    # Portfolio returns\n",
    "    portfolio_returns_hist = []\n",
    "    portfolio_values_hist = []\n",
    "    \n",
    "    # Init. timer of main loop\n",
    "    testing_begin_time = datetime.now()\n",
    "    \n",
    "    #####################\n",
    "    ##### MAIN LOOP #####\n",
    "    #####################\n",
    "    \n",
    "    print(\"Starting main loop...\")\n",
    "    # Loop over episodes:\n",
    "    for episode_cntr in range(n_episodes):\n",
    "        \n",
    "        # Init. episode\n",
    "        done = False\n",
    "        portfolio_return = 0.0\n",
    "        state = env.reset()\n",
    "        \n",
    "        # Loop over steps in episodes\n",
    "        while not done:\n",
    "            \n",
    "            # Choose an action (using argmax of Q-values)\n",
    "            action = argmax_policy(agent, state)\n",
    "            # Get reward and next state\n",
    "            next_state, reward, done, info = env.step(action)\n",
    "            # Update score\n",
    "            portfolio_return += reward\n",
    "            # Update state\n",
    "            state = next_state\n",
    "                \n",
    "            # Append portfolio return and value\n",
    "            portfolio_returns_hist.append(portfolio_return)\n",
    "            portfolio_values_hist.append(info['Portfolio Value'])\n",
    "            \n",
    "        # END while over episode steps\n",
    "\n",
    "    # END OF MAIN TESTING LOOP (i over episodes) \n",
    "    print(\"Exited main loop.\")\n",
    "    \n",
    "    # Exec time of main loop\n",
    "    testing_exec_time = datetime.now()-testing_begin_time\n",
    "    \n",
    "    ###################################\n",
    "    ##### REPORT AND RESULT FILES #####\n",
    "    ###################################\n",
    "    \n",
    "    # New\n",
    "    print(f\"Writing report and portfolio histories...\")\n",
    "    \n",
    "    # Save portfolio returns history into a CSV (using Pandas)\n",
    "    ### NOTE: Modify the code below to clean-out output\n",
    "    df_returns = pd.DataFrame(portfolio_returns_hist, columns = ['Returns'])\n",
    "    df_returns.to_csv(portfolio_returns_fname)\n",
    "    # Compute mean, min and max of scores, added to report below.\n",
    "    returns_mean = df_returns[\"Returns\"].mean()\n",
    "    returns_max = df_returns[\"Returns\"].max()\n",
    "    returns_min = df_returns[\"Returns\"].min()\n",
    "    # Save portfolio values history into a CSV\n",
    "    df_values = pd.DataFrame(portfolio_values_hist, columns = ['Portfolio Values'])\n",
    "    df_values.to_csv(portfolio_values_fname)\n",
    "\n",
    "    # Report file open\n",
    "    fname_time = datetime.now()\n",
    "    report_fname = \"TEST_Rprt_Lin_Trader_\"\\\n",
    "                    +str(fname_time.year-2000)+str(fname_time.month)+str(fname_time.day)\\\n",
    "                    +str(fname_time.hour)+str(fname_time.minute)+\".txt\"\n",
    "    report_file = open(report_fname, mode = \"w+\")\n",
    "    # Title\n",
    "    report_file.write(f\"Linear trading agent TEST MODE - {fname_time}:\\n\")\n",
    "    # Write report to file\n",
    "    report_file.write(f\"- Execution over {n_episodes} episodes of {len(df_values)} days.\\n\")\n",
    "    report_file.write(f\"- Weights of Linear Trader used: {model_fname}.\\n\")\n",
    "    report_file.write(f\"- Data tickers: {ticker_list}.\\n\")\n",
    "    report_file.write(f\"- Test data start date: {data_testing_start}.\\n\")\n",
    "    report_file.write(f\"- Test data end date: {data_testing_end}.\\n\")\n",
    "    report_file.write(f\"- Total runtime: {testing_exec_time}.\\n\")\n",
    "    report_file.write(f\"- Average return: {returns_mean}.\\n\")\n",
    "    report_file.write(f\"- Highest return: {returns_max}.\\n\")\n",
    "    report_file.write(f\"- Lowest return: {returns_min}.\\n\")\n",
    "    report_file.write(f\"- DRL Hypeparameters: * learn_rate = {learn_rate},\\n\")\n",
    "    report_file.write(f\"                      * gamma = {gamma},\\n\")\n",
    "    report_file.write(f\"                      * epsilon = {epsilon},\\n\")\n",
    "    # Close report file\n",
    "    report_file.close()"
   ]
  },
  {
   "cell_type": "code",
   "execution_count": 8,
   "id": "f4f44caa",
   "metadata": {},
   "outputs": [
    {
     "data": {
      "text/plain": [
       "<AxesSubplot:>"
      ]
     },
     "execution_count": 8,
     "metadata": {},
     "output_type": "execute_result"
    },
    {
     "data": {
      "image/png": "[encoded data removed]",
      "text/plain": [
       "<Figure size 432x288 with 1 Axes>"
      ]
     },
     "metadata": {
      "needs_background": "light"
     },
     "output_type": "display_data"
    }
   ],
   "source": [
    "df_returns.plot()"
   ]
  },
  {
   "cell_type": "markdown",
   "id": "30b2ddc4",
   "metadata": {},
   "source": [
    "This agent still gets obliterated during 2020, and doesn't even recover the initial cash. Sad AF."
   ]
  },
  {
   "cell_type": "code",
   "execution_count": null,
   "id": "2bcb44b3",
   "metadata": {},
   "outputs": [],
   "source": []
  },
  {
   "cell_type": "code",
   "execution_count": null,
   "id": "6203d3bd",
   "metadata": {},
   "outputs": [],
   "source": []
  },
  {
   "cell_type": "code",
   "execution_count": null,
   "id": "9d5df7ee",
   "metadata": {},
   "outputs": [],
   "source": []
  },
  {
   "cell_type": "code",
   "execution_count": null,
   "id": "90263535",
   "metadata": {},
   "outputs": [],
   "source": []
  },
  {
   "cell_type": "code",
   "execution_count": null,
   "id": "6d94f412",
   "metadata": {},
   "outputs": [],
   "source": []
  },
  {
   "cell_type": "code",
   "execution_count": null,
   "id": "5d5b005e",
   "metadata": {},
   "outputs": [],
   "source": []
  },
  {
   "cell_type": "code",
   "execution_count": null,
   "id": "a4e4d457",
   "metadata": {},
   "outputs": [],
   "source": []
  },
  {
   "cell_type": "code",
   "execution_count": null,
   "id": "da2d5cff",
   "metadata": {},
   "outputs": [],
   "source": []
  },
  {
   "cell_type": "markdown",
   "id": "95584dc8",
   "metadata": {},
   "source": [
    "## Training Algorithm - Scrap"
   ]
  },
  {
   "cell_type": "markdown",
   "id": "f19301ba",
   "metadata": {},
   "source": [
    "### Training Algorithm - Part 1"
   ]
  },
  {
   "cell_type": "code",
   "execution_count": 6,
   "id": "a278707e",
   "metadata": {},
   "outputs": [],
   "source": [
    "'''\n",
    "#################################################\n",
    "### LINEAR TRADING AGENT - TRAINING ALGORITHM ###\n",
    "#################################################\n",
    "## 2022/06/10; Ahmed J Zerouali\n",
    "### Updated: 2022/06/10\n",
    "# This is the training \n",
    "## \n",
    "\n",
    "# Header\n",
    "from __future__ import print_function, division\n",
    "from builtins import range\n",
    "\n",
    "# Basic imports\n",
    "import numpy as np\n",
    "import pandas as pd\n",
    "import matplotlib.pyplot as plt\n",
    "import pandas_datareader as reader\n",
    "from tensorflow import keras\n",
    "from datetime import datetime\n",
    "\n",
    "# These imports are for the standard scaler from sklearn\n",
    "from sklearn.preprocessing import StandardScaler\n",
    "from pickle import dump, load\n",
    "\n",
    "# Import trading environment, \"linear RL trader\" and scaler construction f'n\n",
    "from Linear_RL_Trader import Trading_Env, Linear_Trader, build_scaler\n",
    "\n",
    "'''\n",
    "# if name==\"__main__\":\n",
    "# Training algorithm: Part 1 - Initializations\n",
    "if True:\n",
    "    # Number of training episodes\n",
    "    n_episodes = 1\n",
    "    \n",
    "    # Init. Deep RL hyperparameters:\n",
    "    learn_rate = 0.01\n",
    "    gamma = 0.99\n",
    "    epsilon = 0.1\n",
    "    \n",
    "    # Init. filenames\n",
    "    ### NOTE: Modify filenames to not overwrite\n",
    "    model_fname = 'Linear_Trader_AMZN_JPM_INTC_220610.h5'\n",
    "    scaler_fname = 'Lin_Trader_Scaler_AMZN_JPM_INTC_220610.pkl'\n",
    "    portfolio_returns_fname = \"Returns_Hist_AMZN_JPM_INTC_220610.csv\"\n",
    "    portfolio_values_fname = \"Values_Hist_AMZN_JPM_INTC_220610.csv\"\n",
    "    \n",
    "    # Ticker list\n",
    "    '''\n",
    "    NOTE: This is very important. I intend to test the \n",
    "          trading bot on the years 2020 and 2021. I'll\n",
    "          take 'AMZN' (steady growth on test period),\n",
    "          'JPM' (hit pretty hard in 2020), and Intel\n",
    "          'INTC' which had several ups and downs.\n",
    "          The latter had the worst dip in March 2020.\n",
    "    '''\n",
    "    ticker_list = ['AMZN', 'JPM', 'INTC']\n",
    "    \n",
    "    # Training set dates\n",
    "    data_training_start = datetime(2010, 1, 1)\n",
    "    data_training_end = datetime(2019, 12, 31)\n",
    "    \n",
    "    # Load dataset\n",
    "    df_train_data = pd.read_csv(\"Training_DataSet_01_AdjClose.csv\", usecols = ticker_list)\n",
    "    \n",
    "    # Instantiate environment\n",
    "    '''\n",
    "    def __init__(self, df_data, data_start_date, data_end_date, stock_tickers,\\\n",
    "                 n_stocks, ini_cash):\n",
    "    '''\n",
    "    env = Trading_Env(df_data=df_train_data,\\\n",
    "                      data_start_date=data_training_start,\\\n",
    "                      data_end_date=data_training_end, \\\n",
    "                      stock_tickers=ticker_list,\\\n",
    "                      n_stocks = 3, ini_cash = 5000.0)\n",
    "    \n",
    "    # Build scaler and save file\n",
    "    ## The scaler resets the environment in the beginning\n",
    "    scaler_AMZN_JPM_INTC = build_scaler(env, save_scaler=True, scaler_fname = scaler_fname)\n",
    "    \n",
    "    \n"
   ]
  },
  {
   "cell_type": "markdown",
   "id": "3674c237",
   "metadata": {},
   "source": [
    "### Training Algorithm - Part 1"
   ]
  },
  {
   "cell_type": "code",
   "execution_count": 8,
   "id": "b26d5256",
   "metadata": {},
   "outputs": [
    {
     "name": "stdout",
     "output_type": "stream",
     "text": [
      "Starting main loop...\n",
      "Exited main loop.\n"
     ]
    }
   ],
   "source": [
    "# Training algorithm: Part 2 - Agent and main loop\n",
    "if True:\n",
    "    # Instantiate linear agent\n",
    "    ## Note: The constructor initializes the Q-network weights\n",
    "    '''\n",
    "        def __init__(self, env, \\\n",
    "                 # RL hyperparameters\n",
    "                 learn_rate, gamma, epsilon, \\\n",
    "                 scaler,\n",
    "                 # Filename for model\n",
    "                 model_fname = \"Linear_Trader_001.h5\"):\n",
    "    '''\n",
    "    env.reset()\n",
    "    agent = Linear_Trader(env, learn_rate = learn_rate, gamma = gamma, epsilon = epsilon,\\\n",
    "                          scaler=scaler_AMZN_JPM_INTC, model_fname= model_fname)\n",
    "    \n",
    "    # Portfolio returns\n",
    "    portfolio_returns_hist = []\n",
    "    portfolio_values_hist = []\n",
    "    \n",
    "    # Init. timer of main loop\n",
    "    training_begin_time = datetime.now()\n",
    "    \n",
    "    print(\"Starting main loop...\")\n",
    "    # Loop over episodes:\n",
    "    for episode_cntr in range(n_episodes):\n",
    "        \n",
    "        # Init. episode\n",
    "        done = False\n",
    "        portfolio_return = 0.0\n",
    "        state = env.reset()\n",
    "        \n",
    "        # Loop over steps in episodes\n",
    "        while not done:\n",
    "            \n",
    "            # Choose an action (following epsilon-greedy)\n",
    "            action = agent.choose_action(state)\n",
    "            # Get reward and next state\n",
    "            next_state, reward, done, info = env.step(action)\n",
    "            # Update score\n",
    "            portfolio_return += reward\n",
    "            \n",
    "            '''\n",
    "            train_net(self, state, action, reward, next_state, done,\\\n",
    "                  N_steps=0, ep_i=0, notify_end_train=False):\n",
    "            '''\n",
    "            # Train the model\n",
    "            agent.train_net(state, action, reward, next_state, done)\n",
    "            # Update state\n",
    "            state = next_state\n",
    "                \n",
    "            # Append portfolio return and value\n",
    "            portfolio_returns_hist.append(portfolio_return)\n",
    "            portfolio_values_hist.append(info['Portfolio Value'])\n",
    "            \n",
    "        # END while over episode steps\n",
    "\n",
    "    # END OF MAIN DQN LOOP (i over episodes) \n",
    "    print(\"Exited main loop.\")\n",
    "    \n",
    "    # Exec time of main loop\n",
    "    training_exec_time = datetime.now()-training_begin_time"
   ]
  },
  {
   "cell_type": "markdown",
   "id": "5a36d272",
   "metadata": {},
   "source": [
    "#### Training Part 2 debug"
   ]
  },
  {
   "cell_type": "code",
   "execution_count": 38,
   "id": "3965497c",
   "metadata": {},
   "outputs": [],
   "source": [
    "state = env.reset()"
   ]
  },
  {
   "cell_type": "code",
   "execution_count": 39,
   "id": "95896abb",
   "metadata": {},
   "outputs": [],
   "source": [
    "agent = Linear_Trader(env, learn_rate = learn_rate, gamma = gamma, epsilon = epsilon,\\\n",
    "                          scaler=scaler_AMZN_JPM_INTC, model_fname=model_fname)"
   ]
  },
  {
   "cell_type": "code",
   "execution_count": 40,
   "id": "484d3ae7",
   "metadata": {},
   "outputs": [
    {
     "name": "stdout",
     "output_type": "stream",
     "text": [
      "Model: \"sequential_2\"\n",
      "_________________________________________________________________\n",
      "Layer (type)                 Output Shape              Param #   \n",
      "=================================================================\n",
      "dense_2 (Dense)              (None, 27)                216       \n",
      "=================================================================\n",
      "Total params: 216\n",
      "Trainable params: 216\n",
      "Non-trainable params: 0\n",
      "_________________________________________________________________\n"
     ]
    }
   ],
   "source": [
    "agent.q_net.summary()"
   ]
  },
  {
   "cell_type": "code",
   "execution_count": 22,
   "id": "26d2d1a2",
   "metadata": {},
   "outputs": [
    {
     "data": {
      "text/plain": [
       "sklearn.preprocessing._data.StandardScaler"
      ]
     },
     "execution_count": 22,
     "metadata": {},
     "output_type": "execute_result"
    }
   ],
   "source": [
    "type(scaler_AMZN_JPM_INTC)"
   ]
  },
  {
   "cell_type": "code",
   "execution_count": 30,
   "id": "961e1227",
   "metadata": {},
   "outputs": [],
   "source": [
    "s = state.reshape(1, -1)"
   ]
  },
  {
   "cell_type": "code",
   "execution_count": 31,
   "id": "e302528c",
   "metadata": {},
   "outputs": [
    {
     "data": {
      "text/plain": [
       "(1, 7)"
      ]
     },
     "execution_count": 31,
     "metadata": {},
     "output_type": "execute_result"
    }
   ],
   "source": [
    "s.shape"
   ]
  },
  {
   "cell_type": "code",
   "execution_count": 25,
   "id": "a103ca15",
   "metadata": {},
   "outputs": [
    {
     "data": {
      "text/plain": [
       "array([[   6.695   ,   31.292093,   14.35307 ,    0.      ,    0.      ,\n",
       "           0.      , 5000.      ]], dtype=float32)"
      ]
     },
     "execution_count": 25,
     "metadata": {},
     "output_type": "execute_result"
    }
   ],
   "source": [
    "s"
   ]
  },
  {
   "cell_type": "code",
   "execution_count": 32,
   "id": "bb901b8f",
   "metadata": {},
   "outputs": [
    {
     "name": "stdout",
     "output_type": "stream",
     "text": [
      "[[-1516.6075    -756.3926    1640.9608     111.135414  1085.4803\n",
      "    683.68304    767.20074    949.351     1042.2288    -648.90967\n",
      "   -320.77634  -1222.0979     266.6899   -1113.4485    1168.9121\n",
      "  -1025.9003    -925.54425   1321.2301    -283.69086    854.8762\n",
      "   1879.3054    1349.2998   -2015.4843   -1150.6835    1280.0677\n",
      "   1651.6409    1882.1427  ]]\n"
     ]
    }
   ],
   "source": [
    "y = agent.q_net.predict(s)\n",
    "print(y)"
   ]
  },
  {
   "cell_type": "code",
   "execution_count": 33,
   "id": "c7c71054",
   "metadata": {},
   "outputs": [],
   "source": [
    "a = agent.choose_action(state)"
   ]
  },
  {
   "cell_type": "code",
   "execution_count": 35,
   "id": "bab5a63d",
   "metadata": {},
   "outputs": [],
   "source": [
    "a = np.argmax(y)"
   ]
  },
  {
   "cell_type": "code",
   "execution_count": 42,
   "id": "d5be973d",
   "metadata": {},
   "outputs": [
    {
     "data": {
      "text/plain": [
       "26"
      ]
     },
     "execution_count": 42,
     "metadata": {},
     "output_type": "execute_result"
    }
   ],
   "source": [
    "a"
   ]
  },
  {
   "cell_type": "code",
   "execution_count": null,
   "id": "08de7cef",
   "metadata": {},
   "outputs": [],
   "source": []
  },
  {
   "cell_type": "code",
   "execution_count": 43,
   "id": "fea2741d",
   "metadata": {},
   "outputs": [],
   "source": [
    "# start anew\n",
    "state = env.reset()\n"
   ]
  },
  {
   "cell_type": "code",
   "execution_count": 44,
   "id": "ea22a59e",
   "metadata": {},
   "outputs": [],
   "source": [
    "# choose some action\n",
    "action = agent.choose_action(state)"
   ]
  },
  {
   "cell_type": "code",
   "execution_count": 45,
   "id": "ca9973cc",
   "metadata": {},
   "outputs": [],
   "source": [
    "# take one step in the environment\n",
    "next_state, reward, done, info = env.step(action)"
   ]
  },
  {
   "cell_type": "code",
   "execution_count": 51,
   "id": "c57fa874",
   "metadata": {},
   "outputs": [],
   "source": [
    "self = agent"
   ]
  },
  {
   "cell_type": "code",
   "execution_count": 55,
   "id": "bed0057b",
   "metadata": {},
   "outputs": [
    {
     "name": "stdout",
     "output_type": "stream",
     "text": [
      "1/1 [==============================] - 0s 366ms/step - loss: 1.2766e-06\n"
     ]
    }
   ],
   "source": [
    "# Write the SGD lines here\n",
    "#self = agent\n",
    "\n",
    "if True:\n",
    "    if True:\n",
    "        \n",
    "        # Scale and reshape the vectors\n",
    "        state_ = self.scaler.transform(state.reshape(1,-1))\n",
    "        next_state_ = self.scaler.transform(next_state.reshape(1,-1))\n",
    "        \n",
    "        # Q-value estimates\n",
    "        q_eval = self.q_net.predict(state_)\n",
    "        q_next = self.q_net.predict(next_state_)\n",
    "        \n",
    "        # TD target(be careful if done=True)\n",
    "        y = reward +self.gamma*np.max(q_next)*(1-int(done))\n",
    "        \n",
    "        # Target vector for q_net\n",
    "        q_target = np.copy(q_eval)\n",
    "        \n",
    "        q_target[0, action] = y\n",
    "        \n",
    "        # Fit the network using keras.models.Sequential.fit(x,y, batch_size = 32, epochs=10)\n",
    "        self.q_net.fit(state_, q_target, batch_size =1)"
   ]
  },
  {
   "cell_type": "code",
   "execution_count": 52,
   "id": "0a180496",
   "metadata": {},
   "outputs": [
    {
     "data": {
      "text/plain": [
       "__main__.Linear_Trader"
      ]
     },
     "execution_count": 52,
     "metadata": {},
     "output_type": "execute_result"
    }
   ],
   "source": [
    "type(self)"
   ]
  },
  {
   "cell_type": "code",
   "execution_count": 54,
   "id": "5a3a50e6",
   "metadata": {},
   "outputs": [
    {
     "data": {
      "text/plain": [
       "array([[ 0.13210428, -1.0274603 , -1.0875236 , -0.9947315 , -0.33344615,\n",
       "        -0.39982942,  0.5237755 ,  0.27439788,  0.18765172,  0.1442462 ,\n",
       "         0.00143705,  0.6538875 , -0.33529076,  0.29399344,  0.85255927,\n",
       "        -0.39713565,  0.07512357, -0.28237015, -0.20032835,  0.16064115,\n",
       "         0.23555657,  0.41537416, -0.24229307, -0.32474297,  0.8791065 ,\n",
       "         0.31413463, -0.26585057]], dtype=float32)"
      ]
     },
     "execution_count": 54,
     "metadata": {},
     "output_type": "execute_result"
    }
   ],
   "source": [
    "self.q_net.predict(state_)"
   ]
  },
  {
   "cell_type": "code",
   "execution_count": null,
   "id": "52e60704",
   "metadata": {},
   "outputs": [],
   "source": []
  },
  {
   "cell_type": "code",
   "execution_count": null,
   "id": "4e8984c2",
   "metadata": {},
   "outputs": [],
   "source": []
  },
  {
   "cell_type": "code",
   "execution_count": 9,
   "id": "c59e387d",
   "metadata": {},
   "outputs": [],
   "source": [
    "# Exec time of main loop\n",
    "training_exec_time = datetime.now()-training_begin_time"
   ]
  },
  {
   "cell_type": "code",
   "execution_count": 11,
   "id": "13600827",
   "metadata": {},
   "outputs": [
    {
     "name": "stdout",
     "output_type": "stream",
     "text": [
      "0:05:39.994000\n"
     ]
    }
   ],
   "source": [
    "print(training_exec_time)"
   ]
  },
  {
   "cell_type": "code",
   "execution_count": 14,
   "id": "3bb55b36",
   "metadata": {},
   "outputs": [
    {
     "name": "stdout",
     "output_type": "stream",
     "text": [
      "Writing report and portfolio histories...\n",
      "Saved DQN model parameters under Linear_Trader_AMZN_JPM_INTC_220610.h5\n"
     ]
    }
   ],
   "source": [
    "# Training algorithm: Part 3 - Report\n",
    "if True:\n",
    "    # New\n",
    "    print(f\"Writing report and portfolio histories...\")\n",
    "    \n",
    "\n",
    "    # Save portfolio returns history into a CSV (using Pandas)\n",
    "    ### NOTE: Modify the code below to clean-out output\n",
    "    df_returns = pd.DataFrame(portfolio_returns_hist, columns = ['Returns'])\n",
    "    df_returns.to_csv(portfolio_returns_fname)\n",
    "    # Compute mean, min and max of scores, added to report below.\n",
    "    returns_mean = df_returns[\"Returns\"].mean()\n",
    "    returns_max = df_returns[\"Returns\"].max()\n",
    "    returns_min = df_returns[\"Returns\"].min()\n",
    "    # Save portfolio values history into a CSV\n",
    "    df_values = pd.DataFrame(portfolio_values_hist, columns = ['Portfolio Values'])\n",
    "    df_values.to_csv(portfolio_values_fname)\n",
    "\n",
    "    # Save trained DQN model:\n",
    "    agent.save_model()\n",
    "    print(f\"Saved DQN model parameters under {model_fname}\")\n",
    "\n",
    "    # Report file open\n",
    "    fname_time = datetime.now()\n",
    "    report_fname = \"Report_Lin_Trader\"\\\n",
    "                    +str(fname_time.year-2000)+str(fname_time.month)+str(fname_time.day)\\\n",
    "                    +str(fname_time.hour)+str(fname_time.minute)+\".txt\"\n",
    "    report_file = open(report_fname, mode = \"w+\")\n",
    "    # Title\n",
    "    report_file.write(f\"Linear trading agent - {fname_time}:\\n\")\n",
    "    # Write report to file\n",
    "    report_file.write(f\"- Execution over {n_episodes} episodes over steps completed.\\n\")\n",
    "    report_file.write(f\"- Data tickers: {ticker_list}.\\n\")\n",
    "    report_file.write(f\"- Training data start date: {data_training_start}.\\n\")\n",
    "    report_file.write(f\"- Training data end date: {data_training_end}.\\n\")\n",
    "    report_file.write(f\"- Total training time: {training_exec_time}.\\n\")\n",
    "    report_file.write(f\"- Average return: {returns_mean}.\\n\")\n",
    "    report_file.write(f\"- Highest return: {returns_max}.\\n\")\n",
    "    report_file.write(f\"- Lowest return: {returns_min}.\\n\")\n",
    "    report_file.write(f\"- DRL Hypeparameters: * learn_rate = {learn_rate},\\n\")\n",
    "    report_file.write(f\"                      * gamma = {gamma},\\n\")\n",
    "    report_file.write(f\"                      * epsilon = {epsilon},\\n\")\n",
    "    report_file.write(f\"                      * Saved model filename = {model_fname}.\\n\")\n",
    "    # Close report file\n",
    "    report_file.close()"
   ]
  },
  {
   "cell_type": "code",
   "execution_count": 15,
   "id": "ca44df5e",
   "metadata": {},
   "outputs": [
    {
     "data": {
      "text/plain": [
       "<AxesSubplot:>"
      ]
     },
     "execution_count": 15,
     "metadata": {},
     "output_type": "execute_result"
    },
    {
     "data": {
      "image/png": "[encoded data removed]",
      "text/plain": [
       "<Figure size 432x288 with 1 Axes>"
      ]
     },
     "metadata": {
      "needs_background": "light"
     },
     "output_type": "display_data"
    }
   ],
   "source": [
    "df_returns.plot()"
   ]
  },
  {
   "cell_type": "code",
   "execution_count": 16,
   "id": "9dab6d73",
   "metadata": {},
   "outputs": [
    {
     "data": {
      "text/plain": [
       "<AxesSubplot:>"
      ]
     },
     "execution_count": 16,
     "metadata": {},
     "output_type": "execute_result"
    },
    {
     "data": {
      "image/png": "[encoded data removed]",
      "text/plain": [
       "<Figure size 432x288 with 1 Axes>"
      ]
     },
     "metadata": {
      "needs_background": "light"
     },
     "output_type": "display_data"
    }
   ],
   "source": [
    "df_values.plot()"
   ]
  },
  {
   "cell_type": "code",
   "execution_count": null,
   "id": "2d504ef6",
   "metadata": {},
   "outputs": [],
   "source": []
  }
 ],
 "metadata": {
  "kernelspec": {
   "display_name": "Python 3",
   "language": "python",
   "name": "python3"
  },
  "language_info": {
   "codemirror_mode": {
    "name": "ipython",
    "version": 3
   },
   "file_extension": ".py",
   "mimetype": "text/x-python",
   "name": "python",
   "nbconvert_exporter": "python",
   "pygments_lexer": "ipython3",
   "version": "3.8.8"
  }
 },
 "nbformat": 4,
 "nbformat_minor": 5
}
