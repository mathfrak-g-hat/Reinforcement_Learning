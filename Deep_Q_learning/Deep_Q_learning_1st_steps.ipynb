{
 "cells": [
  {
   "cell_type": "markdown",
   "id": "dd5d94a8",
   "metadata": {},
   "source": [
    "# Deep Q-learning (First steps)\n",
    "### 2022/06/03, AJ Zerouali\n",
    "\n",
    "\n",
    "## 1 - Introduction\n",
    "\n",
    "\n",
    "### a) Goals\n",
    "Our objective here is to implement a deep Q-learning agent that solves some basic OpenAI Gym tasks. On the one hand, this a warmup for the implementation of actor-critic algorithms, as well as an opportunity to gain a deeper understanding of deep RL in practice (e.g. using TensorFlow with Gym).\n",
    "\n",
    "\n",
    "There are several topics that we intend to cover, most of which are high-level:\n",
    "\n",
    "- The TensorFlow API: How NN models are organized, including their instantiation, storage of weights, execution of backpropagation/SGD, interaction of the NN object with the optimizer.\n",
    "\n",
    "- Design and implementation of a deep RL agent: The agent class, its memory, how it interacts with Gym environment.\n",
    "\n",
    "- Coding a deep RL learning algorithm and performance assessment.\n",
    "\n",
    "**Important:** The above is a very rough list of objectives and I should make a table of contents. I also have to flesh-out what I'm trying to learn (22/05/08 - 15:45 : I have too many disordered questions at present, even those I need to organize properly).\n",
    "\n",
    "### b) To do\n",
    "\n",
    "- Start by implementing a naive deep Q-learning agent.\n",
    "- Once the above is done, make notes of what you've learned: DQN in general, high level overview of implementation details.\n",
    "- Double DQN after that.\n",
    "\n",
    "\n",
    "### References\n",
    "My references for this notebook are:\n",
    "* Phil Tabor's free Youtube lectures on DQN.\n",
    "\n",
    "    Playlist: https://www.youtube.com/watch?v=4GhH3d9NsIc&list=PL-9x0_FO_lgn8hXJk5uRv1bO36xyTx00f&ab_channel=MachineLearningwithPhil,\n",
    "    \n",
    "    GitHub repo at: https://github.com/philtabor/Youtube-Code-Repository/tree/master/ReinforcementLearning/DeepQLearning.\n",
    "    \n",
    "    \n",
    "* Stefan Jansen's \"Machine Learning for Algorithmic Trading\" book. TensorFlow is introduced in Ch. 17 - Deep learning for trading; OpenAI and DQN are discussed in Ch. 22 - Deep RL.\n",
    "\n",
    "    Github DQN example: https://github.com/stefan-jansen/machine-learning-for-trading/blob/main/22_deep_reinforcement_learning/03_lunar_lander_deep_q_learning.ipynb\n",
    "    \n",
    "* Maxim Lapan's \"Deep Reinforcement Learning Hands-On\". Chapter 2 has a good description of the OpenAI Gym API (better than Ravichandiran's), explains the software architecture of the Environment and Space classes of this package, and briefly discusses wrappers at the end of the chapter. The deep networks are implemented with PyTorch however.\n",
    "\n",
    "* Sudharsan Ravichandiran's \"Deep Reinforcement Learning with Python\". This book is very similar in terms of contents and scope to Lapan's, but uses TensorFlow 2 and Keras for the implementation of deep networks. Chapter 8 in particular gives a rather detailed primer on TensorFLow, and does a good job of including API details that are absent from all courses and tutorials I've seen previously.\n",
    "\n",
    "* The following notes from Brunskill RL course at Stanford are useful later: https://web.stanford.edu/class/cs234/CS234Win2019/slides/lnotes6.pdf"
   ]
  },
  {
   "cell_type": "markdown",
   "id": "13601b09",
   "metadata": {},
   "source": [
    "## Contents\n",
    "\n",
    "Fill this out. Comment on it above"
   ]
  },
  {
   "cell_type": "markdown",
   "id": "2dc0d4e3",
   "metadata": {},
   "source": [
    "### Fundamental imports\n",
    "\n",
    "What we're importing and why. Specific references to sections."
   ]
  },
  {
   "cell_type": "code",
   "execution_count": 1,
   "id": "04efbdec",
   "metadata": {},
   "outputs": [],
   "source": [
    "# Hide deprecation warnings\n",
    "import warnings\n",
    "warnings.filterwarnings('ignore')"
   ]
  },
  {
   "cell_type": "code",
   "execution_count": 1,
   "id": "2ff03c06",
   "metadata": {},
   "outputs": [],
   "source": [
    "import numpy as np\n",
    "import pandas as pd\n",
    "import matplotlib.pyplot as plt\n",
    "import matplotlib.animation as animation\n",
    "import gym\n"
   ]
  },
  {
   "cell_type": "code",
   "execution_count": 2,
   "id": "fb3e41a6",
   "metadata": {},
   "outputs": [
    {
     "name": "stderr",
     "output_type": "stream",
     "text": [
      "C:\\ProgramData\\Anaconda3\\lib\\site-packages\\ipykernel\\ipkernel.py:287: DeprecationWarning: `should_run_async` will not call `transform_cell` automatically in the future. Please pass the result to `transformed_cell` argument and any exception that happen during thetransform in `preprocessing_exc_tuple` in IPython 7.17 and above.\n",
      "  and should_run_async(code)\n"
     ]
    }
   ],
   "source": [
    "%matplotlib inline"
   ]
  },
  {
   "cell_type": "code",
   "execution_count": 3,
   "id": "ac9cff2f",
   "metadata": {
    "collapsed": true
   },
   "outputs": [
    {
     "name": "stderr",
     "output_type": "stream",
     "text": [
      "C:\\ProgramData\\Anaconda3\\lib\\site-packages\\tensorflow\\core\\framework\\tensor_shape_pb2.py:18: DeprecationWarning: Call to deprecated create function FileDescriptor(). Note: Create unlinked descriptors is going to go away. Please use get/find descriptors from generated code or query the descriptor_pool.\n",
      "  DESCRIPTOR = _descriptor.FileDescriptor(\n",
      "C:\\ProgramData\\Anaconda3\\lib\\site-packages\\tensorflow\\core\\framework\\tensor_shape_pb2.py:36: DeprecationWarning: Call to deprecated create function FieldDescriptor(). Note: Create unlinked descriptors is going to go away. Please use get/find descriptors from generated code or query the descriptor_pool.\n",
      "  _descriptor.FieldDescriptor(\n",
      "C:\\ProgramData\\Anaconda3\\lib\\site-packages\\tensorflow\\core\\framework\\tensor_shape_pb2.py:29: DeprecationWarning: Call to deprecated create function Descriptor(). Note: Create unlinked descriptors is going to go away. Please use get/find descriptors from generated code or query the descriptor_pool.\n",
      "  _TENSORSHAPEPROTO_DIM = _descriptor.Descriptor(\n",
      "C:\\ProgramData\\Anaconda3\\lib\\site-packages\\tensorflow\\core\\framework\\types_pb2.py:19: DeprecationWarning: Call to deprecated create function FileDescriptor(). Note: Create unlinked descriptors is going to go away. Please use get/find descriptors from generated code or query the descriptor_pool.\n",
      "  DESCRIPTOR = _descriptor.FileDescriptor(\n",
      "C:\\ProgramData\\Anaconda3\\lib\\site-packages\\tensorflow\\core\\framework\\types_pb2.py:33: DeprecationWarning: Call to deprecated create function EnumValueDescriptor(). Note: Create unlinked descriptors is going to go away. Please use get/find descriptors from generated code or query the descriptor_pool.\n",
      "  _descriptor.EnumValueDescriptor(\n",
      "C:\\ProgramData\\Anaconda3\\lib\\site-packages\\tensorflow\\core\\framework\\types_pb2.py:27: DeprecationWarning: Call to deprecated create function EnumDescriptor(). Note: Create unlinked descriptors is going to go away. Please use get/find descriptors from generated code or query the descriptor_pool.\n",
      "  _DATATYPE = _descriptor.EnumDescriptor(\n",
      "C:\\ProgramData\\Anaconda3\\lib\\site-packages\\tensorflow\\core\\framework\\resource_handle_pb2.py:20: DeprecationWarning: Call to deprecated create function FileDescriptor(). Note: Create unlinked descriptors is going to go away. Please use get/find descriptors from generated code or query the descriptor_pool.\n",
      "  DESCRIPTOR = _descriptor.FileDescriptor(\n",
      "C:\\ProgramData\\Anaconda3\\lib\\site-packages\\tensorflow\\core\\framework\\resource_handle_pb2.py:39: DeprecationWarning: Call to deprecated create function FieldDescriptor(). Note: Create unlinked descriptors is going to go away. Please use get/find descriptors from generated code or query the descriptor_pool.\n",
      "  _descriptor.FieldDescriptor(\n",
      "C:\\ProgramData\\Anaconda3\\lib\\site-packages\\tensorflow\\core\\framework\\resource_handle_pb2.py:32: DeprecationWarning: Call to deprecated create function Descriptor(). Note: Create unlinked descriptors is going to go away. Please use get/find descriptors from generated code or query the descriptor_pool.\n",
      "  _RESOURCEHANDLEPROTO_DTYPEANDSHAPE = _descriptor.Descriptor(\n",
      "C:\\ProgramData\\Anaconda3\\lib\\site-packages\\tensorflow\\core\\framework\\tensor_pb2.py:21: DeprecationWarning: Call to deprecated create function FileDescriptor(). Note: Create unlinked descriptors is going to go away. Please use get/find descriptors from generated code or query the descriptor_pool.\n",
      "  DESCRIPTOR = _descriptor.FileDescriptor(\n",
      "C:\\ProgramData\\Anaconda3\\lib\\site-packages\\tensorflow\\core\\framework\\tensor_pb2.py:40: DeprecationWarning: Call to deprecated create function FieldDescriptor(). Note: Create unlinked descriptors is going to go away. Please use get/find descriptors from generated code or query the descriptor_pool.\n",
      "  _descriptor.FieldDescriptor(\n",
      "C:\\ProgramData\\Anaconda3\\lib\\site-packages\\tensorflow\\core\\framework\\tensor_pb2.py:33: DeprecationWarning: Call to deprecated create function Descriptor(). Note: Create unlinked descriptors is going to go away. Please use get/find descriptors from generated code or query the descriptor_pool.\n",
      "  _TENSORPROTO = _descriptor.Descriptor(\n",
      "C:\\ProgramData\\Anaconda3\\lib\\site-packages\\tensorflow\\core\\framework\\attr_value_pb2.py:21: DeprecationWarning: Call to deprecated create function FileDescriptor(). Note: Create unlinked descriptors is going to go away. Please use get/find descriptors from generated code or query the descriptor_pool.\n",
      "  DESCRIPTOR = _descriptor.FileDescriptor(\n",
      "C:\\ProgramData\\Anaconda3\\lib\\site-packages\\tensorflow\\core\\framework\\attr_value_pb2.py:40: DeprecationWarning: Call to deprecated create function FieldDescriptor(). Note: Create unlinked descriptors is going to go away. Please use get/find descriptors from generated code or query the descriptor_pool.\n",
      "  _descriptor.FieldDescriptor(\n",
      "C:\\ProgramData\\Anaconda3\\lib\\site-packages\\tensorflow\\python\\framework\\dtypes.py:511: DeprecationWarning: `np.object` is a deprecated alias for the builtin `object`. To silence this warning, use `object` by itself. Doing this will not modify any behavior and is safe. \n",
      "Deprecated in NumPy 1.20; for more details and guidance: https://numpy.org/devdocs/release/1.20.0-notes.html#deprecations\n",
      "  np.object,\n",
      "C:\\ProgramData\\Anaconda3\\lib\\site-packages\\tensorflow\\python\\framework\\dtypes.py:563: DeprecationWarning: `np.bool` is a deprecated alias for the builtin `bool`. To silence this warning, use `bool` by itself. Doing this will not modify any behavior and is safe. If you specifically wanted the numpy scalar type, use `np.bool_` here.\n",
      "Deprecated in NumPy 1.20; for more details and guidance: https://numpy.org/devdocs/release/1.20.0-notes.html#deprecations\n",
      "  np.bool,\n",
      "C:\\ProgramData\\Anaconda3\\lib\\site-packages\\tensorflow\\python\\framework\\tensor_util.py:176: DeprecationWarning: `np.object` is a deprecated alias for the builtin `object`. To silence this warning, use `object` by itself. Doing this will not modify any behavior and is safe. \n",
      "Deprecated in NumPy 1.20; for more details and guidance: https://numpy.org/devdocs/release/1.20.0-notes.html#deprecations\n",
      "  np.object: SlowAppendObjectArrayToTensorProto,\n",
      "C:\\ProgramData\\Anaconda3\\lib\\site-packages\\tensorflow\\python\\framework\\tensor_util.py:177: DeprecationWarning: `np.bool` is a deprecated alias for the builtin `bool`. To silence this warning, use `bool` by itself. Doing this will not modify any behavior and is safe. If you specifically wanted the numpy scalar type, use `np.bool_` here.\n",
      "Deprecated in NumPy 1.20; for more details and guidance: https://numpy.org/devdocs/release/1.20.0-notes.html#deprecations\n",
      "  np.bool: SlowAppendBoolArrayToTensorProto,\n",
      "C:\\ProgramData\\Anaconda3\\lib\\site-packages\\tensorflow\\python\\ops\\numpy_ops\\np_random.py:110: DeprecationWarning: `np.int` is a deprecated alias for the builtin `int`. To silence this warning, use `int` by itself. Doing this will not modify any behavior and is safe. When replacing `np.int`, you may wish to use e.g. `np.int64` or `np.int32` to specify the precision. If you wish to review your current use, check the release note link for additional information.\n",
      "Deprecated in NumPy 1.20; for more details and guidance: https://numpy.org/devdocs/release/1.20.0-notes.html#deprecations\n",
      "  def randint(low, high=None, size=None, dtype=onp.int):  # pylint: disable=missing-function-docstring\n",
      "C:\\ProgramData\\Anaconda3\\lib\\site-packages\\tensorboard\\compat\\tensorflow_stub\\dtypes.py:569: DeprecationWarning: `np.object` is a deprecated alias for the builtin `object`. To silence this warning, use `object` by itself. Doing this will not modify any behavior and is safe. \n",
      "Deprecated in NumPy 1.20; for more details and guidance: https://numpy.org/devdocs/release/1.20.0-notes.html#deprecations\n",
      "  (np.object, string),\n",
      "C:\\ProgramData\\Anaconda3\\lib\\site-packages\\tensorboard\\compat\\tensorflow_stub\\dtypes.py:570: DeprecationWarning: `np.bool` is a deprecated alias for the builtin `bool`. To silence this warning, use `bool` by itself. Doing this will not modify any behavior and is safe. If you specifically wanted the numpy scalar type, use `np.bool_` here.\n",
      "Deprecated in NumPy 1.20; for more details and guidance: https://numpy.org/devdocs/release/1.20.0-notes.html#deprecations\n",
      "  (np.bool, bool),\n",
      "C:\\ProgramData\\Anaconda3\\lib\\site-packages\\tensorboard\\util\\tensor_util.py:109: DeprecationWarning: `np.object` is a deprecated alias for the builtin `object`. To silence this warning, use `object` by itself. Doing this will not modify any behavior and is safe. \n",
      "Deprecated in NumPy 1.20; for more details and guidance: https://numpy.org/devdocs/release/1.20.0-notes.html#deprecations\n",
      "  np.object: SlowAppendObjectArrayToTensorProto,\n",
      "C:\\ProgramData\\Anaconda3\\lib\\site-packages\\tensorboard\\util\\tensor_util.py:110: DeprecationWarning: `np.bool` is a deprecated alias for the builtin `bool`. To silence this warning, use `bool` by itself. Doing this will not modify any behavior and is safe. If you specifically wanted the numpy scalar type, use `np.bool_` here.\n",
      "Deprecated in NumPy 1.20; for more details and guidance: https://numpy.org/devdocs/release/1.20.0-notes.html#deprecations\n",
      "  np.bool: SlowAppendBoolArrayToTensorProto,\n"
     ]
    }
   ],
   "source": [
    "import tensorflow as tf\n",
    "from tensorflow import keras"
   ]
  },
  {
   "cell_type": "markdown",
   "id": "9e725987",
   "metadata": {},
   "source": [
    "## 2 - Naive DQN\n",
    "\n",
    "#### Comments:\n",
    "\n",
    "- Tabor's not giving any explanations of what, why and how. Before looking at the implementation, I'll summarize the main ideas following the lecture notes: https://web.stanford.edu/class/cs234/CS234Win2019/slides/lnotes6.pdf.\n",
    "\n",
    "- It is also worth looking at Ravichandiran and Lapan's books and code. I need to write more on TensorFlow in another notebook and maybe compile them in a single one.\n"
   ]
  },
  {
   "cell_type": "markdown",
   "id": "0837b4d3",
   "metadata": {},
   "source": [
    "### a) Generalities on deep Q-learning\n",
    "\n",
    "Deep Q-learning falls within the \"value function approximation\" topic of reinforcement learning, and is an algorithm based on temporal difference learning and nonlinear function approximation in RL. As the name suggests, we use a neural network to learn the action-value function Q. We assume here that the action space is **finite** ($|\\mathcal{A}|<\\infty$). The example we follow here is adapted to the Lunar Lander environment of OpenAI Gym, for which the action space is finite and the state space is continuous. To clarify the implementation, we will briefly discuss the theory behind the algorithm, the pseudocode of the algorithm, as well as certain details pertaining to the implementation in Keras/TensorFlow 2.\n",
    "\n",
    "#### a.1 - Deriving the algorithm\n",
    "\n",
    "First, we focus on the control problem: Computing the optimal state-action value function $Q^\\ast$, and building a $\\varepsilon$-greedy policy:\n",
    "\n",
    "$$\\pi(a|s)=\\left\\{\n",
    "    \\begin{array}{ll}\n",
    "        1-\\varepsilon, & \\text{for }a=\\arg\\max_{a'}Q^\\ast(s,a');\\\\\n",
    "        \\varepsilon, & \\text{for }a\\neq \\arg\\max_{a'}Q^\\ast(s,a').\n",
    "    \\end{array}\n",
    "   \\right.$$\n",
    "\n",
    "In practice, we will take a decreasing $\\varepsilon$ during the training to get more exploration from the agent. Notice here that the TD control problem is reduced to approximating $Q$. We denote by $\\widehat{Q}(s,a;\\theta)$ our estimator for $Q^\\ast$, with $\\theta$ the parameter vector of our neural net.\n",
    "\n",
    "Recall that the Q-learning update is given at step $k$ by:\n",
    "\n",
    "$$Q_{k+1}(s_t,a_t)=Q_k(s_t,a_t)+\\alpha\\{r(s_t,a_t,s_{t+1})+\\gamma\\max_a Q_k(s_{t+1},a)-Q_k(s_t,a_t)\\}.$$\n",
    "\n",
    "Recall that the term $y_t=r(s_t,a_t,s_{t+1})+\\gamma\\max_a Q(s_{t+1},a)$ is called the **TD target**, and the term between brackets is called the temporal difference. The starting point of deep Q-learning is to parametrize the Q-function with parameters $\\theta$ of a deep neural net, and using the latter to produce estimates $\\widehat{Q}_\\theta(s_t,a_t)$. Traditionally, this network is called the *target network*, as the loss function used for the optimization is:\n",
    "\n",
    "$$L(\\theta;s_t,s_{t+1}) = \\mathbb{E}_{a_t\\sim\\pi}\\left[(y_t-\\widehat{Q}_\\theta(s_t,a_t))^2\\right].$$\n",
    "\n",
    "In this setup, we minimize $L$ via minibatch stochastic gradient descent to obtain $Q^\\ast\\approx\\widehat{Q}_{\\theta^\\ast}(s_t,a_t)$. Letting $N$ denote the batch size, and replacing the loss above by its batch version, our $\\Delta\\theta$ is given by:\n",
    "\n",
    "$$\\Delta\\theta=-\\frac{1}{2}\\frac{\\alpha}{N}\\sum_{j=1}^N\\nabla^\\theta l(\\theta;s_j,s'_j)\n",
    "    =\\frac{\\alpha}{N}\\sum_{j=1}^N\\left(y_j-\\widehat{Q}_\\theta(s_j,a_j)\\right)\\nabla^\\theta\\widehat{Q}_\\theta(s_j,a_j),$$\n",
    "\n",
    "where $l$ is such that $L(\\theta;s,s') = \\frac{1}{N}\\sum_j\\mathbb{E}_{a\\sim\\pi}\\left[l(\\theta;s_j,s'_j)\\right]$, and where the minibatch consists of quadruples $\\{(s_j,a_j,r_j,s'_j)\\}_{j=1}^N$ (notice the consistency of indexing). \n",
    "\n",
    "In practice, we relegate the computation of $\\nabla^\\theta L$ and $\\Delta\\theta$ to Keras. For practical purposes however, we design our DQN agent by additionally considering: (i) *experience replay*, and (ii) *the target network*.\n",
    "\n",
    "**Experience replay** is the technique of storing a fixed number of past agent transitions, and reusing them during training by randomly sampling minibatches. On the one hand, this technique is data efficient, allows one to avoid oscillations and divergences in the network parameters, as well reduces the effect of sample correlations. Storing the samples requires the implementation of a *replay buffer* class, which will serve as the \"memory\" of the DQN agent. When performing minibatch SGD at each new training step, we will randomly draw $N$ sample transitions from this buffer.\n",
    "\n",
    "A good practice in our case is to use a **target network** to improve the stability of the training. Although we skip this point in our first implementation below, we include it in the pseudocode for completeness. The idea is to use a different weight vector $\\theta^-$ for the target $y_t=r_t+\\gamma\\max_a\\widehat{Q}_{\\theta^-}(s,a)$, and avoid using the same weights in the two terms of the temporal difference. The weights $\\theta^-$ are updated with the values of $\\theta$ cyclically (after say 100 training steps). When using a target network, the term $\\widehat{Q}_{\\theta}(s,a)$ is referred to as the *evaluation* network.\n",
    "\n",
    "\n",
    "#### a.2 - Naive DQN algorithm\n",
    "\n",
    "The pseudocode for the training of the DQN is as follows:\n",
    "\n",
    "            Initialize replay buffer B\n",
    "            Initialize eps in [0,1] and discount factor gamma\n",
    "            Initialize evaluation net Q^ with random weights w\n",
    "            Initialize target net Q^_tgt with weights w_ = w\n",
    "            for episode m=1,..., M:\n",
    "                Reset environment (observe s_1)\n",
    "                for step t=1,...,T:\n",
    "                    Choose random action a_t w/ prob. eps, and argmax_a Q^(s,a;w) w/ prob. 1-eps # Epsilon greedy policy\n",
    "                    Observe (r_t,s_(t+1))\n",
    "                    Store transition (s_t, a_t, r_t, s_(t+1)) in B\n",
    "                    Sample minibatch {(s_j,a_j,r_j,s'_j)} of size N from B\n",
    "                    for j=1,...,N:\n",
    "                        if s_j is terminal:\n",
    "                            Set y_j = r_j\n",
    "                        else:\n",
    "                            Set y_j = r_j + gamma*max_a Q^_tgt(s'_j,a;w_)\n",
    "                    Perform SGD on L(w;w_,B) with respect to the evaluation parameters w\n",
    "                    Every K steps update w_ = w.\n",
    "                            \n",
    "Our next step is to discuss this implementation in practice.\n",
    "\n",
    "#### a.3 - Implementation with TensorFlow/Keras\n",
    "\n",
    "To put things into context, let's look at the pseudocode for the training script of the DQN:\n",
    "\n",
    "            # Initializations\n",
    "            Instantiate Gym environment env\n",
    "            Initialize n_episodes and N_steps_max\n",
    "            Initialize hyperparameters learn_rate, eps, gamma, batch_size, mem_size...\n",
    "            \n",
    "            # Agent initialization\n",
    "            Instantiate agent = DQN_Agent(hyperparam)\n",
    "            Build agent's DQN: agent.build_dqn(network hyperparam)\n",
    "            \n",
    "            # Main loop\n",
    "            for m=1,...,n_episodes:\n",
    "            \n",
    "                # Episode initializations\n",
    "                Set done = False, N_steps = 0, score = 0.0\n",
    "                Reset environment: s = env.reset()\n",
    "                \n",
    "                # Loop over episode steps\n",
    "                while not done and N_steps<N_steps_max:\n",
    "                    Choose action: a=agent.choose_action(s)\n",
    "                    Execute actions observe new state and reward: (s_, r, done) = env.step(a)\n",
    "                    Update score: score += r\n",
    "                    Store transition (s,a,r,s_,done) in agent memory\n",
    "                    Train DQN on random minibatch from agent memory: agent.train_dqn()\n",
    "                    Update state: s = s_\n",
    "                    Update step count: N_steps += 1\n",
    "                    \n",
    "It is clear from the above that the deep Q-network will be an attribute of the *DQN_Agent* class, and that the training of this network will be executed using a method of that class. For the experience replay, the agent will need a memory attribute, which will be implemented as a separate *Replay_Buffer* class. Let's look at more details.\n",
    "\n",
    "**Replay_Buffer() class:**\n",
    "\n",
    "The purpose of this class is to manage the sample transitions $(s_t, a_t, r_t, s_{t+1}, \\text{done})$ obtained from the environment. There are several types of containers in Python for this type of task, but for computational efficiency, we will use separate NumPy arrays for each element of the quadruple $(s_t, a_t, r_t, s_{t+1}, \\text{done})$. As such, the constructor of this class should look like:\n",
    "\n",
    "    def __init__(self, max_size, input_dims, discrete_actions=True):\n",
    "        # Memory size and counter\n",
    "        self.mem_size = max_size\n",
    "        self.mem_cntr = 0\n",
    "               \n",
    "        # Transition arrays for (s,a,s',r)\n",
    "        self.memory_states = np.zeros((self.mem_size, *input_dims), dtype = np.float32)\n",
    "        self.memory_actions = np.zeros(self.mem_size, \\\n",
    "                            dtype = np.int8 if self.discrete_actions else np.float32 )\n",
    "        self.memory_next_states = np.zeros((self.mem_size, *input_dims), dtype = np.float32)\n",
    "        self.memory_rewards = np.zeros(self.mem_size, dtype = np.float32)\n",
    "        # If memory_next_states[t] is TERMINAL, will set memory_terminal[t]= 1, and 0 otherwise.\n",
    "        self.memory_terminal = np.zeros(self.mem_size, dtype = np.int8)\n",
    "\n",
    "The attributes *mem_size* and *mem_counter* are used when adding sample transitions from the agent's memory. Now there will be only two other methods in this class:\n",
    "* **store_transitions(s,a,r,s_,done):** Which will store the quadruples $(s_t, a_t, r_t, s_{t+1}, \\text{done})$ coming from the environment. In practice, we use *index=mem_counter % mem_size* for the positions in the arrays (and overwrite previously stored transitions once we collected more than *mem_size* samples).\n",
    "* **sample_buffer(batch_size):** Which will be called during the training of the agent. The most efficient way of picking *batch_size* random elements from our arrays is to randomly draw a list of indices, using the **np.random.choice()** function:\n",
    "\n",
    "            batch_indices = np.random.choice(mem_size, batch_size, replace = False)\n",
    "    Passing this list to the states/actions/rewards/dones arrays of the Replay_Buffer then returns the desired arrays. (Note: This is really a neat feature of NumPy).\n",
    "\n",
    "**DQN_Agent() class:**\n",
    "\n",
    "Regarding the attributes of the agent, first we obviously have all the learning hyperparameters: the learning rate $\\alpha$, the discount factor $\\gamma$, the batch size for network SGD, a filename for storing trained network parameters, $\\varepsilon$ for the exploration policy, as well as coefficients for the decrease of $\\varepsilon$. Next, we need attributes for the dimensionality of the state space (comes from Gym), as well as the number of possible actions. The two remaining attributes that will interact with the environment are the **replay buffer** for memory and the **deep q-network**. The constructor looks like this:\n",
    "\n",
    "        def __init__(self, input_dims, discrete_actions, n_actions,  \\\n",
    "            learn_rate, gamma, epsilon, batch_size, mem_size = 1000000, \\\n",
    "            epsilon_dec = 1e-3, epsilon_min =0.01, \\\n",
    "            dqn_fname = 'dqn_model.h5'):                                             \n",
    "\n",
    "            # State space dimensionality\n",
    "            self.input_dims = input_dims\n",
    "\n",
    "            # Deep RL hyperparameters\n",
    "            self.gamma = gamma\n",
    "            self.epsilon = epsilon\n",
    "            self.epsilon_min = epsilon_min\n",
    "            self.epsilon_dec = epsilon_dec\n",
    "            self.batch_size = batch_size\n",
    "            self.learn_rate = learn_rate\n",
    "\n",
    "            # Init. DQN (build model with method below)\n",
    "            self.q_network = build_network(network_parameters)\n",
    "            self.dqn_fname =  dqn_fname\n",
    "\n",
    "            # Replay buffer. Signature: Replay_Buffer(max_size, input_dims, discrete_actions)\n",
    "            self.mem_size = mem_size\n",
    "            self.memory_buffer = Replay_Buffer(self.mem_size, self.input_dims, self.discrete_actions)\n",
    "\n",
    "To implement our DQN we will use the *Sequential* class of tf.keras.models. We use two fully connected layers with ReLU activations, and a linear output layer with number of units equal to the cardinality of the action space. In this implementation, the input is a minibatch of states $\\mathcal{S}=\\{s_1,\\cdots,s_N\\}$, while the output of the network is an array $[Q(s_j,a_1),\\cdots,Q(s_j,a_n)]^N_{j=1}$ (here $n=|\\mathcal{A}|$).\n",
    "\n",
    "Now, here are the methods implemented in this agent class:\n",
    "\n",
    "* **Environment interaction**: In this part we have 2 methods. First, *choose_action(state)* is the one that takes as argument the current state/observation the Gym environment, and implements the $\\varepsilon$-greedy policy used for training. Concretely, it is written as follows:\n",
    "\n",
    "            def choose_action(self, observation):\n",
    "                if np.random.uniform(0,1) < self.epsilon:\n",
    "                    action = np.random.choice(self.action_space)\n",
    "                else:\n",
    "                    state = np.array([observation])\n",
    "                    actions = self.q_network.predict(state)\n",
    "                    action = np.argmax(actions)\n",
    "                return action\n",
    "    As seen in the pseudocode of the \"main\", once *choose_action* is called, one collects the next reward and state by executing:\n",
    "    \n",
    "            reward, next_state, done, info = env.step(action)\n",
    "            \n",
    "    The second method for environment interaction stores the transition into the agent's replay buffer by calling the *store_transition(s, a, r, s_, done)* method of *ReplayBuffer()*.\n",
    "    \n",
    "* **Q-network management**: Here we'll have one method for **building** the network (*build_dqn()*) and one to **train** the network (*train_dqn()*). We'll discuss the training a little more below, since it's the crux of the program. Concerning *build_dqn()*, Tabor writes a function outside of the agent class which is called by the constructor. I took a different approach where the constructor just assigns the string \"EMPTY\" when instantiating the agent.\n",
    "\n",
    "* **Saving/loading DQN model:** These methods act on the *q_network* attribute of the agent. To save a trained model we'll use the **keras.models.Sequential.save(\"model_name.h5\")**, and to load a model we'll use **keras.models.load(\"model_name.h5\")**.\n",
    "\n",
    "With these preliminaries in hand, we can finally discuss how to train our network. The following code is contained in the ***DQN_Agent.train_dqn()*** method:\n",
    "\n",
    "            # Get minibatch of samples\n",
    "            states, actions, next_states, rewards, dones = self.memory_buffer.sample_buffer(self.batch_size)\n",
    "            \n",
    "            # Init. Q(s,a), Q(s', a'), Q*(s,a)            \n",
    "            q_eval = self.q_network.predict(states)\n",
    "            q_next = self.q_network.predict(next_states)\n",
    "            q_target = np.copy(q_eval)\n",
    "            \n",
    "            # Ones vector for \"dones\"\n",
    "            done_ones = np.ones(shape = dones.shape, dtype=np.int8)\n",
    "            \n",
    "            # Iterable for minibatch\n",
    "            batch_index = np.arange(self.batch_size, dtype=np.int32)\n",
    "            \n",
    "            ##### Q-learning update #####\n",
    "            q_target[batch_index, actions] = rewards + self.gamma*np.max(q_next, axis = 1)*(done_ones - dones)\n",
    "            \n",
    "            ##### Train network #####\n",
    "            self.q_network.train_on_batch(states, q_target)\n",
    "            \n",
    "            # Update epsilon for policy\n",
    "            if self.epsilon_min < self.epsilon:\n",
    "                self.epsilon -= self.epsilon_dec\n",
    "            else:\n",
    "                self.epsilon = self.epsilon_min\n",
    "\n",
    "Let's note a couple of things here:\n",
    "* This code is executed once we have collected enough samples for one minibatch. When we have less than *batch_size* samples in the replay buffer we just exit the *dqn_train* function.\n",
    "* The \"done\" Boolean returned by *env.step()* is converted to 0 or 1 to simplify the Q-learning update. This takes care of the condition on *s_j* terminal towards the end of the DQN algorithm pseudocode, and explains the presence of the *done_ones* array above.\n",
    "* The line:\n",
    "            q_target[batch_index, actions] = rewards + self.gamma*np.max(q_next, axis = 1)*(done_ones - dones)\n",
    "    is a condensed version of the following loop of the DQN pseudocode:\n",
    "    \n",
    "            for j=1,...,N:\n",
    "                if s_j is terminal:\n",
    "                    Set y_j = r_j\n",
    "                else:\n",
    "                    Set y_j = r_j + gamma*max_a Q^_tgt(s'_j,a;w_)\n",
    "    \n",
    "    It uses the main functionalities of NumPy for optimality, and requires some unpacking. First, note that *batch_index* is just the iterable for the loop over the minibatch (we could've taken the list [0,..., *batch_size*-1] instead of an array). Secondly, for each element $\\{(s_j,a_j,r_j,s'_j)\\}$ of the minibatch\n",
    "    \n",
    "* **(Correct this later)** Since we are performing batch SGD, we call the ***keras.models.Sequential.train_on_batch(x,y)*** method, where *x* is our minibatch of states, and where *y* is our Q-target. Here, the array *q_target[batch_index,actions]* actually represents $y=r+\\gamma\\max_a\\widehat{Q}_{\\theta}(s,a)$ previously discussed **(t'es sûr de ça?)**, and the *states* array is the input minibatch for the computation of $\\left[\\widehat{Q}_{\\theta}(s,a_i)\\right]_{i=1}^{|\\mathcal A|}$.\n",
    "\n",
    "**To do:**\n",
    "- Explain TD update\n",
    "\n",
    "**Questions:**\n",
    "* How do you choose the step size $\\alpha$? Is it the same as the learning rate used with Keras?\n",
    "* What are the schemes for reducing the $\\varepsilon$? What are the general practices?\n"
   ]
  },
  {
   "cell_type": "code",
   "execution_count": null,
   "id": "e52755bb",
   "metadata": {},
   "outputs": [],
   "source": []
  },
  {
   "cell_type": "code",
   "execution_count": null,
   "id": "f655d883",
   "metadata": {},
   "outputs": [],
   "source": []
  },
  {
   "cell_type": "markdown",
   "id": "a8c5b028",
   "metadata": {},
   "source": [
    "### b) Replay buffer\n",
    "\n",
    "This is heavily inspired by Phil Tabor's video of DQN in TF2. GitHub link: https://github.com/philtabor/Youtube-Code-Repository/blob/master/ReinforcementLearning/DeepQLearning/simple_dqn_tf2.py.\n"
   ]
  },
  {
   "cell_type": "code",
   "execution_count": 4,
   "id": "61e83cbf",
   "metadata": {
    "scrolled": true
   },
   "outputs": [
    {
     "name": "stderr",
     "output_type": "stream",
     "text": [
      "C:\\ProgramData\\Anaconda3\\lib\\site-packages\\ipykernel\\ipkernel.py:287: DeprecationWarning: `should_run_async` will not call `transform_cell` automatically in the future. Please pass the result to `transformed_cell` argument and any exception that happen during thetransform in `preprocessing_exc_tuple` in IPython 7.17 and above.\n",
      "  and should_run_async(code)\n"
     ]
    }
   ],
   "source": [
    "class Replay_Buffer():\n",
    "    \"\"\"\n",
    "        Replay Buffer class for DQN Agent. Instantiated as an attribute of DQN_Agent class.\n",
    "        Manages the transitions arrays, has one method to store the transitions,\n",
    "        one method to sample a minibatch of transitions.\n",
    "        Attributes: \n",
    "            mem_size: Maximal size of memory (no. of (s,a,s',r) transitions); \n",
    "            mem_cntr: No. of transitions added.\n",
    "            Self explanatory (np.arrays):\n",
    "            memory_states, memory_actions, memory_next_states, memory_rewards, memory_terminal\n",
    "        Methods:\n",
    "            store_transitions\n",
    "            sample_buffer\n",
    "            \n",
    "    \"\"\"\n",
    "    def __init__(self, max_size, input_dims, discrete_actions=True):\n",
    "        \"\"\"\n",
    "            \n",
    "        INPUT: - max_size: int for max no. of transition samples\n",
    "               - input_dims: int for array shape of observations\n",
    "               - discrete_actions: Bool descibing action space\n",
    "        \n",
    "        \"\"\"\n",
    "        \n",
    "        # Memory size and counter\n",
    "        self.mem_size = max_size\n",
    "        self.mem_cntr = 0\n",
    "        \n",
    "        # Discrete actions boolean\n",
    "        self.discrete_actions = discrete_actions\n",
    "                \n",
    "        # Transition arrays for (s,a,s',r)\n",
    "        self.memory_states = np.zeros((self.mem_size, *input_dims), dtype = np.float32)\n",
    "        self.memory_actions = np.zeros(self.mem_size, \\\n",
    "                            dtype = np.int8 if self.discrete_actions else np.float32 )\n",
    "        self.memory_next_states = np.zeros((self.mem_size, *input_dims), dtype = np.float32)\n",
    "        self.memory_rewards = np.zeros(self.mem_size, dtype = np.float32)\n",
    "        # If memory_next_states[t] is TERMINAL, will set memory_terminal[t]= 1, and 0 otherwise.\n",
    "        # Note: Different from Tabor's implementation.\n",
    "        self.memory_terminal = np.zeros(self.mem_size, dtype = np.int8)\n",
    "        \n",
    "    def store_transition(self, state, action, new_state, reward, done):\n",
    "        \"\"\"\n",
    "         Method for storing transitions (s, a, s', r) in the Replay_Buffer.\n",
    "         INPUT: state, action, new_state, reward = (s, a, s', r)\n",
    "                done: Boolean for s' terminal\n",
    "         NOTE: Using tricks from P. Tabor's implementation\n",
    "        \"\"\"\n",
    "        # Current transition index, over-write from first position when memory is full\n",
    "        ind = self.mem_cntr % self.mem_size\n",
    "        \n",
    "        # Add new transition\n",
    "        self.memory_states[ind] = state\n",
    "        self.memory_actions[ind] = action\n",
    "        self.memory_next_states[ind] = new_state\n",
    "        self.memory_rewards[ind] = reward\n",
    "        self.memory_terminal[ind] = int(done) # P. Tabor uses (1-int(done)) here\n",
    "                                                # WARNING: Might be multiplying by this number somewhere\n",
    "        \n",
    "        # Update counter\n",
    "        self.mem_cntr += 1\n",
    "        \n",
    "    def sample_buffer(self, batch_size):\n",
    "        \"\"\"\n",
    "        Method for random sampling of a memory minibatch\n",
    "        INPUT: batch_size\n",
    "        OUTPUT: sample_state, sample_action, sample_new_state, sample_reward, sample_terminal\n",
    "                NumPy arrays of transitions of size specified by input\n",
    "        \"\"\"\n",
    "        \n",
    "        # Choose random indices \n",
    "        max_mem = min(self.mem_size, self.mem_cntr)\n",
    "        batch_indices = np.random.choice(max_mem, batch_size, replace=False)\n",
    "        \n",
    "        # Get random minibatch\n",
    "        sample_state = self.memory_states[batch_indices]\n",
    "        sample_action = self.memory_actions[batch_indices]\n",
    "        sample_new_state = self.memory_next_states[batch_indices]\n",
    "        sample_reward = self.memory_rewards[batch_indices]\n",
    "        sample_terminal = self.memory_terminal[batch_indices]\n",
    "        \n",
    "        return sample_state, sample_action, sample_new_state, sample_reward, sample_terminal\n"
   ]
  },
  {
   "cell_type": "markdown",
   "id": "a249770f",
   "metadata": {},
   "source": [
    "### c) DQN Agent \n"
   ]
  },
  {
   "cell_type": "code",
   "execution_count": 5,
   "id": "c9c647eb",
   "metadata": {},
   "outputs": [],
   "source": [
    "class DQN_Agent():\n",
    "    \"\"\"\n",
    "        Deep Q-network agent class.\n",
    "        Attributes:\n",
    "            * RL hyperparameters: learn_rate, gamma, batch_size\n",
    "                epsilon-greedy policy: epsilon, epsilon_dec, epsilon_min\n",
    "            * Memory buffer: mem_size, memory_buffer\n",
    "            * State/action space: input_dims, action_space, discrete_actions\n",
    "            * Deep network: q_network, dqn_fname\n",
    "        \n",
    "        Methods:\n",
    "            * Constructor\n",
    "            * Memory management: store_transition\n",
    "            * Environment interaction: choose_action\n",
    "            * Deep network management: build_DQN, train_dqn, save_dqn, load_dqn\n",
    "    \"\"\"\n",
    "    \n",
    "    # Constructor\n",
    "                # Environment dimensions and action space params\n",
    "    def __init__(self, input_dims, discrete_actions, n_actions,  \\\n",
    "                 # RL hyperparameters\n",
    "                 learn_rate, gamma, epsilon, batch_size, mem_size = 1000000, \\\n",
    "                 # Decrement and lower bound for eps-greedy\n",
    "                 epsilon_dec = 1e-3, epsilon_min =0.01, \\\n",
    "                 # Filename model for saving\n",
    "                 dqn_fname = 'dqn_model.h5'):\n",
    "        \n",
    "        \"\"\"\n",
    "            INPUT: learn_rate, gamma, epsilon, batch_size, mem_size: Usual deep RL hyperparam\n",
    "                   input_dims: Shape of states as arrays\n",
    "                   n_actions: Size of the environment action space. See notes.\n",
    "                   epsilon_dec, epsilon_min: Decrement of epsilon for policy, end value of epsilon.\n",
    "            NOTES: 1) For a finite action space set n_actions = env.unwrapped.action_space.n as input.\n",
    "                      (i.e. size of the finite action space).\n",
    "                      For continuous action space take dimensionality and bounds of the \"Box\" object:\n",
    "                      n_actions = (env.action_space.high, env.action_space.low, env.action_space.shape).\n",
    "                   2) The agent uses an epsilon-greedy policy for training, with epsilon decreasing by\n",
    "                      epsion_dec at each step and down to epsilon_min.\n",
    "                      (Tabor starts with epsilon = 1.0)\n",
    "            \n",
    "        \"\"\"\n",
    "        # Build agent's action space\n",
    "        self.discrete_actions = discrete_actions\n",
    "        if self.discrete_actions:\n",
    "            self.action_space = [i for i in range(n_actions)]\n",
    "        else:\n",
    "            self.action_space = n_actions\n",
    "            \n",
    "        # State space dimensionality\n",
    "        self.input_dims = input_dims\n",
    "        \n",
    "        # Deep RL hyperparameters\n",
    "        self.gamma = gamma\n",
    "        self.epsilon = epsilon\n",
    "        self.epsilon_min = epsilon_min\n",
    "        self.epsilon_dec = epsilon_dec\n",
    "        self.batch_size = batch_size\n",
    "        self.learn_rate = learn_rate\n",
    "        \n",
    "        # Init. DQN (build model with method below)\n",
    "        self.q_network = \"EMPTY\"\n",
    "        self.dqn_fname =  dqn_fname\n",
    "        \n",
    "        # Replay buffer. Signature: Replay_Buffer(max_size, input_dims, discrete_actions)\n",
    "        self.mem_size = mem_size\n",
    "        self.memory_buffer = Replay_Buffer(self.mem_size, self.input_dims, self.discrete_actions)\n",
    "        \n",
    "    # END DEF __init__()\n",
    "    \n",
    "    #############################\n",
    "    ## Environment interaction ##\n",
    "    #############################\n",
    "    \n",
    "    # Choose action following epsilon-greedy policy\n",
    "    # NOTE: Implemented for discrete action space ONLY\n",
    "    def choose_action(self, observation):\n",
    "        \"\"\"\n",
    "            Method choosing action in input state following epsilon-greedy policy.\n",
    "            INPUT: observation (current state)\n",
    "            OUTPUT: action\n",
    "        \"\"\"\n",
    "        if np.random.uniform(0,1) < self.epsilon:\n",
    "            action = np.random.choice(self.action_space) # MODIFY FOR CONTINUOUS ACTIONS\n",
    "        else:\n",
    "            state = np.array([observation])\n",
    "            actions = self.q_network.predict(state)\n",
    "            action = np.argmax(actions)\n",
    "        \n",
    "        return action\n",
    "    # END DEF choose_action()\n",
    "    \n",
    "    # Sample transition storage\n",
    "    def store_transition(self, state, action, new_state, reward, done):\n",
    "        \"\"\"\n",
    "            Method to store a new (s, a, s', r, s'-terminal) transition.\n",
    "            Calls method of same name from Replay_Buffer class.\n",
    "        \"\"\"\n",
    "        self.memory_buffer.store_transition(state, action, new_state, reward, done)\n",
    "    \n",
    "    # END DEF store_transitions()\n",
    "    \n",
    "    ##########################\n",
    "    ## Q-network management ##\n",
    "    ##########################\n",
    "    \n",
    "    # Build Q-network\n",
    "    def build_DQN(self, fc1_dims=256, fc2_dims=256):\n",
    "        \"\"\"\n",
    "            Builds the DQN. \n",
    "            Will use a simple architecture here: 2 fully connected layers; each entry having 256 neurons.\n",
    "            The loss function is the mean-squared error, the optimizer is Adam.\n",
    "            Will return an error if attribute q_network is not \"EMPTY\".\n",
    "            NOTE: - I will only write this function for the discrete action space for now.\n",
    "                  - Will have to revise for continuous actions.\n",
    "                  - I see why Tabor implemented it outside the class.\n",
    "        \"\"\"\n",
    "        if self.q_network != \"EMPTY\":\n",
    "            print(\"ERROR: Attribute q_network is non-empty.\")\n",
    "            self.q_network.get_config()\n",
    "            return False\n",
    "        else:\n",
    "            # Build deep Q-network\n",
    "            # Import Keras from tf in advance \n",
    "            dqn = keras.models.Sequential()\n",
    "            dqn.add(keras.layers.Dense(units = fc1_dims, activation = \"relu\"))\n",
    "            dqn.add(keras.layers.Dense(units = fc2_dims, activation = \"relu\"))\n",
    "            dqn.add(keras.layers.Dense(units = len(self.action_space))) # MODIFY FOR CONT. ACTIONS\n",
    "            dqn.compile(optimizer = keras.optimizers.Adam(learning_rate = self.learn_rate), \\\n",
    "                        loss = \"mse\")                    \n",
    "            self.q_network = dqn\n",
    "            return True\n",
    "    # END DEF Build_DQN()\n",
    "    \n",
    "    # Train q_network with \n",
    "    def train_dqn(self, N_steps=0, ep_i=0, notify_end_train=False):\n",
    "        \"\"\"\n",
    "            Method to train the agent's neural net, implements (deep) Q-learning with 1 target network.\n",
    "            Will check if the memory buffer has at least self.batch_size sample transitions before\n",
    "            performing training, will do nothing and return False otherwise.\n",
    "            Can optionally notify when exiting train_on_batch() at every 10 steps of an episode.\n",
    "            \n",
    "            ARGUMENTS: - N_steps: Current step -1.\n",
    "                       - ep_i: Current episode -1\n",
    "                       - notify_end_train: Boolean for notifications\n",
    "            \n",
    "            NOTE: Should write detailed notes about this part.\n",
    "                  Implemented for DISCRETE ACTIONS ONLY. To be modified.\n",
    "            \n",
    "        \"\"\"\n",
    "        if self.memory_buffer.mem_cntr < self.batch_size:\n",
    "            #print(\"ERROR: Not enough samples (memory_buffer.mem_cntr < batch_size)\") # DEBUG\n",
    "            return False\n",
    "        else:\n",
    "            \n",
    "            # Get minibatch of samples\n",
    "            # Signature: sample_state, sample_action, sample_new_state, sample_reward, sample_terminal\n",
    "            #            = Replay_Buffer.sample_buffer(batch_size)\n",
    "            states, actions, next_states, rewards, dones = self.memory_buffer.sample_buffer(self.batch_size)\n",
    "            \n",
    "            # Init. Q(s,a), Q(s', a'), Q*(s,a)            \n",
    "            q_eval = self.q_network.predict(states)\n",
    "            q_next = self.q_network.predict(next_states)\n",
    "            q_target = np.copy(q_eval)\n",
    "            \n",
    "            # Ones vector for \"dones\"\n",
    "            # IMPORTANT REMARK: This might cause issues, related to Replay_Buffer.store_transition(),\n",
    "            #                   on line: self.memory_terminal[ind] = int(done) \n",
    "            done_ones = np.ones(shape = dones.shape, dtype=np.int8)\n",
    "            \n",
    "            # Iterable for minibatch\n",
    "            batch_index = np.arange(self.batch_size, dtype=np.int32)\n",
    "            \n",
    "            # Q-learning update (CRUCIAL)\n",
    "            q_target[batch_index, actions] = rewards + self.gamma*np.max(q_next, axis = 1)*(done_ones - dones)\n",
    "            \n",
    "            # Train network (CRUCIAL)\n",
    "            self.q_network.train_on_batch(states, q_target)\n",
    "            \n",
    "            #DEBUG: CHANGE THIS TO NOT KILL MEMORY\n",
    "            if ((N_steps+1)% 10)==0 and notify_end_train:\n",
    "                print(f\"Done training at step {N_steps+1} of episode {ep_i+1}\")\n",
    "            \n",
    "            # Update epsilon for policy\n",
    "            if self.epsilon_min < self.epsilon:\n",
    "                self.epsilon -= self.epsilon_dec\n",
    "            else:\n",
    "                self.epsilon = self.epsilon_min\n",
    "            \n",
    "            return True\n",
    "    \n",
    "    # END DEF learn()\n",
    "    \n",
    "    ###################\n",
    "    ## Save/Load DQN ##\n",
    "    ###################\n",
    "    \n",
    "    # Save trained model\n",
    "    def save_dqn(self):\n",
    "        \"\"\"\n",
    "            Save q_network under dqn_fname (h5 file).\n",
    "            Calls keras.models.Sequential.save()\n",
    "        \"\"\"\n",
    "        self.q_network.save(self.dqn_fname)\n",
    "    # END DEF save_dqn()\n",
    "    \n",
    "    # Load model\n",
    "    def load_dqn(self, model_fname):\n",
    "        \"\"\"\n",
    "            Load q_network at model_fname (h5 file).\n",
    "            Calls keras.models.load_model()\n",
    "        \"\"\"\n",
    "        self.q_network = keras.models.load_model(model_fname)\n",
    "        \n",
    "    # END DEF load_dqn()    \n",
    "    \n",
    "# END CLASS DQN_Agent"
   ]
  },
  {
   "cell_type": "code",
   "execution_count": null,
   "id": "60cef62c",
   "metadata": {},
   "outputs": [],
   "source": []
  },
  {
   "cell_type": "markdown",
   "id": "b3080af6",
   "metadata": {},
   "source": [
    "### c) The main"
   ]
  },
  {
   "cell_type": "code",
   "execution_count": 6,
   "id": "37b45ae1",
   "metadata": {},
   "outputs": [],
   "source": [
    "########################################\n",
    "## IMPORTANT: Add this cell to \"main\" ##\n",
    "########################################\n",
    "\n",
    "# This is to time the execution\n",
    "from datetime import datetime"
   ]
  },
  {
   "cell_type": "code",
   "execution_count": 9,
   "id": "c5109662",
   "metadata": {
    "collapsed": true
   },
   "outputs": [
    {
     "name": "stdout",
     "output_type": "stream",
     "text": [
      "Done training at step 20 of episode 2\n",
      "Done training at step 30 of episode 2\n",
      "Done training at step 40 of episode 2\n",
      "Done training at step 50 of episode 2\n",
      "Done training at step 10 of episode 3\n",
      "Done training at step 20 of episode 3\n",
      "Done training at step 30 of episode 3\n",
      "Done training at step 40 of episode 3\n",
      "Done training at step 50 of episode 3\n",
      "Done training at step 10 of episode 4\n",
      "Done training at step 20 of episode 4\n",
      "Done training at step 30 of episode 4\n",
      "Done training at step 40 of episode 4\n",
      "Done training at step 50 of episode 4\n",
      "Done training at step 10 of episode 5\n",
      "Done training at step 20 of episode 5\n",
      "Done training at step 30 of episode 5\n",
      "Done training at step 40 of episode 5\n",
      "Done training at step 50 of episode 5\n",
      "Done training at step 10 of episode 6\n",
      "Done training at step 20 of episode 6\n",
      "Done training at step 30 of episode 6\n",
      "Done training at step 40 of episode 6\n",
      "Done training at step 50 of episode 6\n",
      "Done training at step 10 of episode 7\n",
      "Done training at step 20 of episode 7\n",
      "Done training at step 30 of episode 7\n",
      "Done training at step 40 of episode 7\n",
      "Done training at step 50 of episode 7\n",
      "Done training at step 10 of episode 8\n",
      "Done training at step 20 of episode 8\n",
      "Done training at step 30 of episode 8\n",
      "Done training at step 40 of episode 8\n",
      "Done training at step 50 of episode 8\n",
      "Done training at step 10 of episode 9\n",
      "Done training at step 20 of episode 9\n",
      "Done training at step 30 of episode 9\n",
      "Done training at step 40 of episode 9\n",
      "Done training at step 50 of episode 9\n",
      "Done training at step 10 of episode 10\n",
      "Done training at step 20 of episode 10\n",
      "Done training at step 30 of episode 10\n",
      "Done training at step 40 of episode 10\n",
      "Done training at step 50 of episode 10\n",
      "Done training at step 10 of episode 11\n",
      "Done training at step 20 of episode 11\n",
      "Done training at step 30 of episode 11\n",
      "Done training at step 40 of episode 11\n",
      "Done training at step 50 of episode 11\n",
      "Done training at step 10 of episode 12\n",
      "Done training at step 20 of episode 12\n",
      "Done training at step 30 of episode 12\n",
      "Done training at step 40 of episode 12\n",
      "Done training at step 50 of episode 12\n",
      "Done training at step 10 of episode 13\n",
      "Done training at step 20 of episode 13\n",
      "Done training at step 30 of episode 13\n",
      "Done training at step 40 of episode 13\n",
      "Done training at step 50 of episode 13\n",
      "Done training at step 10 of episode 14\n",
      "Done training at step 20 of episode 14\n",
      "Done training at step 30 of episode 14\n",
      "Done training at step 40 of episode 14\n",
      "Done training at step 50 of episode 14\n",
      "Done training at step 10 of episode 15\n",
      "Done training at step 20 of episode 15\n",
      "Done training at step 30 of episode 15\n",
      "Done training at step 40 of episode 15\n",
      "Done training at step 50 of episode 15\n"
     ]
    },
    {
     "name": "stderr",
     "output_type": "stream",
     "text": [
      "MovieWriter ffmpeg unavailable; using Pillow instead.\n"
     ]
    },
    {
     "data": {
      "image/png": "[encoded data removed]",
      "text/plain": [
       "<Figure size 432x288 with 1 Axes>"
      ]
     },
     "metadata": {
      "needs_background": "light"
     },
     "output_type": "display_data"
    }
   ],
   "source": [
    "# Disable eager execution (NOTES)\n",
    "tf.compat.v1.disable_eager_execution\n",
    "\n",
    "# Create environment\n",
    "env = gym.make('LunarLander-v2')\n",
    "\n",
    "# Max no. of episodes and steps:\n",
    "#n_games = 500\n",
    "n_games = 15\n",
    "N_steps_max = 50\n",
    "\n",
    "# Deep RL hyperparameters:\n",
    "learn_rate = 0.001\n",
    "gamma = 0.99\n",
    "eps_ini = 1.0\n",
    "eps_dec = 5e-5\n",
    "eps_min = 0.01\n",
    "batch_size = 64\n",
    "mem_size = 100000\n",
    "model_file_name = 'dqn_attempt_0.00.h5'\n",
    "\n",
    "# Ini filenames \n",
    "# Visualization: gif filename\n",
    "rec_gif_fname = \"LunarLander_test.gif\"\n",
    "# Total scores\n",
    "scores_fname = \"LunarLander_Scores.csv\"\n",
    "# Epsilon\n",
    "epsilon_hist_fname = \"LunarLander_Epsilon.csv\"\n",
    "\n",
    "\n",
    "# Create agent\n",
    "\"\"\"\n",
    "class DQN_Agent():\n",
    "\n",
    "    \n",
    "    # Constructor\n",
    "                # Environment dimensions and action space params\n",
    "    def __init__(self, input_dims, discrete_actions, n_actions,  \\\n",
    "                 # RL hyperparameters\n",
    "                 learn_rate, gamma, epsilon, batch_size, mem_size = 1000000, \\\n",
    "                 # Decrement and lower bound for eps-greedy\n",
    "                 epsion_dec = 1e-3, epsilon_min =0.01, \\\n",
    "                 # Filename model for saving\n",
    "                 dqn_fname = 'dqn_model.h5'):    \n",
    "\"\"\"\n",
    "agent = DQN_Agent(input_dims = env.observation_space.shape, discrete_actions= True, n_actions = env.action_space.n,\\\n",
    "                 learn_rate = learn_rate, gamma=gamma, epsilon=eps_ini, batch_size = batch_size, mem_size = mem_size, \\\n",
    "                 epsilon_dec =eps_dec, epsilon_min =eps_min, dqn_fname = model_file_name)\n",
    "\n",
    "# Init. score and episode (epsilon) histories\n",
    "scores_hist = []\n",
    "eps_hist = []\n",
    "\n",
    "# Build the DQN (Forgot this on 1st exec...)\n",
    "agent.build_DQN(256, 256)\n",
    "\n",
    "# Init. fig. \n",
    "fig, ax = plt.subplots()\n",
    "ims = []\n",
    "# Init. timer of main loop\n",
    "dqn_begin_time = datetime.now()\n",
    "\n",
    "# Loop over episodes:\n",
    "for i in range(n_games):\n",
    "    \n",
    "    # Init. episode\n",
    "    done = False\n",
    "    score = 0.0\n",
    "    s = env.reset()\n",
    "    # DEBUG: Fix no. of max steps\n",
    "    N_steps = 0\n",
    "    # Add a first frame\n",
    "    img= ax.imshow(env.render('rgb_array'), animated = True)\n",
    "    ims.append([img])\n",
    "    \n",
    "    # Loop over steps in episodes\n",
    "    while not done and (N_steps < N_steps_max):\n",
    "        \n",
    "        # Choose an action\n",
    "        a = agent.choose_action(s)\n",
    "        # Get reward and next state\n",
    "        s_, r, done, info = env.step(a)\n",
    "        # Update score\n",
    "        score += r\n",
    "        # Store transition\n",
    "        agent.store_transition(s, a, s_, r, done)\n",
    "        \n",
    "        # Add frame to ims. Should modify later to keep less frames\n",
    "        ax.set_title(f\"Episodes: {i+1}; T_max={N_steps+1}\")\n",
    "        img= ax.imshow(env.render('rgb_array'), animated = True)\n",
    "        ims.append([img])\n",
    "        \n",
    "        # Learn\n",
    "        agent.train_dqn(N_steps, i, notify_end_train=True)\n",
    "        # Update state\n",
    "        s = s_\n",
    "        # DEBUG: Increment N_steps\n",
    "        N_steps += 1\n",
    "        \n",
    "    # END while over episode steps\n",
    "    \n",
    "    # Update epsilon and score histories\n",
    "    eps_hist.append(agent.epsilon)\n",
    "    scores_hist.append(score)\n",
    "\n",
    "# END OF MAIN DQN LOOP (i over episodes) \n",
    "\n",
    "# Exec time of main loop\n",
    "dqn_exec_time = datetime.now()-dqn_begin_time\n",
    "\n",
    "# Stop the recording, time the compilation of gif file\n",
    "dqn_begin_time = datetime.now()\n",
    "rec = animation.ArtistAnimation(fig, ims, interval=50, blit=True, repeat_delay=1000)\n",
    "env.close()\n",
    "rec.save(rec_gif_fname)\n",
    "rec_exec_time = datetime.now()-dqn_begin_time\n",
    "\n",
    "# Save total scores and epsilon decrease\n",
    "### NOTE: Modify the code below to clean-out output\n",
    "df_scores = pd.DataFrame(scores_hist, columns = ['Tot. Score'])\n",
    "df_scores.to_csv(scores_fname)\n",
    "df_epsilon = pd.DataFrame(eps_hist, columns = ['Epsilon'])\n",
    "df_epsilon.to_csv(epsilon_hist_fname)\n",
    "\n",
    "# Save trained DQN model:\n",
    "agent.save_dqn()\n",
    "\n",
    "# Report file open\n",
    "dqn_begin_time = datetime.now()\n",
    "report_fname = \"Report_LunLand_DQN_\"\\\n",
    "                +str(dqn_begin_time.year-2000)+str(dqn_begin_time.month)+str(dqn_begin_time.day)\\\n",
    "                +str(dqn_begin_time.hour)+str(dqn_begin_time.minute)+\".txt\"\n",
    "report_file = open(report_fname, mode = \"w+\")\n",
    "# Title\n",
    "report_file.write(f\"Deep Q-learning agent - {dqn_begin_time}:\\n\")\n",
    "# Write report to file\n",
    "report_file.write(f\"- Execution over {n_games} episodes with {N_steps_max} max. steps completed.\\n\")\n",
    "report_file.write(f\"- Total training time: {dqn_exec_time}.\\n\")\n",
    "report_file.write(f\"- GIF recording compilation time: {rec_exec_time} (name: {rec_gif_fname}).\\n\")\n",
    "report_file.write(f\"- DRL Hypeparameters: * learn_rate = {learn_rate},\\n\")\n",
    "report_file.write(f\"                      * gamma = {gamma},\\n\")\n",
    "report_file.write(f\"                      * eps_ini = {eps_ini},\\n\")\n",
    "report_file.write(f\"                      * eps_dec = {eps_dec},\\n\")\n",
    "report_file.write(f\"                      * eps_min = {eps_min},\\n\")\n",
    "report_file.write(f\"                      * batch_size = {batch_size},\\n\")\n",
    "report_file.write(f\"                      * mem_size = {mem_size},\\n\")\n",
    "report_file.write(f\"                      * Saved model filename = {model_file_name}.\\n\")\n",
    "# Close report file\n",
    "report_file.close()\n",
    "\n"
   ]
  },
  {
   "cell_type": "code",
   "execution_count": 10,
   "id": "69c5fed1",
   "metadata": {},
   "outputs": [
    {
     "name": "stderr",
     "output_type": "stream",
     "text": [
      "C:\\ProgramData\\Anaconda3\\lib\\site-packages\\ipykernel\\ipkernel.py:287: DeprecationWarning: `should_run_async` will not call `transform_cell` automatically in the future. Please pass the result to `transformed_cell` argument and any exception that happen during thetransform in `preprocessing_exc_tuple` in IPython 7.17 and above.\n",
      "  and should_run_async(code)\n"
     ]
    },
    {
     "data": {
      "text/plain": [
       "[<matplotlib.lines.Line2D at 0x1f027f86b80>]"
      ]
     },
     "execution_count": 10,
     "metadata": {},
     "output_type": "execute_result"
    },
    {
     "data": {
      "image/png": "[encoded data removed]",
      "text/plain": [
       "<Figure size 432x288 with 1 Axes>"
      ]
     },
     "metadata": {
      "needs_background": "light"
     },
     "output_type": "display_data"
    }
   ],
   "source": [
    "plt.plot(scores_hist)"
   ]
  },
  {
   "cell_type": "code",
   "execution_count": 11,
   "id": "8198aa50",
   "metadata": {},
   "outputs": [
    {
     "data": {
      "text/plain": [
       "[<matplotlib.lines.Line2D at 0x1f038159160>]"
      ]
     },
     "execution_count": 11,
     "metadata": {},
     "output_type": "execute_result"
    },
    {
     "data": {
      "image/png": "[encoded data removed]",
      "text/plain": [
       "<Figure size 432x288 with 1 Axes>"
      ]
     },
     "metadata": {
      "needs_background": "light"
     },
     "output_type": "display_data"
    }
   ],
   "source": [
    "plt.plot(eps_hist)"
   ]
  },
  {
   "cell_type": "code",
   "execution_count": null,
   "id": "fcba1e89",
   "metadata": {},
   "outputs": [],
   "source": []
  },
  {
   "cell_type": "code",
   "execution_count": null,
   "id": "fd1abe71",
   "metadata": {},
   "outputs": [],
   "source": []
  },
  {
   "cell_type": "code",
   "execution_count": null,
   "id": "3daefe1b",
   "metadata": {},
   "outputs": [],
   "source": []
  },
  {
   "cell_type": "markdown",
   "id": "fb7fea85",
   "metadata": {},
   "source": [
    "#### Scrap code for figures"
   ]
  },
  {
   "cell_type": "code",
   "execution_count": 56,
   "id": "3087d0e5",
   "metadata": {},
   "outputs": [
    {
     "name": "stderr",
     "output_type": "stream",
     "text": [
      "C:\\ProgramData\\Anaconda3\\lib\\site-packages\\ipykernel\\ipkernel.py:287: DeprecationWarning: `should_run_async` will not call `transform_cell` automatically in the future. Please pass the result to `transformed_cell` argument and any exception that happen during thetransform in `preprocessing_exc_tuple` in IPython 7.17 and above.\n",
      "  and should_run_async(code)\n"
     ]
    }
   ],
   "source": [
    "u = np.random.normal(loc = -2, scale = 4, size = 10000)"
   ]
  },
  {
   "cell_type": "code",
   "execution_count": 58,
   "id": "46effab8",
   "metadata": {
    "collapsed": true
   },
   "outputs": [
    {
     "data": {
      "text/plain": [
       "(array([1.000e+00, 3.000e+00, 7.000e+00, 2.500e+01, 3.400e+01, 5.700e+01,\n",
       "        1.000e+02, 2.000e+02, 3.320e+02, 4.420e+02, 5.710e+02, 7.490e+02,\n",
       "        8.980e+02, 9.160e+02, 1.037e+03, 9.990e+02, 9.890e+02, 7.560e+02,\n",
       "        6.180e+02, 4.840e+02, 3.140e+02, 2.100e+02, 1.260e+02, 6.900e+01,\n",
       "        3.500e+01, 1.400e+01, 5.000e+00, 6.000e+00, 1.000e+00, 2.000e+00]),\n",
       " array([-17.17729861, -16.13790746, -15.0985163 , -14.05912515,\n",
       "        -13.019734  , -11.98034284, -10.94095169,  -9.90156053,\n",
       "         -8.86216938,  -7.82277823,  -6.78338707,  -5.74399592,\n",
       "         -4.70460476,  -3.66521361,  -2.62582246,  -1.5864313 ,\n",
       "         -0.54704015,   0.49235101,   1.53174216,   2.57113332,\n",
       "          3.61052447,   4.64991562,   5.68930678,   6.72869793,\n",
       "          7.76808909,   8.80748024,   9.84687139,  10.88626255,\n",
       "         11.9256537 ,  12.96504486,  14.00443601]),\n",
       " <BarContainer object of 30 artists>)"
      ]
     },
     "execution_count": 58,
     "metadata": {},
     "output_type": "execute_result"
    },
    {
     "data": {
      "image/png": "[encoded data removed]",
      "text/plain": [
       "<Figure size 432x288 with 1 Axes>"
      ]
     },
     "metadata": {
      "needs_background": "light"
     },
     "output_type": "display_data"
    }
   ],
   "source": [
    "plt.hist(u, bins = 30)"
   ]
  },
  {
   "cell_type": "code",
   "execution_count": 60,
   "id": "ab9e5015",
   "metadata": {},
   "outputs": [],
   "source": [
    "v =  pd.DataFrame(u)\n",
    "v.to_csv(\"RANDOM GAUSSIAN NP ARRAY.csv\")"
   ]
  },
  {
   "cell_type": "code",
   "execution_count": 82,
   "id": "457861ff",
   "metadata": {},
   "outputs": [
    {
     "name": "stderr",
     "output_type": "stream",
     "text": [
      "C:\\ProgramData\\Anaconda3\\lib\\site-packages\\ipykernel\\ipkernel.py:287: DeprecationWarning: `should_run_async` will not call `transform_cell` automatically in the future. Please pass the result to `transformed_cell` argument and any exception that happen during thetransform in `preprocessing_exc_tuple` in IPython 7.17 and above.\n",
      "  and should_run_async(code)\n"
     ]
    },
    {
     "data": {
      "text/plain": [
       "<AxesSubplot:>"
      ]
     },
     "execution_count": 82,
     "metadata": {},
     "output_type": "execute_result"
    },
    {
     "data": {
      "image/png": "[encoded data removed]",
      "text/plain": [
       "<Figure size 432x288 with 1 Axes>"
      ]
     },
     "metadata": {
      "needs_background": "light"
     },
     "output_type": "display_data"
    }
   ],
   "source": [
    "l[\"Tot. Score\"].hist()"
   ]
  },
  {
   "cell_type": "code",
   "execution_count": 86,
   "id": "ecc81b90",
   "metadata": {},
   "outputs": [],
   "source": [
    "del fig_0, axes_1"
   ]
  },
  {
   "cell_type": "code",
   "execution_count": 87,
   "id": "68a5edb5",
   "metadata": {},
   "outputs": [
    {
     "data": {
      "text/plain": [
       "<Figure size 432x288 with 0 Axes>"
      ]
     },
     "metadata": {},
     "output_type": "display_data"
    }
   ],
   "source": [
    "# Create figure object (Why does the help say it's a function)\n",
    "fig_0 = plt.figure()\n",
    "\n",
    "\n",
    "\n",
    "x = np.arange(-1, 1, 0.05)\n",
    "y = np.sin(x)\n",
    "\n"
   ]
  },
  {
   "cell_type": "code",
   "execution_count": 88,
   "id": "f1f85889",
   "metadata": {},
   "outputs": [],
   "source": [
    "# Add a set of axes\n",
    "axes_1 = fig_0.add_axes([1,1,1,1])"
   ]
  },
  {
   "cell_type": "code",
   "execution_count": 89,
   "id": "1fe08532",
   "metadata": {},
   "outputs": [
    {
     "data": {
      "text/plain": [
       "Text(0.5, 1.0, 'y=sin(x)')"
      ]
     },
     "execution_count": 89,
     "metadata": {},
     "output_type": "execute_result"
    }
   ],
   "source": [
    "# Plot the sine function in axes_1\n",
    "axes_1.plot(x,y)\n",
    "axes_1.set_xlabel('x')\n",
    "axes_1.set_ylabel('y')\n",
    "axes_1.set_title('y=sin(x)', color='b')"
   ]
  },
  {
   "cell_type": "code",
   "execution_count": 90,
   "id": "50db5e4e",
   "metadata": {
    "collapsed": true
   },
   "outputs": [
    {
     "name": "stderr",
     "output_type": "stream",
     "text": [
      "C:\\ProgramData\\Anaconda3\\lib\\site-packages\\ipykernel\\ipkernel.py:287: DeprecationWarning: `should_run_async` will not call `transform_cell` automatically in the future. Please pass the result to `transformed_cell` argument and any exception that happen during thetransform in `preprocessing_exc_tuple` in IPython 7.17 and above.\n",
      "  and should_run_async(code)\n"
     ]
    },
    {
     "data": {
      "image/png": "[encoded data removed]",
      "text/plain": [
       "<Figure size 432x288 with 1 Axes>"
      ]
     },
     "execution_count": 90,
     "metadata": {},
     "output_type": "execute_result"
    }
   ],
   "source": [
    "fig_0"
   ]
  },
  {
   "cell_type": "code",
   "execution_count": 98,
   "id": "45aa4688",
   "metadata": {},
   "outputs": [
    {
     "name": "stderr",
     "output_type": "stream",
     "text": [
      "C:\\ProgramData\\Anaconda3\\lib\\site-packages\\ipykernel\\ipkernel.py:287: DeprecationWarning: `should_run_async` will not call `transform_cell` automatically in the future. Please pass the result to `transformed_cell` argument and any exception that happen during thetransform in `preprocessing_exc_tuple` in IPython 7.17 and above.\n",
      "  and should_run_async(code)\n"
     ]
    }
   ],
   "source": [
    "fig_0.savefig(\"TestingTester.jpeg\")"
   ]
  },
  {
   "cell_type": "code",
   "execution_count": 97,
   "id": "a41f0f25",
   "metadata": {},
   "outputs": [
    {
     "name": "stderr",
     "output_type": "stream",
     "text": [
      "C:\\ProgramData\\Anaconda3\\lib\\site-packages\\ipykernel\\ipkernel.py:287: DeprecationWarning: `should_run_async` will not call `transform_cell` automatically in the future. Please pass the result to `transformed_cell` argument and any exception that happen during thetransform in `preprocessing_exc_tuple` in IPython 7.17 and above.\n",
      "  and should_run_async(code)\n"
     ]
    }
   ],
   "source": [
    "del test_fig, ax_scores"
   ]
  },
  {
   "cell_type": "code",
   "execution_count": 96,
   "id": "ce0ff5f8",
   "metadata": {},
   "outputs": [
    {
     "data": {
      "image/png": "[encoded data removed]",
      "text/plain": [
       "<Figure size 432x288 with 1 Axes>"
      ]
     },
     "metadata": {
      "needs_background": "light"
     },
     "output_type": "display_data"
    }
   ],
   "source": [
    "# Instance\n",
    "test_fig = plt.figure()\n",
    "# New axis\n",
    "ax_scores = test_fig.add_axes([1,1,1,1])\n",
    "x = np.arange(start = 1, stop = len(u)+1, step = 1) # Change end of np.arange(), just episode no.\n",
    "ax_scores.plot(x, u)\n",
    "# Typesetting\n",
    "ax_scores.set_xlabel('Episode')\n",
    "ax_scores.set_ylabel('Score')\n",
    "ax_scores.set_title(f'Lunar Lander score history {datetime.now()}') # Change the title's date\n",
    "# Saving\n",
    "test_fig.savefig('Score_hist.jpeg',dpi=64)"
   ]
  },
  {
   "cell_type": "code",
   "execution_count": 92,
   "id": "e5ecd88f",
   "metadata": {},
   "outputs": [
    {
     "data": {
      "text/plain": [
       "10000"
      ]
     },
     "execution_count": 92,
     "metadata": {},
     "output_type": "execute_result"
    }
   ],
   "source": [
    "len(u)"
   ]
  },
  {
   "cell_type": "code",
   "execution_count": null,
   "id": "bf9363d8",
   "metadata": {},
   "outputs": [],
   "source": []
  },
  {
   "cell_type": "code",
   "execution_count": null,
   "id": "e71f85cd",
   "metadata": {},
   "outputs": [],
   "source": []
  },
  {
   "cell_type": "code",
   "execution_count": null,
   "id": "8443428e",
   "metadata": {},
   "outputs": [],
   "source": []
  },
  {
   "cell_type": "code",
   "execution_count": null,
   "id": "eba6c7c4",
   "metadata": {},
   "outputs": [],
   "source": []
  }
 ],
 "metadata": {
  "kernelspec": {
   "display_name": "Python 3",
   "language": "python",
   "name": "python3"
  },
  "language_info": {
   "codemirror_mode": {
    "name": "ipython",
    "version": 3
   },
   "file_extension": ".py",
   "mimetype": "text/x-python",
   "name": "python",
   "nbconvert_exporter": "python",
   "pygments_lexer": "ipython3",
   "version": "3.8.8"
  }
 },
 "nbformat": 4,
 "nbformat_minor": 5
}
