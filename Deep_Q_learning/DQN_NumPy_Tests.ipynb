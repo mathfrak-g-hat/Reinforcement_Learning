{
 "cells": [
  {
   "cell_type": "code",
   "execution_count": 1,
   "id": "85222813",
   "metadata": {
    "collapsed": true
   },
   "outputs": [
    {
     "name": "stderr",
     "output_type": "stream",
     "text": [
      "C:\\ProgramData\\Anaconda3\\lib\\site-packages\\tensorflow\\core\\framework\\tensor_shape_pb2.py:18: DeprecationWarning: Call to deprecated create function FileDescriptor(). Note: Create unlinked descriptors is going to go away. Please use get/find descriptors from generated code or query the descriptor_pool.\n",
      "  DESCRIPTOR = _descriptor.FileDescriptor(\n",
      "C:\\ProgramData\\Anaconda3\\lib\\site-packages\\tensorflow\\core\\framework\\tensor_shape_pb2.py:36: DeprecationWarning: Call to deprecated create function FieldDescriptor(). Note: Create unlinked descriptors is going to go away. Please use get/find descriptors from generated code or query the descriptor_pool.\n",
      "  _descriptor.FieldDescriptor(\n",
      "C:\\ProgramData\\Anaconda3\\lib\\site-packages\\tensorflow\\core\\framework\\tensor_shape_pb2.py:29: DeprecationWarning: Call to deprecated create function Descriptor(). Note: Create unlinked descriptors is going to go away. Please use get/find descriptors from generated code or query the descriptor_pool.\n",
      "  _TENSORSHAPEPROTO_DIM = _descriptor.Descriptor(\n",
      "C:\\ProgramData\\Anaconda3\\lib\\site-packages\\tensorflow\\core\\framework\\types_pb2.py:19: DeprecationWarning: Call to deprecated create function FileDescriptor(). Note: Create unlinked descriptors is going to go away. Please use get/find descriptors from generated code or query the descriptor_pool.\n",
      "  DESCRIPTOR = _descriptor.FileDescriptor(\n",
      "C:\\ProgramData\\Anaconda3\\lib\\site-packages\\tensorflow\\core\\framework\\types_pb2.py:33: DeprecationWarning: Call to deprecated create function EnumValueDescriptor(). Note: Create unlinked descriptors is going to go away. Please use get/find descriptors from generated code or query the descriptor_pool.\n",
      "  _descriptor.EnumValueDescriptor(\n",
      "C:\\ProgramData\\Anaconda3\\lib\\site-packages\\tensorflow\\core\\framework\\types_pb2.py:27: DeprecationWarning: Call to deprecated create function EnumDescriptor(). Note: Create unlinked descriptors is going to go away. Please use get/find descriptors from generated code or query the descriptor_pool.\n",
      "  _DATATYPE = _descriptor.EnumDescriptor(\n",
      "C:\\ProgramData\\Anaconda3\\lib\\site-packages\\tensorflow\\core\\framework\\resource_handle_pb2.py:20: DeprecationWarning: Call to deprecated create function FileDescriptor(). Note: Create unlinked descriptors is going to go away. Please use get/find descriptors from generated code or query the descriptor_pool.\n",
      "  DESCRIPTOR = _descriptor.FileDescriptor(\n",
      "C:\\ProgramData\\Anaconda3\\lib\\site-packages\\tensorflow\\core\\framework\\resource_handle_pb2.py:39: DeprecationWarning: Call to deprecated create function FieldDescriptor(). Note: Create unlinked descriptors is going to go away. Please use get/find descriptors from generated code or query the descriptor_pool.\n",
      "  _descriptor.FieldDescriptor(\n",
      "C:\\ProgramData\\Anaconda3\\lib\\site-packages\\tensorflow\\core\\framework\\resource_handle_pb2.py:32: DeprecationWarning: Call to deprecated create function Descriptor(). Note: Create unlinked descriptors is going to go away. Please use get/find descriptors from generated code or query the descriptor_pool.\n",
      "  _RESOURCEHANDLEPROTO_DTYPEANDSHAPE = _descriptor.Descriptor(\n",
      "C:\\ProgramData\\Anaconda3\\lib\\site-packages\\tensorflow\\core\\framework\\tensor_pb2.py:21: DeprecationWarning: Call to deprecated create function FileDescriptor(). Note: Create unlinked descriptors is going to go away. Please use get/find descriptors from generated code or query the descriptor_pool.\n",
      "  DESCRIPTOR = _descriptor.FileDescriptor(\n",
      "C:\\ProgramData\\Anaconda3\\lib\\site-packages\\tensorflow\\core\\framework\\tensor_pb2.py:40: DeprecationWarning: Call to deprecated create function FieldDescriptor(). Note: Create unlinked descriptors is going to go away. Please use get/find descriptors from generated code or query the descriptor_pool.\n",
      "  _descriptor.FieldDescriptor(\n",
      "C:\\ProgramData\\Anaconda3\\lib\\site-packages\\tensorflow\\core\\framework\\tensor_pb2.py:33: DeprecationWarning: Call to deprecated create function Descriptor(). Note: Create unlinked descriptors is going to go away. Please use get/find descriptors from generated code or query the descriptor_pool.\n",
      "  _TENSORPROTO = _descriptor.Descriptor(\n",
      "C:\\ProgramData\\Anaconda3\\lib\\site-packages\\tensorflow\\core\\framework\\attr_value_pb2.py:21: DeprecationWarning: Call to deprecated create function FileDescriptor(). Note: Create unlinked descriptors is going to go away. Please use get/find descriptors from generated code or query the descriptor_pool.\n",
      "  DESCRIPTOR = _descriptor.FileDescriptor(\n",
      "C:\\ProgramData\\Anaconda3\\lib\\site-packages\\tensorflow\\core\\framework\\attr_value_pb2.py:40: DeprecationWarning: Call to deprecated create function FieldDescriptor(). Note: Create unlinked descriptors is going to go away. Please use get/find descriptors from generated code or query the descriptor_pool.\n",
      "  _descriptor.FieldDescriptor(\n",
      "C:\\ProgramData\\Anaconda3\\lib\\site-packages\\tensorflow\\python\\framework\\dtypes.py:511: DeprecationWarning: `np.object` is a deprecated alias for the builtin `object`. To silence this warning, use `object` by itself. Doing this will not modify any behavior and is safe. \n",
      "Deprecated in NumPy 1.20; for more details and guidance: https://numpy.org/devdocs/release/1.20.0-notes.html#deprecations\n",
      "  np.object,\n",
      "C:\\ProgramData\\Anaconda3\\lib\\site-packages\\tensorflow\\python\\framework\\dtypes.py:563: DeprecationWarning: `np.bool` is a deprecated alias for the builtin `bool`. To silence this warning, use `bool` by itself. Doing this will not modify any behavior and is safe. If you specifically wanted the numpy scalar type, use `np.bool_` here.\n",
      "Deprecated in NumPy 1.20; for more details and guidance: https://numpy.org/devdocs/release/1.20.0-notes.html#deprecations\n",
      "  np.bool,\n",
      "C:\\ProgramData\\Anaconda3\\lib\\site-packages\\tensorflow\\python\\framework\\tensor_util.py:176: DeprecationWarning: `np.object` is a deprecated alias for the builtin `object`. To silence this warning, use `object` by itself. Doing this will not modify any behavior and is safe. \n",
      "Deprecated in NumPy 1.20; for more details and guidance: https://numpy.org/devdocs/release/1.20.0-notes.html#deprecations\n",
      "  np.object: SlowAppendObjectArrayToTensorProto,\n",
      "C:\\ProgramData\\Anaconda3\\lib\\site-packages\\tensorflow\\python\\framework\\tensor_util.py:177: DeprecationWarning: `np.bool` is a deprecated alias for the builtin `bool`. To silence this warning, use `bool` by itself. Doing this will not modify any behavior and is safe. If you specifically wanted the numpy scalar type, use `np.bool_` here.\n",
      "Deprecated in NumPy 1.20; for more details and guidance: https://numpy.org/devdocs/release/1.20.0-notes.html#deprecations\n",
      "  np.bool: SlowAppendBoolArrayToTensorProto,\n",
      "C:\\ProgramData\\Anaconda3\\lib\\site-packages\\tensorflow\\python\\ops\\numpy_ops\\np_random.py:110: DeprecationWarning: `np.int` is a deprecated alias for the builtin `int`. To silence this warning, use `int` by itself. Doing this will not modify any behavior and is safe. When replacing `np.int`, you may wish to use e.g. `np.int64` or `np.int32` to specify the precision. If you wish to review your current use, check the release note link for additional information.\n",
      "Deprecated in NumPy 1.20; for more details and guidance: https://numpy.org/devdocs/release/1.20.0-notes.html#deprecations\n",
      "  def randint(low, high=None, size=None, dtype=onp.int):  # pylint: disable=missing-function-docstring\n",
      "C:\\ProgramData\\Anaconda3\\lib\\site-packages\\tensorboard\\compat\\tensorflow_stub\\dtypes.py:569: DeprecationWarning: `np.object` is a deprecated alias for the builtin `object`. To silence this warning, use `object` by itself. Doing this will not modify any behavior and is safe. \n",
      "Deprecated in NumPy 1.20; for more details and guidance: https://numpy.org/devdocs/release/1.20.0-notes.html#deprecations\n",
      "  (np.object, string),\n",
      "C:\\ProgramData\\Anaconda3\\lib\\site-packages\\tensorboard\\compat\\tensorflow_stub\\dtypes.py:570: DeprecationWarning: `np.bool` is a deprecated alias for the builtin `bool`. To silence this warning, use `bool` by itself. Doing this will not modify any behavior and is safe. If you specifically wanted the numpy scalar type, use `np.bool_` here.\n",
      "Deprecated in NumPy 1.20; for more details and guidance: https://numpy.org/devdocs/release/1.20.0-notes.html#deprecations\n",
      "  (np.bool, bool),\n",
      "C:\\ProgramData\\Anaconda3\\lib\\site-packages\\tensorboard\\util\\tensor_util.py:109: DeprecationWarning: `np.object` is a deprecated alias for the builtin `object`. To silence this warning, use `object` by itself. Doing this will not modify any behavior and is safe. \n",
      "Deprecated in NumPy 1.20; for more details and guidance: https://numpy.org/devdocs/release/1.20.0-notes.html#deprecations\n",
      "  np.object: SlowAppendObjectArrayToTensorProto,\n",
      "C:\\ProgramData\\Anaconda3\\lib\\site-packages\\tensorboard\\util\\tensor_util.py:110: DeprecationWarning: `np.bool` is a deprecated alias for the builtin `bool`. To silence this warning, use `bool` by itself. Doing this will not modify any behavior and is safe. If you specifically wanted the numpy scalar type, use `np.bool_` here.\n",
      "Deprecated in NumPy 1.20; for more details and guidance: https://numpy.org/devdocs/release/1.20.0-notes.html#deprecations\n",
      "  np.bool: SlowAppendBoolArrayToTensorProto,\n"
     ]
    }
   ],
   "source": [
    "# Basic imports\n",
    "import numpy as np\n",
    "import matplotlib.pyplot as plt\n",
    "import gym\n",
    "import tensorflow as tf\n",
    "from tensorflow import keras\n",
    "from datetime import datetime"
   ]
  },
  {
   "cell_type": "code",
   "execution_count": 3,
   "id": "87c0ed49",
   "metadata": {},
   "outputs": [],
   "source": [
    "# Import replay buffer and agent\n",
    "from Simple_DQN_Discrete_Actions import Replay_Buffer, DQN_Agent\n"
   ]
  },
  {
   "cell_type": "markdown",
   "id": "10ce382e",
   "metadata": {},
   "source": [
    "## Main"
   ]
  },
  {
   "cell_type": "code",
   "execution_count": 46,
   "id": "0f634c4b",
   "metadata": {},
   "outputs": [
    {
     "name": "stdout",
     "output_type": "stream",
     "text": [
      "DQN_Agent created...\n",
      "Starting main loop...\n",
      "Exited main loop.\n",
      "Exec time is 0:01:47.463107\n"
     ]
    }
   ],
   "source": [
    "if __name__ == \"__main__\":\n",
    "    # Disable eager execution (NOTES)\n",
    "    tf.compat.v1.disable_eager_execution\n",
    "\n",
    "    # Create environment\n",
    "    env = gym.make('LunarLander-v2')\n",
    "\n",
    "    # Max no. of episodes and steps:\n",
    "    n_games = 15\n",
    "    N_steps_max = 50\n",
    "\n",
    "    # Deep RL hyperparameters:\n",
    "    learn_rate = 0.001\n",
    "    gamma = 0.99\n",
    "    eps_ini = 1.0\n",
    "    eps_dec = 5e-5\n",
    "    eps_min = 0.01\n",
    "    batch_size = 64\n",
    "    mem_size = 100000\n",
    "    model_file_name = 'dqn_attempt_0.00.h5'\n",
    "\n",
    "    # Ini filenames \n",
    "    # Total scores\n",
    "    scores_fname = \"LunarLander_Scores.csv\"\n",
    "    # Epsilon\n",
    "    epsilon_hist_fname = \"LunarLander_Epsilon.csv\"\n",
    "\n",
    "\n",
    "    # Create agent\n",
    "    agent = DQN_Agent(input_dims = env.observation_space.shape, discrete_actions= True, n_actions = env.action_space.n,\\\n",
    "                     learn_rate = learn_rate, gamma=gamma, epsilon=eps_ini, batch_size = batch_size, mem_size = mem_size, \\\n",
    "                     epsilon_dec =eps_dec, epsilon_min =eps_min, dqn_fname = model_file_name)\n",
    "    print(\"DQN_Agent created...\")\n",
    "\n",
    "    # Init. score and episode (epsilon) histories\n",
    "    scores_hist = []\n",
    "    eps_hist = []\n",
    "\n",
    "    # Build the DQN (Forgot this on 1st exec...)\n",
    "    agent.build_DQN(256, 256)\n",
    "\n",
    "    # Init. timer of main loop\n",
    "    dqn_begin_time = datetime.now()\n",
    "\n",
    "    print(\"Starting main loop...\")\n",
    "    # Loop over episodes:\n",
    "    for i in range(n_games):\n",
    "        \n",
    "        # Init. episode\n",
    "        done = False\n",
    "        score = 0.0\n",
    "        s = env.reset()\n",
    "        # DEBUG: Fix no. of max steps\n",
    "        N_steps = 0\n",
    "        \n",
    "        # Loop over steps in episodes\n",
    "        while not done and (N_steps < N_steps_max):\n",
    "            \n",
    "            # Choose an action\n",
    "            a = agent.choose_action(s)\n",
    "            # Get reward and next state\n",
    "            s_, r, done, info = env.step(a)\n",
    "            # Update score\n",
    "            score += r\n",
    "            # Store transition\n",
    "            agent.store_transition(s, a, s_, r, done)\n",
    "            \n",
    "            # Learn\n",
    "            agent.train_dqn(N_steps, i, notify_end_train=True)\n",
    "            # Update state\n",
    "            s = s_\n",
    "            # DEBUG: Increment N_steps\n",
    "            N_steps += 1\n",
    "            \n",
    "        # END while over episode steps\n",
    "        \n",
    "        # Update epsilon and score histories\n",
    "        eps_hist.append(agent.epsilon)\n",
    "        scores_hist.append(score)\n",
    "\n",
    "    # END OF MAIN DQN LOOP (i over episodes) \n",
    "    print(\"Exited main loop.\")\n",
    "    \n",
    "    # Exec time of main loop\n",
    "    dqn_exec_time = datetime.now()-dqn_begin_time\n",
    "    print(f\"Exec time is {dqn_exec_time}\")"
   ]
  },
  {
   "cell_type": "markdown",
   "id": "6e4f4515",
   "metadata": {},
   "source": [
    "### Round 1\n",
    "Let's look at what the agent contains:"
   ]
  },
  {
   "cell_type": "code",
   "execution_count": 47,
   "id": "00ea8912",
   "metadata": {},
   "outputs": [
    {
     "data": {
      "text/plain": [
       "array([3, 1, 3, ..., 0, 0, 0], dtype=int8)"
      ]
     },
     "execution_count": 47,
     "metadata": {},
     "output_type": "execute_result"
    }
   ],
   "source": [
    "agent.memory_buffer.memory_actions"
   ]
  },
  {
   "cell_type": "code",
   "execution_count": 6,
   "id": "991de176",
   "metadata": {},
   "outputs": [
    {
     "data": {
      "text/plain": [
       "(100000,)"
      ]
     },
     "execution_count": 6,
     "metadata": {},
     "output_type": "execute_result"
    }
   ],
   "source": [
    "agent.memory_buffer.memory_actions.shape"
   ]
  },
  {
   "cell_type": "markdown",
   "id": "287a18d3",
   "metadata": {},
   "source": [
    "Let's delve more into the training method:\n",
    "\n",
    "            # Get minibatch of samples\n",
    "            # Signature: sample_state, sample_action, sample_new_state, sample_reward, sample_terminal\n",
    "            #            = Replay_Buffer.sample_buffer(batch_size)\n",
    "            states, actions, next_states, rewards, dones = self.memory_buffer.sample_buffer(self.batch_size)\n",
    "            \n",
    "            # Init. Q(s,a), Q(s', a'), Q*(s,a)            \n",
    "            q_eval = self.q_network.predict(states)\n",
    "            q_next = self.q_network.predict(next_states)\n",
    "            q_target = np.copy(q_eval)\n",
    "            \n",
    "            # Ones vector for \"dones\"\n",
    "            # IMPORTANT REMARK: This might cause issues, related to Replay_Buffer.store_transition(),\n",
    "            #                   on line: self.memory_terminal[ind] = int(done) \n",
    "            done_ones = np.ones(shape = dones.shape, dtype=np.int8)\n",
    "            \n",
    "            # Iterable for minibatch\n",
    "            batch_index = np.arange(self.batch_size, dtype=np.int32)\n",
    "            \n",
    "            # Q-learning update (CRUCIAL)\n",
    "            q_target[batch_index, actions] = rewards + self.gamma*np.max(q_next, axis = 1)*(done_ones - dones)\n",
    "            \n",
    "            # Train network (CRUCIAL)\n",
    "            self.q_network.train_on_batch(states, q_target)\n",
    "            \n",
    "            if ((N_steps+1)% 200)==0 and notify_end_train:\n",
    "                print(f\"Done training at step {N_steps+1} of episode {ep_i+1}\")\n",
    "            \n",
    "            # Update epsilon for policy\n",
    "            if self.epsilon_min < self.epsilon:\n",
    "                self.epsilon -= self.epsilon_dec\n",
    "            else:\n",
    "                self.epsilon = self.epsilon_min\n",
    "            \n",
    "            return True"
   ]
  },
  {
   "cell_type": "code",
   "execution_count": 7,
   "id": "e00cadbb",
   "metadata": {},
   "outputs": [
    {
     "name": "stdout",
     "output_type": "stream",
     "text": [
      "Batch size = 64\n"
     ]
    },
    {
     "name": "stderr",
     "output_type": "stream",
     "text": [
      "C:\\ProgramData\\Anaconda3\\lib\\site-packages\\ipykernel\\ipkernel.py:287: DeprecationWarning: `should_run_async` will not call `transform_cell` automatically in the future. Please pass the result to `transformed_cell` argument and any exception that happen during thetransform in `preprocessing_exc_tuple` in IPython 7.17 and above.\n",
      "  and should_run_async(code)\n"
     ]
    }
   ],
   "source": [
    "batch_size = agent.batch_size\n",
    "print(f\"Batch size = {batch_size}\")"
   ]
  },
  {
   "cell_type": "code",
   "execution_count": 8,
   "id": "c6895bcc",
   "metadata": {},
   "outputs": [],
   "source": [
    "self = agent"
   ]
  },
  {
   "cell_type": "code",
   "execution_count": 9,
   "id": "484d23cf",
   "metadata": {},
   "outputs": [],
   "source": [
    "##### TRAINING - PART 1 #####\n",
    "states, actions, next_states, rewards, dones = self.memory_buffer.sample_buffer(self.batch_size)"
   ]
  },
  {
   "cell_type": "code",
   "execution_count": 10,
   "id": "2dac0faa",
   "metadata": {},
   "outputs": [],
   "source": [
    "##### TRAINING - PART 2 #####\n",
    "# Init. Q(s,a), Q(s', a'), Q*(s,a)            \n",
    "q_eval = self.q_network.predict(states)\n",
    "q_next = self.q_network.predict(next_states)\n",
    "q_target = np.copy(q_eval)\n",
    "            \n",
    "# Ones vector for \"dones\"\n",
    "done_ones = np.ones(shape = dones.shape, dtype=np.int8)"
   ]
  },
  {
   "cell_type": "code",
   "execution_count": 11,
   "id": "16570d68",
   "metadata": {},
   "outputs": [],
   "source": [
    "##### TRAINING - PART 3 #####\n",
    "#### THIS I DON'T UNDERSTAND ####\n",
    "# Iterable for minibatch\n",
    "batch_index = np.arange(self.batch_size, dtype=np.int32)"
   ]
  },
  {
   "cell_type": "code",
   "execution_count": 12,
   "id": "16c282b4",
   "metadata": {},
   "outputs": [
    {
     "data": {
      "text/plain": [
       "array([ 0,  1,  2,  3,  4,  5,  6,  7,  8,  9, 10, 11, 12, 13, 14, 15, 16,\n",
       "       17, 18, 19, 20, 21, 22, 23, 24, 25, 26, 27, 28, 29, 30, 31, 32, 33,\n",
       "       34, 35, 36, 37, 38, 39, 40, 41, 42, 43, 44, 45, 46, 47, 48, 49, 50,\n",
       "       51, 52, 53, 54, 55, 56, 57, 58, 59, 60, 61, 62, 63])"
      ]
     },
     "execution_count": 12,
     "metadata": {},
     "output_type": "execute_result"
    }
   ],
   "source": [
    "batch_index"
   ]
  },
  {
   "cell_type": "code",
   "execution_count": 26,
   "id": "d66ee43d",
   "metadata": {},
   "outputs": [
    {
     "name": "stderr",
     "output_type": "stream",
     "text": [
      "C:\\ProgramData\\Anaconda3\\lib\\site-packages\\ipykernel\\ipkernel.py:287: DeprecationWarning: `should_run_async` will not call `transform_cell` automatically in the future. Please pass the result to `transformed_cell` argument and any exception that happen during thetransform in `preprocessing_exc_tuple` in IPython 7.17 and above.\n",
      "  and should_run_async(code)\n"
     ]
    },
    {
     "data": {
      "text/plain": [
       "[0, 1, 2, 3]"
      ]
     },
     "execution_count": 26,
     "metadata": {},
     "output_type": "execute_result"
    }
   ],
   "source": [
    "self.action_space"
   ]
  },
  {
   "cell_type": "code",
   "execution_count": 14,
   "id": "568a5caf",
   "metadata": {},
   "outputs": [
    {
     "data": {
      "text/plain": [
       "array([0, 3, 3, 1, 1, 2, 1, 1, 0, 2, 1, 1, 2, 0, 1, 1, 0, 3, 0, 1, 2, 2,\n",
       "       1, 1, 1, 3, 2, 0, 1, 0, 0, 3, 1, 1, 1, 3, 3, 3, 2, 0, 3, 2, 2, 2,\n",
       "       2, 1, 3, 3, 0, 2, 2, 0, 1, 0, 3, 3, 1, 3, 1, 2, 0, 3, 0, 1],\n",
       "      dtype=int8)"
      ]
     },
     "execution_count": 14,
     "metadata": {},
     "output_type": "execute_result"
    }
   ],
   "source": [
    "actions"
   ]
  },
  {
   "cell_type": "code",
   "execution_count": 21,
   "id": "b414028d",
   "metadata": {},
   "outputs": [
    {
     "data": {
      "text/plain": [
       "array([0, 3, 3, 1, 1], dtype=int8)"
      ]
     },
     "execution_count": 21,
     "metadata": {},
     "output_type": "execute_result"
    }
   ],
   "source": [
    "actions[0:5]"
   ]
  },
  {
   "cell_type": "code",
   "execution_count": 15,
   "id": "9754707f",
   "metadata": {},
   "outputs": [
    {
     "data": {
      "text/plain": [
       "array([0, 0, 0, 0, 0, 0, 0, 0, 0, 0, 0, 0, 0, 0, 0, 0, 0, 0, 0, 0, 0, 0,\n",
       "       0, 0, 0, 0, 0, 0, 0, 0, 0, 0, 0, 0, 0, 0, 0, 0, 0, 0, 0, 0, 0, 0,\n",
       "       0, 0, 0, 0, 0, 0, 0, 0, 0, 0, 0, 0, 0, 0, 0, 0, 0, 0, 0, 0],\n",
       "      dtype=int8)"
      ]
     },
     "execution_count": 15,
     "metadata": {},
     "output_type": "execute_result"
    }
   ],
   "source": [
    "dones"
   ]
  },
  {
   "cell_type": "code",
   "execution_count": 17,
   "id": "78eecf8e",
   "metadata": {},
   "outputs": [
    {
     "data": {
      "text/plain": [
       "array([1, 1, 1, 1, 1, 1, 1, 1, 1, 1, 1, 1, 1, 1, 1, 1, 1, 1, 1, 1, 1, 1,\n",
       "       1, 1, 1, 1, 1, 1, 1, 1, 1, 1, 1, 1, 1, 1, 1, 1, 1, 1, 1, 1, 1, 1,\n",
       "       1, 1, 1, 1, 1, 1, 1, 1, 1, 1, 1, 1, 1, 1, 1, 1, 1, 1, 1, 1],\n",
       "      dtype=int8)"
      ]
     },
     "execution_count": 17,
     "metadata": {},
     "output_type": "execute_result"
    }
   ],
   "source": [
    "done_ones"
   ]
  },
  {
   "cell_type": "code",
   "execution_count": 19,
   "id": "53d436f6",
   "metadata": {},
   "outputs": [
    {
     "data": {
      "text/plain": [
       "(64, 4)"
      ]
     },
     "execution_count": 19,
     "metadata": {},
     "output_type": "execute_result"
    }
   ],
   "source": [
    "q_target.shape"
   ]
  },
  {
   "cell_type": "code",
   "execution_count": 25,
   "id": "95c88288",
   "metadata": {},
   "outputs": [
    {
     "data": {
      "text/plain": [
       "array([74.97974 , 74.20572 , 74.11029 , 74.751236], dtype=float32)"
      ]
     },
     "execution_count": 25,
     "metadata": {},
     "output_type": "execute_result"
    }
   ],
   "source": [
    "q_target[0]"
   ]
  },
  {
   "cell_type": "code",
   "execution_count": 23,
   "id": "0772c392",
   "metadata": {},
   "outputs": [
    {
     "data": {
      "text/plain": [
       "74.20572"
      ]
     },
     "execution_count": 23,
     "metadata": {},
     "output_type": "execute_result"
    }
   ],
   "source": [
    "q_target[0,1]"
   ]
  },
  {
   "cell_type": "code",
   "execution_count": 27,
   "id": "2ee018e9",
   "metadata": {},
   "outputs": [],
   "source": [
    "batch_index_0 = np.arange(5, dtype=np.int32)"
   ]
  },
  {
   "cell_type": "code",
   "execution_count": 28,
   "id": "50c78f4a",
   "metadata": {},
   "outputs": [],
   "source": [
    "actions_0 = actions[batch_index_0]"
   ]
  },
  {
   "cell_type": "code",
   "execution_count": 29,
   "id": "5db3b8ae",
   "metadata": {},
   "outputs": [
    {
     "data": {
      "text/plain": [
       "array([0, 3, 3, 1, 1], dtype=int8)"
      ]
     },
     "execution_count": 29,
     "metadata": {},
     "output_type": "execute_result"
    }
   ],
   "source": [
    "actions_0"
   ]
  },
  {
   "cell_type": "code",
   "execution_count": 30,
   "id": "a66c895c",
   "metadata": {},
   "outputs": [
    {
     "data": {
      "text/plain": [
       "array([0, 3, 3, 1, 1, 2, 1, 1, 0, 2, 1, 1, 2, 0, 1, 1, 0, 3, 0, 1, 2, 2,\n",
       "       1, 1, 1, 3, 2, 0, 1, 0, 0, 3, 1, 1, 1, 3, 3, 3, 2, 0, 3, 2, 2, 2,\n",
       "       2, 1, 3, 3, 0, 2, 2, 0, 1, 0, 3, 3, 1, 3, 1, 2, 0, 3, 0, 1],\n",
       "      dtype=int8)"
      ]
     },
     "execution_count": 30,
     "metadata": {},
     "output_type": "execute_result"
    }
   ],
   "source": [
    "actions"
   ]
  },
  {
   "cell_type": "code",
   "execution_count": 31,
   "id": "d88463be",
   "metadata": {},
   "outputs": [
    {
     "data": {
      "text/plain": [
       "array([74.97974 , 23.042078, 83.31682 , 21.82932 , 93.63664 ],\n",
       "      dtype=float32)"
      ]
     },
     "execution_count": 31,
     "metadata": {},
     "output_type": "execute_result"
    }
   ],
   "source": [
    "q_target[batch_index_0, actions_0]"
   ]
  },
  {
   "cell_type": "code",
   "execution_count": 36,
   "id": "850057f9",
   "metadata": {},
   "outputs": [
    {
     "name": "stdout",
     "output_type": "stream",
     "text": [
      "q_target[0,0]=74.979736328125\n",
      "q_target[0,1]=74.20571899414062\n",
      "q_target[0,2]=74.11029052734375\n",
      "q_target[0,3]=74.75123596191406\n",
      "q_target[1,0]=21.923152923583984\n",
      "q_target[1,1]=19.79814338684082\n",
      "q_target[1,2]=18.323339462280273\n",
      "q_target[1,3]=23.042078018188477\n",
      "q_target[2,0]=83.1660385131836\n",
      "q_target[2,1]=82.32978820800781\n",
      "q_target[2,2]=83.48722839355469\n",
      "q_target[2,3]=83.31681823730469\n",
      "q_target[3,0]=23.870349884033203\n",
      "q_target[3,1]=21.829320907592773\n",
      "q_target[3,2]=20.331628799438477\n",
      "q_target[3,3]=24.884305953979492\n",
      "q_target[4,0]=92.3262939453125\n",
      "q_target[4,1]=93.63664245605469\n",
      "q_target[4,2]=85.42981719970703\n",
      "q_target[4,3]=88.07614135742188\n"
     ]
    }
   ],
   "source": [
    "q_target_reduced_0 = np.copy(q_target[batch_index_0, actions_0])\n",
    "for i in range(5):\n",
    "    for a in self.action_space:\n",
    "        print(f\"q_target[{i},{a}]={q_target[i,a]}\")\n",
    "        #print(f\"q_target[batch_index_0, actions_0][{i},{a}] = {q_target_reduced_0[i,a]}\\n\")"
   ]
  },
  {
   "cell_type": "code",
   "execution_count": 38,
   "id": "5d00b24d",
   "metadata": {},
   "outputs": [
    {
     "name": "stdout",
     "output_type": "stream",
     "text": [
      "q_target[0,0]=74.979736328125\n",
      "q_target[0,3]=74.75123596191406\n",
      "q_target[0,3]=74.75123596191406\n",
      "q_target[0,1]=74.20571899414062\n",
      "q_target[0,1]=74.20571899414062\n",
      "q_target[1,0]=21.923152923583984\n",
      "q_target[1,3]=23.042078018188477\n",
      "q_target[1,3]=23.042078018188477\n",
      "q_target[1,1]=19.79814338684082\n",
      "q_target[1,1]=19.79814338684082\n",
      "q_target[2,0]=83.1660385131836\n",
      "q_target[2,3]=83.31681823730469\n",
      "q_target[2,3]=83.31681823730469\n",
      "q_target[2,1]=82.32978820800781\n",
      "q_target[2,1]=82.32978820800781\n",
      "q_target[3,0]=23.870349884033203\n",
      "q_target[3,3]=24.884305953979492\n",
      "q_target[3,3]=24.884305953979492\n",
      "q_target[3,1]=21.829320907592773\n",
      "q_target[3,1]=21.829320907592773\n",
      "q_target[4,0]=92.3262939453125\n",
      "q_target[4,3]=88.07614135742188\n",
      "q_target[4,3]=88.07614135742188\n",
      "q_target[4,1]=93.63664245605469\n",
      "q_target[4,1]=93.63664245605469\n"
     ]
    }
   ],
   "source": [
    "for i in batch_index_0:\n",
    "    for a in actions_0:\n",
    "        print(f\"q_target[{i},{a}]={q_target[i,a]}\")"
   ]
  },
  {
   "cell_type": "code",
   "execution_count": null,
   "id": "a6c24b38",
   "metadata": {},
   "outputs": [],
   "source": []
  },
  {
   "cell_type": "code",
   "execution_count": 40,
   "id": "d08094de",
   "metadata": {},
   "outputs": [
    {
     "name": "stdout",
     "output_type": "stream",
     "text": [
      "[[75.9446   75.16475  75.147255 75.732574]\n",
      " [23.100016 20.98738  19.517458 24.180845]\n",
      " [84.673706 83.893295 85.082504 84.81499 ]\n",
      " [23.770245 21.665264 20.215914 24.82218 ]\n",
      " [94.46664  95.757164 87.80471  90.31445 ]]\n"
     ]
    }
   ],
   "source": [
    "print(q_next[batch_index_0])"
   ]
  },
  {
   "cell_type": "code",
   "execution_count": 41,
   "id": "48f62fb2",
   "metadata": {},
   "outputs": [
    {
     "data": {
      "text/plain": [
       "array([75.9446  , 24.180845, 85.082504, 24.82218 , 95.757164],\n",
       "      dtype=float32)"
      ]
     },
     "execution_count": 41,
     "metadata": {},
     "output_type": "execute_result"
    }
   ],
   "source": [
    "np.max(q_next[batch_index_0], axis = 1)"
   ]
  },
  {
   "cell_type": "code",
   "execution_count": 42,
   "id": "e9988b78",
   "metadata": {},
   "outputs": [],
   "source": [
    "q_next_0 = np.copy(q_next[batch_index_0])"
   ]
  },
  {
   "cell_type": "code",
   "execution_count": 43,
   "id": "f294ad73",
   "metadata": {},
   "outputs": [
    {
     "data": {
      "text/plain": [
       "array([[75.9446  , 75.16475 , 75.147255, 75.732574],\n",
       "       [23.100016, 20.98738 , 19.517458, 24.180845],\n",
       "       [84.673706, 83.893295, 85.082504, 84.81499 ],\n",
       "       [23.770245, 21.665264, 20.215914, 24.82218 ],\n",
       "       [94.46664 , 95.757164, 87.80471 , 90.31445 ]], dtype=float32)"
      ]
     },
     "execution_count": 43,
     "metadata": {},
     "output_type": "execute_result"
    }
   ],
   "source": [
    "q_next_0"
   ]
  },
  {
   "cell_type": "code",
   "execution_count": 44,
   "id": "230debf3",
   "metadata": {},
   "outputs": [
    {
     "data": {
      "text/plain": [
       "84.81499"
      ]
     },
     "execution_count": 44,
     "metadata": {},
     "output_type": "execute_result"
    }
   ],
   "source": [
    "q_next_0[2][3]"
   ]
  },
  {
   "cell_type": "code",
   "execution_count": null,
   "id": "3e54d2be",
   "metadata": {},
   "outputs": [],
   "source": []
  },
  {
   "cell_type": "code",
   "execution_count": null,
   "id": "56ec1fae",
   "metadata": {},
   "outputs": [],
   "source": []
  },
  {
   "cell_type": "code",
   "execution_count": 45,
   "id": "0829b007",
   "metadata": {},
   "outputs": [],
   "source": [
    "##### TRAINING - PART 4 #####\n",
    "#### THIS I DON'T UNDERSTAND ####\n",
    "\n",
    "# Q-learning update (CRUCIAL)\n",
    "# Looks like this is done to avoid a loop\n",
    "q_target[batch_index, actions] = rewards + self.gamma*np.max(q_next, axis = 1)*(done_ones - dones)"
   ]
  },
  {
   "cell_type": "code",
   "execution_count": null,
   "id": "4bf257bb",
   "metadata": {},
   "outputs": [],
   "source": []
  },
  {
   "cell_type": "code",
   "execution_count": null,
   "id": "c351ae42",
   "metadata": {},
   "outputs": [],
   "source": []
  },
  {
   "cell_type": "code",
   "execution_count": null,
   "id": "ccac1035",
   "metadata": {},
   "outputs": [],
   "source": []
  },
  {
   "cell_type": "code",
   "execution_count": null,
   "id": "55a95c6f",
   "metadata": {},
   "outputs": [],
   "source": []
  },
  {
   "cell_type": "code",
   "execution_count": null,
   "id": "f1cb53c6",
   "metadata": {},
   "outputs": [],
   "source": [
    "##### TRAINING - PART 5 #####\n",
    "# Train network (CRUCIAL)\n",
    "self.q_network.train_on_batch(states, q_target)"
   ]
  },
  {
   "cell_type": "code",
   "execution_count": null,
   "id": "e7afed00",
   "metadata": {},
   "outputs": [],
   "source": []
  },
  {
   "cell_type": "markdown",
   "id": "70dfbff0",
   "metadata": {},
   "source": [
    "### Round 2\n",
    "Here, I'm trying to unpack the line:\n",
    "\n",
    "            q_target[batch_index, actions] = rewards + self.gamma*np.max(q_next, axis = 1)*(done_ones - dones)\n",
    "            \n",
    "The batch_index variable is just the range [0:63] in array form, and this line replaces a loop over the minibatch of sampled actions."
   ]
  },
  {
   "cell_type": "code",
   "execution_count": 54,
   "id": "9910c728",
   "metadata": {},
   "outputs": [],
   "source": [
    "self = agent"
   ]
  },
  {
   "cell_type": "code",
   "execution_count": 55,
   "id": "811f7ad1",
   "metadata": {},
   "outputs": [
    {
     "data": {
      "text/plain": [
       "array([3, 1, 3, ..., 0, 0, 0], dtype=int8)"
      ]
     },
     "execution_count": 55,
     "metadata": {},
     "output_type": "execute_result"
    }
   ],
   "source": [
    "agent.memory_buffer.memory_actions"
   ]
  },
  {
   "cell_type": "code",
   "execution_count": 49,
   "id": "62abedcf",
   "metadata": {},
   "outputs": [],
   "source": [
    "##### TRAINING - PART 1 #####\n",
    "states, actions, next_states, rewards, dones = self.memory_buffer.sample_buffer(self.batch_size)"
   ]
  },
  {
   "cell_type": "code",
   "execution_count": 50,
   "id": "731d531c",
   "metadata": {},
   "outputs": [],
   "source": [
    "##### TRAINING - PART 2 #####\n",
    "# Init. Q(s,a), Q(s', a'), Q*(s,a)            \n",
    "q_eval = self.q_network.predict(states)\n",
    "q_next = self.q_network.predict(next_states)\n",
    "q_target = np.copy(q_eval)\n",
    "            \n",
    "# Ones vector for \"dones\"\n",
    "done_ones = np.ones(shape = dones.shape, dtype=np.int8)"
   ]
  },
  {
   "cell_type": "code",
   "execution_count": 51,
   "id": "7a60c2b1",
   "metadata": {},
   "outputs": [],
   "source": [
    "##### TRAINING - PART 3 #####\n",
    "#### THIS I DON'T UNDERSTAND ####\n",
    "# Iterable for minibatch\n",
    "batch_index = np.arange(self.batch_size, dtype=np.int32)"
   ]
  },
  {
   "cell_type": "code",
   "execution_count": 52,
   "id": "32d14f59",
   "metadata": {},
   "outputs": [
    {
     "data": {
      "text/plain": [
       "array([ 0,  1,  2,  3,  4,  5,  6,  7,  8,  9, 10, 11, 12, 13, 14, 15, 16,\n",
       "       17, 18, 19, 20, 21, 22, 23, 24, 25, 26, 27, 28, 29, 30, 31, 32, 33,\n",
       "       34, 35, 36, 37, 38, 39, 40, 41, 42, 43, 44, 45, 46, 47, 48, 49, 50,\n",
       "       51, 52, 53, 54, 55, 56, 57, 58, 59, 60, 61, 62, 63])"
      ]
     },
     "execution_count": 52,
     "metadata": {},
     "output_type": "execute_result"
    }
   ],
   "source": [
    "batch_index"
   ]
  },
  {
   "cell_type": "code",
   "execution_count": 26,
   "id": "46f12434",
   "metadata": {},
   "outputs": [
    {
     "name": "stderr",
     "output_type": "stream",
     "text": [
      "C:\\ProgramData\\Anaconda3\\lib\\site-packages\\ipykernel\\ipkernel.py:287: DeprecationWarning: `should_run_async` will not call `transform_cell` automatically in the future. Please pass the result to `transformed_cell` argument and any exception that happen during thetransform in `preprocessing_exc_tuple` in IPython 7.17 and above.\n",
      "  and should_run_async(code)\n"
     ]
    },
    {
     "data": {
      "text/plain": [
       "[0, 1, 2, 3]"
      ]
     },
     "execution_count": 26,
     "metadata": {},
     "output_type": "execute_result"
    }
   ],
   "source": [
    "self.action_space"
   ]
  },
  {
   "cell_type": "code",
   "execution_count": 53,
   "id": "ec3fb6a9",
   "metadata": {},
   "outputs": [],
   "source": [
    "batch_indices = [i for i in range(self.batch_size)]"
   ]
  },
  {
   "cell_type": "code",
   "execution_count": 56,
   "id": "e0ea657a",
   "metadata": {
    "collapsed": true
   },
   "outputs": [
    {
     "data": {
      "text/plain": [
       "[0,\n",
       " 1,\n",
       " 2,\n",
       " 3,\n",
       " 4,\n",
       " 5,\n",
       " 6,\n",
       " 7,\n",
       " 8,\n",
       " 9,\n",
       " 10,\n",
       " 11,\n",
       " 12,\n",
       " 13,\n",
       " 14,\n",
       " 15,\n",
       " 16,\n",
       " 17,\n",
       " 18,\n",
       " 19,\n",
       " 20,\n",
       " 21,\n",
       " 22,\n",
       " 23,\n",
       " 24,\n",
       " 25,\n",
       " 26,\n",
       " 27,\n",
       " 28,\n",
       " 29,\n",
       " 30,\n",
       " 31,\n",
       " 32,\n",
       " 33,\n",
       " 34,\n",
       " 35,\n",
       " 36,\n",
       " 37,\n",
       " 38,\n",
       " 39,\n",
       " 40,\n",
       " 41,\n",
       " 42,\n",
       " 43,\n",
       " 44,\n",
       " 45,\n",
       " 46,\n",
       " 47,\n",
       " 48,\n",
       " 49,\n",
       " 50,\n",
       " 51,\n",
       " 52,\n",
       " 53,\n",
       " 54,\n",
       " 55,\n",
       " 56,\n",
       " 57,\n",
       " 58,\n",
       " 59,\n",
       " 60,\n",
       " 61,\n",
       " 62,\n",
       " 63]"
      ]
     },
     "execution_count": 56,
     "metadata": {},
     "output_type": "execute_result"
    }
   ],
   "source": [
    "batch_indices"
   ]
  },
  {
   "cell_type": "code",
   "execution_count": 65,
   "id": "2d5082d6",
   "metadata": {},
   "outputs": [],
   "source": [
    "# create 2 copies to compare main Q-update\n",
    "q_target_v1 = np.copy(q_target)\n",
    "q_target_v2 = np.copy(q_target)"
   ]
  },
  {
   "cell_type": "code",
   "execution_count": 66,
   "id": "b1d17f76",
   "metadata": {},
   "outputs": [],
   "source": [
    "q_target_v1[batch_index, actions] = rewards + self.gamma*np.max(q_next, axis = 1)*(done_ones - dones)"
   ]
  },
  {
   "cell_type": "code",
   "execution_count": 67,
   "id": "7f29c154",
   "metadata": {
    "collapsed": true
   },
   "outputs": [
    {
     "data": {
      "text/plain": [
       "array([46388.316, 75452.46 , 48130.96 , 68365.695, 41415.332, 74317.22 ,\n",
       "       41382.363, 48550.54 , 78040.43 , 48479.992, 32507.139, 75191.59 ,\n",
       "       43172.996, 74218.3  , 75578.11 , 59105.23 , 67476.98 , 48761.234,\n",
       "       53650.516, 80775.59 , 61559.105, 66108.74 , 74058.93 , 82146.61 ,\n",
       "       72897.54 , 72940.13 , 68213.93 , 76570.62 , 57692.664, 72257.47 ,\n",
       "       70827.03 , 72759.21 , 45532.234, 37226.1  , 36616.703, 36058.297,\n",
       "       74096.12 , 76208.77 , 78330.484, 73829.88 , 44656.492, 68822.86 ,\n",
       "       71652.84 , 48412.934, 28663.545, 63212.71 , 62622.832, 74589.97 ,\n",
       "       60131.29 , 45705.39 , 43078.977, 26622.963, 49164.816, 42615.363,\n",
       "       54385.957, 53758.766, 47278.168, 27548.688, 67266.55 , 78435.805,\n",
       "       66369.52 , 76329.14 , 66047.25 , 66537.83 ], dtype=float32)"
      ]
     },
     "execution_count": 67,
     "metadata": {},
     "output_type": "execute_result"
    }
   ],
   "source": [
    "q_target_v1[batch_indices, actions]"
   ]
  },
  {
   "cell_type": "code",
   "execution_count": 68,
   "id": "978a317a",
   "metadata": {
    "collapsed": true
   },
   "outputs": [
    {
     "data": {
      "text/plain": [
       "array([46388.316, 75452.46 , 48130.96 , 68365.695, 41415.332, 74317.22 ,\n",
       "       41382.363, 48550.54 , 78040.43 , 48479.992, 32507.139, 75191.59 ,\n",
       "       43172.996, 74218.3  , 75578.11 , 59105.23 , 67476.98 , 48761.234,\n",
       "       53650.516, 80775.59 , 61559.105, 66108.74 , 74058.93 , 82146.61 ,\n",
       "       72897.54 , 72940.13 , 68213.93 , 76570.62 , 57692.664, 72257.47 ,\n",
       "       70827.03 , 72759.21 , 45532.234, 37226.1  , 36616.703, 36058.297,\n",
       "       74096.12 , 76208.77 , 78330.484, 73829.88 , 44656.492, 68822.86 ,\n",
       "       71652.84 , 48412.934, 28663.545, 63212.71 , 62622.832, 74589.97 ,\n",
       "       60131.29 , 45705.39 , 43078.977, 26622.963, 49164.816, 42615.363,\n",
       "       54385.957, 53758.766, 47278.168, 27548.688, 67266.55 , 78435.805,\n",
       "       66369.52 , 76329.14 , 66047.25 , 66537.83 ], dtype=float32)"
      ]
     },
     "execution_count": 68,
     "metadata": {},
     "output_type": "execute_result"
    }
   ],
   "source": [
    "q_target_v1[batch_index, actions]"
   ]
  },
  {
   "cell_type": "code",
   "execution_count": 71,
   "id": "64986be6",
   "metadata": {},
   "outputs": [],
   "source": [
    "for i in batch_indices:\n",
    "    q_next_i = q_next[i]\n",
    "    q_target_v2[i,actions[i]] = rewards[i]+self.gamma*np.max(q_next_i)*(done_ones[i]-dones[i])\n",
    "        "
   ]
  },
  {
   "cell_type": "code",
   "execution_count": 72,
   "id": "f02c3f85",
   "metadata": {},
   "outputs": [
    {
     "data": {
      "text/plain": [
       "array([[ True,  True,  True,  True],\n",
       "       [False,  True,  True,  True],\n",
       "       [ True,  True,  True,  True],\n",
       "       [ True,  True,  True,  True],\n",
       "       [ True,  True,  True,  True],\n",
       "       [ True,  True,  True,  True],\n",
       "       [ True,  True,  True,  True],\n",
       "       [ True,  True,  True,  True],\n",
       "       [ True,  True, False,  True],\n",
       "       [ True,  True,  True,  True],\n",
       "       [ True,  True,  True,  True],\n",
       "       [ True,  True,  True,  True],\n",
       "       [ True,  True,  True,  True],\n",
       "       [ True,  True,  True,  True],\n",
       "       [False,  True,  True,  True],\n",
       "       [ True,  True,  True,  True],\n",
       "       [ True,  True,  True,  True],\n",
       "       [ True,  True,  True,  True],\n",
       "       [ True,  True,  True,  True],\n",
       "       [ True,  True,  True,  True],\n",
       "       [ True,  True,  True,  True],\n",
       "       [ True,  True,  True,  True],\n",
       "       [ True,  True,  True,  True],\n",
       "       [ True,  True,  True,  True],\n",
       "       [ True,  True,  True,  True],\n",
       "       [ True,  True,  True,  True],\n",
       "       [ True,  True,  True,  True],\n",
       "       [ True,  True,  True,  True],\n",
       "       [ True,  True,  True,  True],\n",
       "       [ True,  True,  True,  True],\n",
       "       [ True,  True,  True,  True],\n",
       "       [ True,  True,  True,  True],\n",
       "       [ True,  True,  True,  True],\n",
       "       [ True,  True,  True,  True],\n",
       "       [ True, False,  True,  True],\n",
       "       [ True,  True, False,  True],\n",
       "       [ True,  True,  True,  True],\n",
       "       [ True,  True,  True,  True],\n",
       "       [ True, False,  True,  True],\n",
       "       [ True,  True,  True,  True],\n",
       "       [ True,  True,  True,  True],\n",
       "       [ True,  True,  True,  True],\n",
       "       [ True,  True,  True,  True],\n",
       "       [ True,  True,  True,  True],\n",
       "       [ True,  True,  True,  True],\n",
       "       [ True,  True, False,  True],\n",
       "       [ True,  True,  True,  True],\n",
       "       [ True,  True,  True,  True],\n",
       "       [ True,  True,  True,  True],\n",
       "       [ True,  True,  True,  True],\n",
       "       [ True,  True,  True,  True],\n",
       "       [ True,  True,  True,  True],\n",
       "       [ True,  True,  True,  True],\n",
       "       [ True,  True,  True,  True],\n",
       "       [ True, False,  True,  True],\n",
       "       [ True,  True,  True,  True],\n",
       "       [ True,  True,  True,  True],\n",
       "       [ True,  True, False,  True],\n",
       "       [ True,  True,  True,  True],\n",
       "       [ True,  True,  True,  True],\n",
       "       [False,  True,  True,  True],\n",
       "       [ True,  True,  True,  True],\n",
       "       [ True,  True,  True,  True],\n",
       "       [ True,  True,  True,  True]])"
      ]
     },
     "execution_count": 72,
     "metadata": {},
     "output_type": "execute_result"
    }
   ],
   "source": [
    "q_target_v1 == q_target_v2"
   ]
  },
  {
   "cell_type": "code",
   "execution_count": 73,
   "id": "d0d82175",
   "metadata": {},
   "outputs": [
    {
     "data": {
      "text/plain": [
       "75452.46"
      ]
     },
     "execution_count": 73,
     "metadata": {},
     "output_type": "execute_result"
    }
   ],
   "source": [
    "q_target_v1[1,0]"
   ]
  },
  {
   "cell_type": "code",
   "execution_count": 75,
   "id": "3faefe9b",
   "metadata": {},
   "outputs": [
    {
     "data": {
      "text/plain": [
       "75452.45"
      ]
     },
     "execution_count": 75,
     "metadata": {},
     "output_type": "execute_result"
    }
   ],
   "source": [
    "q_target_v2[1,0]"
   ]
  },
  {
   "cell_type": "code",
   "execution_count": 76,
   "id": "b259a83f",
   "metadata": {},
   "outputs": [
    {
     "name": "stdout",
     "output_type": "stream",
     "text": [
      "q_target_v1[1,0] not equal q_target_v2[1,0]\n",
      "\n",
      "q_target_v1[1,0]=75452.4609375\n",
      "\n",
      "q_target_v2[1,0]=75452.453125\n",
      "\n",
      "-----------------------------------------------------\n",
      "q_target_v1[8,2] not equal q_target_v2[8,2]\n",
      "\n",
      "q_target_v1[8,2]=78040.4296875\n",
      "\n",
      "q_target_v2[8,2]=78040.421875\n",
      "\n",
      "-----------------------------------------------------\n",
      "q_target_v1[14,0] not equal q_target_v2[14,0]\n",
      "\n",
      "q_target_v1[14,0]=75578.109375\n",
      "\n",
      "q_target_v2[14,0]=75578.1015625\n",
      "\n",
      "-----------------------------------------------------\n",
      "q_target_v1[34,1] not equal q_target_v2[34,1]\n",
      "\n",
      "q_target_v1[34,1]=36616.703125\n",
      "\n",
      "q_target_v2[34,1]=36616.69921875\n",
      "\n",
      "-----------------------------------------------------\n",
      "q_target_v1[35,2] not equal q_target_v2[35,2]\n",
      "\n",
      "q_target_v1[35,2]=36058.296875\n",
      "\n",
      "q_target_v2[35,2]=36058.30078125\n",
      "\n",
      "-----------------------------------------------------\n",
      "q_target_v1[38,1] not equal q_target_v2[38,1]\n",
      "\n",
      "q_target_v1[38,1]=78330.484375\n",
      "\n",
      "q_target_v2[38,1]=78330.4765625\n",
      "\n",
      "-----------------------------------------------------\n",
      "q_target_v1[45,2] not equal q_target_v2[45,2]\n",
      "\n",
      "q_target_v1[45,2]=63212.7109375\n",
      "\n",
      "q_target_v2[45,2]=63212.71484375\n",
      "\n",
      "-----------------------------------------------------\n",
      "q_target_v1[54,1] not equal q_target_v2[54,1]\n",
      "\n",
      "q_target_v1[54,1]=54385.95703125\n",
      "\n",
      "q_target_v2[54,1]=54385.953125\n",
      "\n",
      "-----------------------------------------------------\n",
      "q_target_v1[57,2] not equal q_target_v2[57,2]\n",
      "\n",
      "q_target_v1[57,2]=27548.6875\n",
      "\n",
      "q_target_v2[57,2]=27548.685546875\n",
      "\n",
      "-----------------------------------------------------\n",
      "q_target_v1[60,0] not equal q_target_v2[60,0]\n",
      "\n",
      "q_target_v1[60,0]=66369.5234375\n",
      "\n",
      "q_target_v2[60,0]=66369.53125\n",
      "\n",
      "-----------------------------------------------------\n"
     ]
    }
   ],
   "source": [
    "for i in batch_indices:\n",
    "    for j in self.action_space:\n",
    "        if q_target_v1[i,j] != q_target_v2[i,j]:\n",
    "            print(f\"q_target_v1[{i},{j}] not equal q_target_v2[{i},{j}]\\n\")\n",
    "            print(f\"q_target_v1[{i},{j}]={q_target_v1[i,j]}\\n\")\n",
    "            print(f\"q_target_v2[{i},{j}]={q_target_v2[i,j]}\\n\")\n",
    "            print(f\"-----------------------------------------------------\")\n",
    "            "
   ]
  },
  {
   "cell_type": "code",
   "execution_count": 77,
   "id": "b713f9fd",
   "metadata": {},
   "outputs": [
    {
     "name": "stdout",
     "output_type": "stream",
     "text": [
      "Help on function around in module numpy:\n",
      "\n",
      "around(a, decimals=0, out=None)\n",
      "    Evenly round to the given number of decimals.\n",
      "    \n",
      "    Parameters\n",
      "    ----------\n",
      "    a : array_like\n",
      "        Input data.\n",
      "    decimals : int, optional\n",
      "        Number of decimal places to round to (default: 0).  If\n",
      "        decimals is negative, it specifies the number of positions to\n",
      "        the left of the decimal point.\n",
      "    out : ndarray, optional\n",
      "        Alternative output array in which to place the result. It must have\n",
      "        the same shape as the expected output, but the type of the output\n",
      "        values will be cast if necessary. See :ref:`ufuncs-output-type` for more\n",
      "        details.\n",
      "    \n",
      "    Returns\n",
      "    -------\n",
      "    rounded_array : ndarray\n",
      "        An array of the same type as `a`, containing the rounded values.\n",
      "        Unless `out` was specified, a new array is created.  A reference to\n",
      "        the result is returned.\n",
      "    \n",
      "        The real and imaginary parts of complex numbers are rounded\n",
      "        separately.  The result of rounding a float is a float.\n",
      "    \n",
      "    See Also\n",
      "    --------\n",
      "    ndarray.round : equivalent method\n",
      "    \n",
      "    ceil, fix, floor, rint, trunc\n",
      "    \n",
      "    \n",
      "    Notes\n",
      "    -----\n",
      "    For values exactly halfway between rounded decimal values, NumPy\n",
      "    rounds to the nearest even value. Thus 1.5 and 2.5 round to 2.0,\n",
      "    -0.5 and 0.5 round to 0.0, etc.\n",
      "    \n",
      "    ``np.around`` uses a fast but sometimes inexact algorithm to round\n",
      "    floating-point datatypes. For positive `decimals` it is equivalent to\n",
      "    ``np.true_divide(np.rint(a * 10**decimals), 10**decimals)``, which has\n",
      "    error due to the inexact representation of decimal fractions in the IEEE\n",
      "    floating point standard [1]_ and errors introduced when scaling by powers\n",
      "    of ten. For instance, note the extra \"1\" in the following:\n",
      "    \n",
      "        >>> np.round(56294995342131.5, 3)\n",
      "        56294995342131.51\n",
      "    \n",
      "    If your goal is to print such values with a fixed number of decimals, it is\n",
      "    preferable to use numpy's float printing routines to limit the number of\n",
      "    printed decimals:\n",
      "    \n",
      "        >>> np.format_float_positional(56294995342131.5, precision=3)\n",
      "        '56294995342131.5'\n",
      "    \n",
      "    The float printing routines use an accurate but much more computationally\n",
      "    demanding algorithm to compute the number of digits after the decimal\n",
      "    point.\n",
      "    \n",
      "    Alternatively, Python's builtin `round` function uses a more accurate\n",
      "    but slower algorithm for 64-bit floating point values:\n",
      "    \n",
      "        >>> round(56294995342131.5, 3)\n",
      "        56294995342131.5\n",
      "        >>> np.round(16.055, 2), round(16.055, 2)  # equals 16.0549999999999997\n",
      "        (16.06, 16.05)\n",
      "    \n",
      "    \n",
      "    References\n",
      "    ----------\n",
      "    .. [1] \"Lecture Notes on the Status of IEEE 754\", William Kahan,\n",
      "           https://people.eecs.berkeley.edu/~wkahan/ieee754status/IEEE754.PDF\n",
      "    .. [2] \"How Futile are Mindless Assessments of\n",
      "           Roundoff in Floating-Point Computation?\", William Kahan,\n",
      "           https://people.eecs.berkeley.edu/~wkahan/Mindless.pdf\n",
      "    \n",
      "    Examples\n",
      "    --------\n",
      "    >>> np.around([0.37, 1.64])\n",
      "    array([0.,  2.])\n",
      "    >>> np.around([0.37, 1.64], decimals=1)\n",
      "    array([0.4,  1.6])\n",
      "    >>> np.around([.5, 1.5, 2.5, 3.5, 4.5]) # rounds to nearest even value\n",
      "    array([0.,  2.,  2.,  4.,  4.])\n",
      "    >>> np.around([1,2,3,11], decimals=1) # ndarray of ints is returned\n",
      "    array([ 1,  2,  3, 11])\n",
      "    >>> np.around([1,2,3,11], decimals=-1)\n",
      "    array([ 0,  0,  0, 10])\n",
      "\n"
     ]
    }
   ],
   "source": [
    "help(np.around)"
   ]
  },
  {
   "cell_type": "code",
   "execution_count": null,
   "id": "ccdcee00",
   "metadata": {},
   "outputs": [],
   "source": []
  },
  {
   "cell_type": "code",
   "execution_count": 70,
   "id": "a7bd122e",
   "metadata": {},
   "outputs": [
    {
     "data": {
      "text/plain": [
       "array([0, 0, 1, 3, 1, 0, 2, 2, 2, 1, 3, 3, 0, 2, 0, 1, 1, 1, 2, 2, 2, 0,\n",
       "       3, 2, 0, 3, 0, 2, 0, 0, 1, 0, 2, 2, 1, 2, 2, 3, 1, 0, 3, 2, 1, 0,\n",
       "       3, 2, 2, 1, 1, 2, 2, 2, 2, 1, 1, 1, 1, 2, 3, 0, 0, 0, 0, 2],\n",
       "      dtype=int8)"
      ]
     },
     "execution_count": 70,
     "metadata": {},
     "output_type": "execute_result"
    }
   ],
   "source": [
    "actions"
   ]
  },
  {
   "cell_type": "code",
   "execution_count": 69,
   "id": "15f3b684",
   "metadata": {
    "collapsed": true
   },
   "outputs": [
    {
     "data": {
      "text/plain": [
       "array([[46388.316, 46647.812, 45403.855, 45254.984],\n",
       "       [75452.46 , 75972.86 , 73949.734, 73707.625],\n",
       "       [46272.797, 48130.96 , 45835.105, 45684.79 ],\n",
       "       [68706.83 , 69919.88 , 68057.78 , 68365.695],\n",
       "       [40130.203, 41415.332, 39749.87 , 39619.566],\n",
       "       [74317.22 , 74446.04 , 72464.16 , 72226.88 ],\n",
       "       [41880.965, 42621.156, 41382.363, 41348.36 ],\n",
       "       [49125.35 , 49993.527, 48550.54 , 48500.742],\n",
       "       [77940.64 , 79316.59 , 78040.43 , 76951.96 ],\n",
       "       [47083.82 , 48479.992, 46638.06 , 46485.16 ],\n",
       "       [33429.867, 34024.74 , 33107.12 , 32507.139],\n",
       "       [75252.89 , 76581.39 , 74542.19 , 75191.59 ],\n",
       "       [43172.996, 43620.05 , 42456.363, 42317.195],\n",
       "       [72917.67 , 74204.99 , 74218.3  , 71992.336],\n",
       "       [75578.11 , 76128.016, 74100.695, 73858.09 ],\n",
       "       [57904.043, 59105.23 , 57356.223, 57168.617],\n",
       "       [65522.867, 67476.98 , 64903.863, 64691.305],\n",
       "       [47265.938, 48761.234, 46818.51 , 46664.99 ],\n",
       "       [53688.305, 54636.41 , 53650.516, 53006.445],\n",
       "       [80296.75 , 81714.17 , 80775.59 , 79278.59 ],\n",
       "       [61104.805, 62183.93 , 61559.105, 60328.9  ],\n",
       "       [66108.74 , 66528.73 , 64756.84 , 64544.79 ],\n",
       "       [73729.516, 75031.164, 73033.234, 74058.93 ],\n",
       "       [81495.2  , 82933.8  , 82146.61 , 80461.74 ],\n",
       "       [72897.54 , 73545.9  , 71587.305, 71352.97 ],\n",
       "       [73259.96 , 74553.29 , 72568.125, 72940.13 ],\n",
       "       [68213.93 , 68148.07 , 66333.9  , 66116.66 ],\n",
       "       [75733.234, 77070.32 , 76570.62 , 74772.25 ],\n",
       "       [57692.664, 57765.477, 56226.223, 56041.9  ],\n",
       "       [72257.47 , 72615.98 , 70682.25 , 70450.8  ],\n",
       "       [69108.56 , 70827.03 , 68455.625, 68231.44 ],\n",
       "       [72759.21 , 72749.9  , 70813.26 , 70581.37 ],\n",
       "       [45865.28 , 46675.9  , 45532.234, 45282.242],\n",
       "       [38567.42 , 39252.375, 37226.1  , 38072.46 ],\n",
       "       [35231.734, 36616.703, 34893.94 , 34779.92 ],\n",
       "       [36765.766, 37419.152, 36058.297, 36293.336],\n",
       "       [73785.94 , 75088.79 , 74096.12 , 72849.75 ],\n",
       "       [76075.41 , 77418.43 , 75356.95 , 76208.77 ],\n",
       "       [76001.31 , 78330.484, 75283.59 , 75036.984],\n",
       "       [73829.88 , 74352.85 , 72372.555, 72135.58 ],\n",
       "       [45466.   , 46269.484, 45035.64 , 44656.492],\n",
       "       [68306.98 , 69513.29 , 68822.86 , 67439.96 ],\n",
       "       [69520.22 , 71652.84 , 68863.875, 68638.36 ],\n",
       "       [48412.934, 48724.316, 47424.566, 47269.164],\n",
       "       [29314.145, 29832.684, 29035.787, 28663.545],\n",
       "       [62733.11 , 63840.844, 63212.71 , 61936.67 ],\n",
       "       [62226.906, 63325.97 , 62622.832, 61436.73 ],\n",
       "       [72220.08 , 74589.97 , 71538.25 , 71303.99 ],\n",
       "       [57998.242, 60131.29 , 57449.99 , 57261.67 ],\n",
       "       [46536.797, 47359.2  , 45705.39 , 45945.215],\n",
       "       [43266.047, 44030.61 , 43078.977, 42715.883],\n",
       "       [27671.945, 28161.436, 26622.963, 27318.998],\n",
       "       [49224.355, 50094.17 , 49164.816, 48598.656],\n",
       "       [41068.727, 42615.363, 40679.836, 40546.383],\n",
       "       [52520.64 , 54385.957, 52023.957, 51853.39 ],\n",
       "       [51887.57 , 53758.766, 51396.84 , 51228.355],\n",
       "       [46028.87 , 47278.168, 45593.13 , 45443.664],\n",
       "       [28451.203, 28954.535, 27548.688, 28088.295],\n",
       "       [67461.734, 68652.76 , 66824.44 , 67266.55 ],\n",
       "       [78435.805, 79014.43 , 76910.41 , 76658.64 ],\n",
       "       [66369.52 , 66571.4  , 64798.6  , 64586.375],\n",
       "       [76329.14 , 76671.83 , 74630.625, 74386.31 ],\n",
       "       [66047.25 , 66110.07 , 64348.992, 64138.094],\n",
       "       [66452.44 , 67625.586, 66537.83 , 65609.11 ]], dtype=float32)"
      ]
     },
     "execution_count": 69,
     "metadata": {},
     "output_type": "execute_result"
    }
   ],
   "source": [
    "q_target_v1"
   ]
  },
  {
   "cell_type": "code",
   "execution_count": 61,
   "id": "3039a915",
   "metadata": {},
   "outputs": [
    {
     "data": {
      "text/plain": [
       "(64, 4)"
      ]
     },
     "execution_count": 61,
     "metadata": {},
     "output_type": "execute_result"
    }
   ],
   "source": [
    "q_target.shape"
   ]
  },
  {
   "cell_type": "code",
   "execution_count": null,
   "id": "3ce519b9",
   "metadata": {},
   "outputs": [],
   "source": []
  },
  {
   "cell_type": "code",
   "execution_count": 45,
   "id": "332f2cd6",
   "metadata": {},
   "outputs": [],
   "source": [
    "##### TRAINING - PART 4 #####\n",
    "#### THIS I DON'T UNDERSTAND ####\n",
    "\n",
    "# Q-learning update (CRUCIAL)\n",
    "# Looks like this is done to avoid a loop\n",
    "q_target[batch_index, actions] = rewards + self.gamma*np.max(q_next, axis = 1)*(done_ones - dones)"
   ]
  },
  {
   "cell_type": "code",
   "execution_count": null,
   "id": "bbb2e7b1",
   "metadata": {},
   "outputs": [],
   "source": []
  },
  {
   "cell_type": "code",
   "execution_count": null,
   "id": "14322af0",
   "metadata": {},
   "outputs": [],
   "source": []
  },
  {
   "cell_type": "code",
   "execution_count": null,
   "id": "19ebab0d",
   "metadata": {},
   "outputs": [],
   "source": [
    "##### TRAINING - PART 5 #####\n",
    "# Train network (CRUCIAL)\n",
    "self.q_network.train_on_batch(states, q_target)"
   ]
  }
 ],
 "metadata": {
  "kernelspec": {
   "display_name": "Python 3",
   "language": "python",
   "name": "python3"
  },
  "language_info": {
   "codemirror_mode": {
    "name": "ipython",
    "version": 3
   },
   "file_extension": ".py",
   "mimetype": "text/x-python",
   "name": "python",
   "nbconvert_exporter": "python",
   "pygments_lexer": "ipython3",
   "version": "3.8.8"
  }
 },
 "nbformat": 4,
 "nbformat_minor": 5
}
