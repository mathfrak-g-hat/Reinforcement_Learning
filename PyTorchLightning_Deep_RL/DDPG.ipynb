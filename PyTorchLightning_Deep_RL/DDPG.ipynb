{
 "cells": [
  {
   "cell_type": "code",
   "execution_count": 1,
   "id": "49ce3261-7946-41b5-9d4d-d113d48d9e18",
   "metadata": {},
   "outputs": [
    {
     "name": "stderr",
     "output_type": "stream",
     "text": [
      "Warning: Gym version v0.24.0 has a number of critical issues with `gym.make` such that the `reset` and `step` functions are called before returning the environment. It is recommend to downgrading to v0.23.1 or upgrading to v0.25.1\n",
      "/usr/local/lib/python3.9/dist-packages/torchmetrics/utilities/imports.py:24: DeprecationWarning: distutils Version classes are deprecated. Use packaging.version instead.\n",
      "  _PYTHON_LOWER_3_8 = LooseVersion(_PYTHON_VERSION) < LooseVersion(\"3.8\")\n",
      "/usr/local/lib/python3.9/dist-packages/torchvision/transforms/functional_pil.py:228: DeprecationWarning: BILINEAR is deprecated and will be removed in Pillow 10 (2023-07-01). Use Resampling.BILINEAR instead.\n",
      "  interpolation: int = Image.BILINEAR,\n",
      "/usr/local/lib/python3.9/dist-packages/torchvision/transforms/functional_pil.py:295: DeprecationWarning: NEAREST is deprecated and will be removed in Pillow 10 (2023-07-01). Use Resampling.NEAREST or Dither.NONE instead.\n",
      "  interpolation: int = Image.NEAREST,\n",
      "/usr/local/lib/python3.9/dist-packages/torchvision/transforms/functional_pil.py:328: DeprecationWarning: BICUBIC is deprecated and will be removed in Pillow 10 (2023-07-01). Use Resampling.BICUBIC instead.\n",
      "  interpolation: int = Image.BICUBIC,\n"
     ]
    }
   ],
   "source": [
    "from collections import OrderedDict, deque, namedtuple\n",
    "from typing import Dict, List, Tuple\n",
    "import numpy as np\n",
    "import gym\n",
    "# Torch imports \n",
    "import torch as th\n",
    "from torch import Tensor, nn\n",
    "\n",
    "# Torch lightning imports\n",
    "from pytorch_lightning import LightningModule, Trainer, seed_everything\n",
    "from pytorch_lightning.callbacks import ModelCheckpoint"
   ]
  },
  {
   "cell_type": "code",
   "execution_count": 1,
   "id": "57dc63b8-24e7-456a-a8a4-9fcd98ad0637",
   "metadata": {},
   "outputs": [
    {
     "name": "stderr",
     "output_type": "stream",
     "text": [
      "Warning: Gym version v0.24.0 has a number of critical issues with `gym.make` such that the `reset` and `step` functions are called before returning the environment. It is recommend to downgrading to v0.23.1 or upgrading to v0.25.1\n",
      "/usr/local/lib/python3.9/dist-packages/torchmetrics/utilities/imports.py:24: DeprecationWarning: distutils Version classes are deprecated. Use packaging.version instead.\n",
      "  _PYTHON_LOWER_3_8 = LooseVersion(_PYTHON_VERSION) < LooseVersion(\"3.8\")\n",
      "/usr/local/lib/python3.9/dist-packages/torchvision/transforms/functional_pil.py:228: DeprecationWarning: BILINEAR is deprecated and will be removed in Pillow 10 (2023-07-01). Use Resampling.BILINEAR instead.\n",
      "  interpolation: int = Image.BILINEAR,\n",
      "/usr/local/lib/python3.9/dist-packages/torchvision/transforms/functional_pil.py:295: DeprecationWarning: NEAREST is deprecated and will be removed in Pillow 10 (2023-07-01). Use Resampling.NEAREST or Dither.NONE instead.\n",
      "  interpolation: int = Image.NEAREST,\n",
      "/usr/local/lib/python3.9/dist-packages/torchvision/transforms/functional_pil.py:328: DeprecationWarning: BICUBIC is deprecated and will be removed in Pillow 10 (2023-07-01). Use Resampling.BICUBIC instead.\n",
      "  interpolation: int = Image.BICUBIC,\n"
     ]
    }
   ],
   "source": [
    "\n",
    "from torch.optim import Adam, Optimizer\n",
    "from torch.utils.data import DataLoader\n",
    "from torch.utils.data.dataset import IterableDataset\n",
    "\n",
    "# Torch lightning imports\n",
    "from pytorch_lightning import LightningModule, Trainer, seed_everything\n",
    "from pytorch_lightning.callbacks import ModelCheckpoint\n",
    "#from pytorch_lightning.loggers import CSVLogger\n",
    "\n",
    "# Common submodule imports\n",
    "from common.replay_buffers import ReplayBuffer\n",
    "from common.networks import MLP, GaussianPolicy\n",
    "from common.torch_data_handlers import Transition, RLDataset\n",
    "from common.noise import OrnsteinUhlenbeckActionNoise\n",
    "\n",
    "#th.set_default_dtype(th.float64)"
   ]
  },
  {
   "cell_type": "markdown",
   "id": "aa1ef36f-2496-4011-804f-9a7a5431c9af",
   "metadata": {
    "jp-MarkdownHeadingCollapsed": true,
    "tags": []
   },
   "source": [
    "# I - Original DDPG"
   ]
  },
  {
   "cell_type": "code",
   "execution_count": 6,
   "id": "4891c86b-6db5-4443-8c0f-c81cf948386c",
   "metadata": {},
   "outputs": [],
   "source": [
    "#from pl_ddpg import DDPG\n",
    "from DDPG import DDPG"
   ]
  },
  {
   "cell_type": "code",
   "execution_count": null,
   "id": "e9ae2a7d-95b0-493f-afd3-48dfc3141331",
   "metadata": {},
   "outputs": [],
   "source": [
    "del model"
   ]
  },
  {
   "cell_type": "code",
   "execution_count": 7,
   "id": "a88e652b-6a37-4145-a1ea-0c64df4a458e",
   "metadata": {},
   "outputs": [
    {
     "name": "stderr",
     "output_type": "stream",
     "text": [
      "/usr/local/lib/python3.9/dist-packages/gym/utils/env_checker.py:144: UserWarning: \u001b[33mWARN: Agent's minimum observation space value is -infinity. This is probably too low.\u001b[0m\n",
      "  logger.warn(\n",
      "/usr/local/lib/python3.9/dist-packages/gym/utils/env_checker.py:148: UserWarning: \u001b[33mWARN: Agent's maxmimum observation space value is infinity. This is probably too high\u001b[0m\n",
      "  logger.warn(\n"
     ]
    }
   ],
   "source": [
    "# Instantiate DDPG model\n",
    "model = DDPG(env = gym.make(\"HalfCheetah-v4\"),\n",
    "             n_warm_start_steps=10000, \n",
    "             num_workers = 6,\n",
    "            )\n"
   ]
  },
  {
   "cell_type": "code",
   "execution_count": 4,
   "id": "7de28ff6-943c-4048-99d5-822b5587f0d3",
   "metadata": {
    "tags": []
   },
   "outputs": [
    {
     "name": "stderr",
     "output_type": "stream",
     "text": [
      "Global seed set to 123\n",
      "GPU available: True (cuda), used: True\n",
      "TPU available: False, using: 0 TPU cores\n",
      "IPU available: False, using: 0 IPUs\n",
      "HPU available: False, using: 0 HPUs\n"
     ]
    }
   ],
   "source": [
    "'''\n",
    "    #####################################\n",
    "    ### TRAINER WITH MODEL CHECKPOINT ###\n",
    "    #####################################\n",
    "'''\n",
    "\n",
    "# save checkpoints based on avg_reward\n",
    "checkpoint_callback = ModelCheckpoint(save_top_k=1, \n",
    "                                      monitor=\"avg_score\", \n",
    "                                      mode=\"max\", \n",
    "                                      verbose=True)\n",
    "seed_everything(123)\n",
    "trainer = Trainer(accelerator=\"gpu\", \n",
    "                  max_steps=500000,  # 100000, 1000000\n",
    "                  callbacks = checkpoint_callback)"
   ]
  },
  {
   "cell_type": "code",
   "execution_count": null,
   "id": "3339b228-46d1-4a3d-8b45-51321bdb23eb",
   "metadata": {
    "jupyter": {
     "source_hidden": true
    },
    "tags": []
   },
   "outputs": [],
   "source": [
    "del checkpoint_callback, trainer"
   ]
  },
  {
   "cell_type": "code",
   "execution_count": 8,
   "id": "8432c4c4-c252-4802-b105-a7a30102e659",
   "metadata": {
    "tags": []
   },
   "outputs": [
    {
     "name": "stderr",
     "output_type": "stream",
     "text": [
      "Global seed set to 123\n",
      "GPU available: True (cuda), used: True\n",
      "TPU available: False, using: 0 TPU cores\n",
      "IPU available: False, using: 0 IPUs\n",
      "HPU available: False, using: 0 HPUs\n"
     ]
    }
   ],
   "source": [
    "'''\n",
    "    ##########################################\n",
    "    ### TEST TRAINER (NO MODEL CHECKPOINT) ###\n",
    "    ##########################################\n",
    "'''\n",
    "\n",
    "seed_everything(123)\n",
    "trainer = Trainer(accelerator=\"gpu\",\n",
    "                  max_steps=200,)"
   ]
  },
  {
   "cell_type": "code",
   "execution_count": 9,
   "id": "771ee5e0-80f8-4089-a57f-df61e9edda4b",
   "metadata": {},
   "outputs": [
    {
     "name": "stderr",
     "output_type": "stream",
     "text": [
      "LOCAL_RANK: 0 - CUDA_VISIBLE_DEVICES: [0]\n",
      "\n",
      "  | Name         | Type | Params\n",
      "--------------------------------------\n",
      "0 | q_net        | MLP  | 72.2 K\n",
      "1 | target_q_net | MLP  | 72.2 K\n",
      "2 | policy       | MLP  | 71.9 K\n",
      "--------------------------------------\n",
      "216 K     Trainable params\n",
      "0         Non-trainable params\n",
      "216 K     Total params\n",
      "0.865     Total estimated model params size (MB)\n"
     ]
    },
    {
     "data": {
      "application/vnd.jupyter.widget-view+json": {
       "model_id": "4365e39fad2d496e8678020558308ea5",
       "version_major": 2,
       "version_minor": 0
      },
      "text/plain": [
       "Training: 0it [00:00, ?it/s]"
      ]
     },
     "metadata": {},
     "output_type": "display_data"
    },
    {
     "name": "stderr",
     "output_type": "stream",
     "text": [
      "/usr/local/lib/python3.9/dist-packages/pytorch_lightning/trainer/connectors/logger_connector/result.py:234: UserWarning: You called `self.log('episodes', ...)` in your `training_step` but the value needs to be floating point. Converting it to torch.float32.\n",
      "  warning_cache.warn(\n",
      "/usr/local/lib/python3.9/dist-packages/pytorch_lightning/trainer/connectors/logger_connector/result.py:234: UserWarning: You called `self.log('episode_steps', ...)` in your `training_step` but the value needs to be floating point. Converting it to torch.float32.\n",
      "  warning_cache.warn(\n",
      "`Trainer.fit` stopped: `max_steps=200` reached.\n"
     ]
    }
   ],
   "source": [
    "trainer.fit(model)"
   ]
  },
  {
   "cell_type": "code",
   "execution_count": null,
   "id": "754cf2cc-3cf6-4744-b125-b015b5ebb429",
   "metadata": {},
   "outputs": [],
   "source": [
    "model.device"
   ]
  },
  {
   "cell_type": "markdown",
   "id": "4b962deb-809a-4f49-8042-3e597b6e7249",
   "metadata": {},
   "source": [
    "____________________________________________________________________________________\n",
    "\n",
    "### Recorded test"
   ]
  },
  {
   "cell_type": "code",
   "execution_count": 6,
   "id": "e7c890a9-c938-47e8-bec0-3008601b0628",
   "metadata": {},
   "outputs": [],
   "source": [
    "from gym import wrappers\n",
    "from pyvirtualdisplay import Display"
   ]
  },
  {
   "cell_type": "code",
   "execution_count": null,
   "id": "122715a5-8ab3-4967-a482-36974818b853",
   "metadata": {},
   "outputs": [],
   "source": [
    "del test_model"
   ]
  },
  {
   "cell_type": "code",
   "execution_count": null,
   "id": "38580a8f-4a1f-45dd-b50e-2967c9afd1dd",
   "metadata": {
    "jupyter": {
     "source_hidden": true
    },
    "tags": []
   },
   "outputs": [],
   "source": [
    "'''\n",
    "    ########################\n",
    "    ### LOAD SAVED MODEL ###\n",
    "    ########################\n",
    "'''\n",
    "# Last saved model\n",
    "# test_model = DDPGS(env = gym.make(\"HalfCheetah-v4\", render_mode = \"rgb_array\"))\n",
    "test_model = DDPGS(env = gym.make(\"HalfCheetah-v4\"))\n",
    "test_model.load_state_dict(torch.load(\"./pl_ddpg_gym0240_2306272205\"))"
   ]
  },
  {
   "cell_type": "code",
   "execution_count": 8,
   "id": "cd610602-121d-45d6-a23e-2b27c05695f3",
   "metadata": {},
   "outputs": [
    {
     "data": {
      "text/plain": [
       "DDPG(\n",
       "  (q_net): MLP(\n",
       "    (net): Sequential(\n",
       "      (0): Linear(in_features=23, out_features=256, bias=True)\n",
       "      (1): ReLU()\n",
       "      (2): Linear(in_features=256, out_features=256, bias=True)\n",
       "      (3): ReLU()\n",
       "      (4): Linear(in_features=256, out_features=1, bias=True)\n",
       "    )\n",
       "  )\n",
       "  (target_q_net): MLP(\n",
       "    (net): Sequential(\n",
       "      (0): Linear(in_features=23, out_features=256, bias=True)\n",
       "      (1): ReLU()\n",
       "      (2): Linear(in_features=256, out_features=256, bias=True)\n",
       "      (3): ReLU()\n",
       "      (4): Linear(in_features=256, out_features=1, bias=True)\n",
       "    )\n",
       "  )\n",
       "  (policy): MLP(\n",
       "    (net): Sequential(\n",
       "      (0): Linear(in_features=17, out_features=256, bias=True)\n",
       "      (1): ReLU()\n",
       "      (2): Linear(in_features=256, out_features=256, bias=True)\n",
       "      (3): ReLU()\n",
       "      (4): Linear(in_features=256, out_features=6, bias=True)\n",
       "      (5): Tanh()\n",
       "    )\n",
       "  )\n",
       ")"
      ]
     },
     "execution_count": 8,
     "metadata": {},
     "output_type": "execute_result"
    }
   ],
   "source": [
    "'''\n",
    "    ############################\n",
    "    ### LOAD FROM CHECKPOINT ###\n",
    "    ############################\n",
    "'''\n",
    "\n",
    "# Best model from Trainer checkpoint\n",
    "#test_model = DDPGS(env = gym.make(\"HalfCheetah-v4\", render_mode = \"rgb_array\"))\n",
    "test_model = DDPG.load_from_checkpoint(\"./lightning_logs/version_28/checkpoints/epoch=24-step=500000.ckpt\")\n",
    "\n",
    "# disable randomness, dropout, etc...\n",
    "test_model.eval()"
   ]
  },
  {
   "cell_type": "code",
   "execution_count": null,
   "id": "1bad06e9-7205-4840-a91c-8fb99302eae1",
   "metadata": {},
   "outputs": [],
   "source": [
    "'''\n",
    "    ##############################\n",
    "    ### USE LAST TRAINED MODEL ###\n",
    "    ##############################\n",
    "'''\n",
    "test_model = model\n",
    "\n",
    "test_model.eval()"
   ]
  },
  {
   "cell_type": "code",
   "execution_count": null,
   "id": "87bdea01-578b-4d3e-a50a-f746036c8772",
   "metadata": {},
   "outputs": [],
   "source": [
    "test_model.cpu()"
   ]
  },
  {
   "cell_type": "code",
   "execution_count": 9,
   "id": "1d6e6d91-a956-4818-8914-79aa1050ddea",
   "metadata": {},
   "outputs": [],
   "source": [
    "# Make virtual display\n",
    "virtual_display = Display(visible=0, size=(1400, 900))\n",
    "virtual_display.start()\n",
    "\n",
    "# Trigger for wrapper.RecordVideo() object\n",
    "def epsd_trigger(episode_id: int) -> bool:\n",
    "    '''\n",
    "        Records all episodes\n",
    "    '''\n",
    "    if episode_id < 10:\n",
    "        return True\n",
    "    else:\n",
    "        return False"
   ]
  },
  {
   "cell_type": "code",
   "execution_count": 10,
   "id": "68537a9d-f427-4a1f-843a-5a6548e6e767",
   "metadata": {},
   "outputs": [],
   "source": [
    "del env"
   ]
  },
  {
   "cell_type": "code",
   "execution_count": 10,
   "id": "b313b7ad-d036-4782-900c-023dcb263ce6",
   "metadata": {},
   "outputs": [
    {
     "name": "stderr",
     "output_type": "stream",
     "text": [
      "/usr/local/lib/python3.9/dist-packages/gym/utils/env_checker.py:144: UserWarning: \u001b[33mWARN: Agent's minimum observation space value is -infinity. This is probably too low.\u001b[0m\n",
      "  logger.warn(\n",
      "/usr/local/lib/python3.9/dist-packages/gym/utils/env_checker.py:148: UserWarning: \u001b[33mWARN: Agent's maxmimum observation space value is infinity. This is probably too high\u001b[0m\n",
      "  logger.warn(\n",
      "/usr/local/lib/python3.9/dist-packages/gym/wrappers/record_video.py:75: UserWarning: \u001b[33mWARN: Overwriting existing videos at /notebooks/Lightning/vids folder (try specifying a different `video_folder` for the `RecordVideo` wrapper if this is not desired)\u001b[0m\n",
      "  logger.warn(\n"
     ]
    }
   ],
   "source": [
    "# Test env\n",
    "#env = gym.make(\"HalfCheetah-v4\", render_mode = \"rgb_array\")\n",
    "env = gym.make(\"HalfCheetah-v4\")\n",
    "env = wrappers.RecordVideo(env = env, \n",
    "                           video_folder=\"vids/\",\n",
    "                           name_prefix=\"myDDPG_pl_gym0240_500kSteps_2307022345\",\n",
    "                           episode_trigger = epsd_trigger)"
   ]
  },
  {
   "cell_type": "code",
   "execution_count": 11,
   "id": "28da6b42-9dd2-4328-8f7f-36ad46f084fc",
   "metadata": {},
   "outputs": [
    {
     "name": "stdout",
     "output_type": "stream",
     "text": [
      "Episode: 0,\tSteps: 1000,\tscore: 3268.8982709639536\n",
      "Episode: 1,\tSteps: 1000,\tscore: 3148.7870928869233\n",
      "Episode: 2,\tSteps: 1000,\tscore: 2503.5117841006786\n"
     ]
    }
   ],
   "source": [
    "# Main loop\n",
    "for episode in range(3):\n",
    "    \n",
    "    # Init. env. and counters\n",
    "    state = env.reset()\n",
    "    step = 0\n",
    "    total_reward = 0\n",
    "    n_prds = 0\n",
    "    done = False\n",
    "    trunc = False\n",
    "    \n",
    "    # Episodic loop\n",
    "    while not done and step<5001:\n",
    "        \n",
    "        # Render\n",
    "        env.render()\n",
    "        \n",
    "        # Get action\n",
    "        with torch.no_grad():\n",
    "            state_ = torch.FloatTensor(np.array(state)).to(test_model.device)\n",
    "            # Get actions and UPolicy output\n",
    "            #action = test_model.get_action(state_, test_model.device)\n",
    "            action_ = test_model.policy(state_)\n",
    "            # Get np arrays\n",
    "            action = action_.cpu().detach().numpy()\n",
    "        \n",
    "        # Environment step\n",
    "        state_next, reward, done, info = env.step(action)\n",
    "        # Update tot. score\n",
    "        total_reward += reward\n",
    "        # Update step\n",
    "        step += 1\n",
    "        # Update state\n",
    "        state = state_next\n",
    "        # End of episode\n",
    "        if done:\n",
    "            print(f\"Episode: {episode},\\tSteps: {step},\\tscore: {total_reward}\")\n",
    "            break\n",
    "\n",
    "# Close environment\n",
    "env.close()"
   ]
  },
  {
   "cell_type": "code",
   "execution_count": null,
   "id": "bb3845f7-34eb-4d31-aa79-ec825f67a5f0",
   "metadata": {},
   "outputs": [],
   "source": [
    "test_model.device"
   ]
  },
  {
   "cell_type": "markdown",
   "id": "d7770456-fc05-4467-989a-71e862a1753e",
   "metadata": {
    "jp-MarkdownHeadingCollapsed": true,
    "tags": []
   },
   "source": [
    "# II - DDPG with a Gaussian policy"
   ]
  },
  {
   "cell_type": "code",
   "execution_count": 2,
   "id": "37cd25ac-5d40-4cbf-a71d-5eb2db71730c",
   "metadata": {},
   "outputs": [],
   "source": [
    "from pl_gausspol_ddpg import GaussPolicy_DDPG"
   ]
  },
  {
   "cell_type": "code",
   "execution_count": null,
   "id": "715dc8ca-d463-4767-b236-6113f260b1cb",
   "metadata": {},
   "outputs": [],
   "source": [
    "del model"
   ]
  },
  {
   "cell_type": "code",
   "execution_count": 3,
   "id": "8a134656-11d9-41ab-bb20-4344d3095234",
   "metadata": {},
   "outputs": [
    {
     "name": "stderr",
     "output_type": "stream",
     "text": [
      "/usr/local/lib/python3.9/dist-packages/gym/utils/env_checker.py:144: UserWarning: \u001b[33mWARN: Agent's minimum observation space value is -infinity. This is probably too low.\u001b[0m\n",
      "  logger.warn(\n",
      "/usr/local/lib/python3.9/dist-packages/gym/utils/env_checker.py:148: UserWarning: \u001b[33mWARN: Agent's maxmimum observation space value is infinity. This is probably too high\u001b[0m\n",
      "  logger.warn(\n"
     ]
    }
   ],
   "source": [
    "# Instantiate DDPG model\n",
    "model = GaussPolicy_DDPG(env = gym.make(\"HalfCheetah-v4\"),\n",
    "                         n_warm_start_steps=10000,\n",
    "                         num_workers = 6,\n",
    "                        )\n"
   ]
  },
  {
   "cell_type": "code",
   "execution_count": 4,
   "id": "4c85d76b-c99d-458f-b42f-6b287b0ddcaa",
   "metadata": {
    "tags": []
   },
   "outputs": [
    {
     "name": "stderr",
     "output_type": "stream",
     "text": [
      "Global seed set to 123\n",
      "GPU available: True (cuda), used: True\n",
      "TPU available: False, using: 0 TPU cores\n",
      "IPU available: False, using: 0 IPUs\n",
      "HPU available: False, using: 0 HPUs\n"
     ]
    }
   ],
   "source": [
    "'''\n",
    "    #####################################\n",
    "    ### TRAINER WITH MODEL CHECKPOINT ###\n",
    "    #####################################\n",
    "'''\n",
    "\n",
    "# save checkpoints based on avg_reward\n",
    "checkpoint_callback = ModelCheckpoint(save_top_k=1, \n",
    "                                      monitor=\"avg_score\", \n",
    "                                      mode=\"max\", \n",
    "                                      verbose=True)\n",
    "seed_everything(123)\n",
    "trainer = Trainer(accelerator=\"gpu\", \n",
    "                  max_steps=200000,  # 100000, 1000000\n",
    "                  callbacks = checkpoint_callback)"
   ]
  },
  {
   "cell_type": "code",
   "execution_count": null,
   "id": "02feb620-fbcd-4c5b-adc4-9b731489fadc",
   "metadata": {
    "jupyter": {
     "source_hidden": true
    },
    "tags": []
   },
   "outputs": [],
   "source": [
    "del checkpoint_callback, trainer"
   ]
  },
  {
   "cell_type": "code",
   "execution_count": 4,
   "id": "a527854e-1b3d-47d6-aa4a-1eb00d9f58c7",
   "metadata": {
    "collapsed": true,
    "jupyter": {
     "outputs_hidden": true,
     "source_hidden": true
    },
    "tags": []
   },
   "outputs": [
    {
     "name": "stderr",
     "output_type": "stream",
     "text": [
      "Global seed set to 123\n",
      "GPU available: True (cuda), used: True\n",
      "TPU available: False, using: 0 TPU cores\n",
      "IPU available: False, using: 0 IPUs\n",
      "HPU available: False, using: 0 HPUs\n"
     ]
    }
   ],
   "source": [
    "'''\n",
    "    ##########################################\n",
    "    ### TEST TRAINER (NO MODEL CHECKPOINT) ###\n",
    "    ##########################################\n",
    "'''\n",
    "\n",
    "seed_everything(123)\n",
    "trainer = Trainer(accelerator=\"gpu\",\n",
    "                  max_steps=10000,)"
   ]
  },
  {
   "cell_type": "code",
   "execution_count": 5,
   "id": "67dcfe7d-4f02-49f7-9aca-c9e29130011c",
   "metadata": {},
   "outputs": [
    {
     "name": "stderr",
     "output_type": "stream",
     "text": [
      "LOCAL_RANK: 0 - CUDA_VISIBLE_DEVICES: [0]\n",
      "\n",
      "  | Name         | Type           | Params\n",
      "------------------------------------------------\n",
      "0 | q_net        | MLP            | 72.2 K\n",
      "1 | target_q_net | MLP            | 72.2 K\n",
      "2 | policy       | GaussianPolicy | 73.5 K\n",
      "------------------------------------------------\n",
      "217 K     Trainable params\n",
      "0         Non-trainable params\n",
      "217 K     Total params\n",
      "0.871     Total estimated model params size (MB)\n",
      "/usr/local/lib/python3.9/dist-packages/torch/utils/tensorboard/__init__.py:4: DeprecationWarning: distutils Version classes are deprecated. Use packaging.version instead.\n",
      "  if not hasattr(tensorboard, '__version__') or LooseVersion(tensorboard.__version__) < LooseVersion('1.15'):\n",
      "/usr/local/lib/python3.9/dist-packages/flatbuffers/compat.py:19: DeprecationWarning: the imp module is deprecated in favour of importlib; see the module's documentation for alternative uses\n",
      "  import imp\n",
      "/usr/local/lib/python3.9/dist-packages/keras/utils/image_utils.py:36: DeprecationWarning: NEAREST is deprecated and will be removed in Pillow 10 (2023-07-01). Use Resampling.NEAREST or Dither.NONE instead.\n",
      "  'nearest': pil_image.NEAREST,\n",
      "/usr/local/lib/python3.9/dist-packages/keras/utils/image_utils.py:37: DeprecationWarning: BILINEAR is deprecated and will be removed in Pillow 10 (2023-07-01). Use Resampling.BILINEAR instead.\n",
      "  'bilinear': pil_image.BILINEAR,\n",
      "/usr/local/lib/python3.9/dist-packages/keras/utils/image_utils.py:38: DeprecationWarning: BICUBIC is deprecated and will be removed in Pillow 10 (2023-07-01). Use Resampling.BICUBIC instead.\n",
      "  'bicubic': pil_image.BICUBIC,\n",
      "/usr/local/lib/python3.9/dist-packages/keras/utils/image_utils.py:39: DeprecationWarning: HAMMING is deprecated and will be removed in Pillow 10 (2023-07-01). Use Resampling.HAMMING instead.\n",
      "  'hamming': pil_image.HAMMING,\n",
      "/usr/local/lib/python3.9/dist-packages/keras/utils/image_utils.py:40: DeprecationWarning: BOX is deprecated and will be removed in Pillow 10 (2023-07-01). Use Resampling.BOX instead.\n",
      "  'box': pil_image.BOX,\n",
      "/usr/local/lib/python3.9/dist-packages/keras/utils/image_utils.py:41: DeprecationWarning: LANCZOS is deprecated and will be removed in Pillow 10 (2023-07-01). Use Resampling.LANCZOS instead.\n",
      "  'lanczos': pil_image.LANCZOS,\n",
      "/usr/local/lib/python3.9/dist-packages/pytorch_lightning/trainer/connectors/data_connector.py:224: PossibleUserWarning: The dataloader, train_dataloader, does not have many workers which may be a bottleneck. Consider increasing the value of the `num_workers` argument` (try 8 which is the number of cpus on this machine) in the `DataLoader` init to improve performance.\n",
      "  rank_zero_warn(\n"
     ]
    },
    {
     "data": {
      "application/vnd.jupyter.widget-view+json": {
       "model_id": "740500d932e0448d90656c6f50b32645",
       "version_major": 2,
       "version_minor": 0
      },
      "text/plain": [
       "Training: 0it [00:00, ?it/s]"
      ]
     },
     "metadata": {},
     "output_type": "display_data"
    },
    {
     "name": "stderr",
     "output_type": "stream",
     "text": [
      "/usr/local/lib/python3.9/dist-packages/torch/utils/data/_utils/collate.py:148: DeprecationWarning: In future, it will be an error for 'np.bool_' scalars to be interpreted as an index\n",
      "  return torch.as_tensor(batch)\n",
      "/usr/local/lib/python3.9/dist-packages/pytorch_lightning/trainer/connectors/logger_connector/result.py:234: UserWarning: You called `self.log('episodes', ...)` in your `training_step` but the value needs to be floating point. Converting it to torch.float32.\n",
      "  warning_cache.warn(\n",
      "/usr/local/lib/python3.9/dist-packages/pytorch_lightning/trainer/connectors/logger_connector/result.py:234: UserWarning: You called `self.log('episode_steps', ...)` in your `training_step` but the value needs to be floating point. Converting it to torch.float32.\n",
      "  warning_cache.warn(\n",
      "Epoch 0, global step 20000: 'avg_score' reached -58.34665 (best -58.34665), saving model to '/notebooks/Lightning/lightning_logs/version_7/checkpoints/epoch=0-step=20000.ckpt' as top 1\n",
      "Epoch 1, global step 40000: 'avg_score' was not in top 1\n",
      "Epoch 2, global step 60000: 'avg_score' was not in top 1\n",
      "Epoch 3, global step 80000: 'avg_score' was not in top 1\n",
      "Epoch 4, global step 100000: 'avg_score' was not in top 1\n",
      "Epoch 5, global step 120000: 'avg_score' reached -7.39732 (best -7.39732), saving model to '/notebooks/Lightning/lightning_logs/version_7/checkpoints/epoch=5-step=120000.ckpt' as top 1\n",
      "Epoch 6, global step 140000: 'avg_score' reached 186.38712 (best 186.38712), saving model to '/notebooks/Lightning/lightning_logs/version_7/checkpoints/epoch=6-step=140000.ckpt' as top 1\n",
      "Epoch 7, global step 160000: 'avg_score' reached 380.37531 (best 380.37531), saving model to '/notebooks/Lightning/lightning_logs/version_7/checkpoints/epoch=7-step=160000.ckpt' as top 1\n",
      "Epoch 8, global step 180000: 'avg_score' reached 570.67169 (best 570.67169), saving model to '/notebooks/Lightning/lightning_logs/version_7/checkpoints/epoch=8-step=180000.ckpt' as top 1\n",
      "Epoch 9, global step 200000: 'avg_score' reached 767.32202 (best 767.32202), saving model to '/notebooks/Lightning/lightning_logs/version_7/checkpoints/epoch=9-step=200000.ckpt' as top 1\n",
      "`Trainer.fit` stopped: `max_steps=200000` reached.\n"
     ]
    }
   ],
   "source": [
    "trainer.fit(model)"
   ]
  },
  {
   "cell_type": "code",
   "execution_count": null,
   "id": "032e2797-c25a-4fe3-89b2-77f2835cb19d",
   "metadata": {},
   "outputs": [],
   "source": [
    "model.device"
   ]
  },
  {
   "cell_type": "markdown",
   "id": "119c98fc-31ae-4b0e-b7cc-060325f75a69",
   "metadata": {},
   "source": [
    "____________________________________________________________________________________\n",
    "\n",
    "### Recorded test"
   ]
  },
  {
   "cell_type": "code",
   "execution_count": 6,
   "id": "0cf4e70a-c07c-4007-b0be-ae5a2600712d",
   "metadata": {},
   "outputs": [],
   "source": [
    "from gym import wrappers\n",
    "from pyvirtualdisplay import Display"
   ]
  },
  {
   "cell_type": "code",
   "execution_count": null,
   "id": "d7610bc7-9f3b-4c9e-a83a-5bd455b38b8b",
   "metadata": {},
   "outputs": [],
   "source": [
    "del test_model"
   ]
  },
  {
   "cell_type": "code",
   "execution_count": null,
   "id": "a08a5c47-6f67-4821-9f9f-4aaa3f8acfe5",
   "metadata": {
    "jupyter": {
     "source_hidden": true
    },
    "tags": []
   },
   "outputs": [],
   "source": [
    "'''\n",
    "    ########################\n",
    "    ### LOAD SAVED MODEL ###\n",
    "    ########################\n",
    "'''\n",
    "# Last saved model\n",
    "# test_model = DDPGS(env = gym.make(\"HalfCheetah-v4\", render_mode = \"rgb_array\"))\n",
    "test_model = DDPGS(env = gym.make(\"HalfCheetah-v4\"))\n",
    "test_model.load_state_dict(torch.load(\"./pl_ddpg_gym0240_2306272205\"))"
   ]
  },
  {
   "cell_type": "code",
   "execution_count": 7,
   "id": "8017eb50-e946-4280-b023-eff728a0af72",
   "metadata": {},
   "outputs": [
    {
     "data": {
      "text/plain": [
       "GaussPolicy_DDPG(\n",
       "  (q_net): MLP(\n",
       "    (net): Sequential(\n",
       "      (0): Linear(in_features=23, out_features=256, bias=True)\n",
       "      (1): ReLU()\n",
       "      (2): Linear(in_features=256, out_features=256, bias=True)\n",
       "      (3): ReLU()\n",
       "      (4): Linear(in_features=256, out_features=1, bias=True)\n",
       "    )\n",
       "  )\n",
       "  (target_q_net): MLP(\n",
       "    (net): Sequential(\n",
       "      (0): Linear(in_features=23, out_features=256, bias=True)\n",
       "      (1): ReLU()\n",
       "      (2): Linear(in_features=256, out_features=256, bias=True)\n",
       "      (3): ReLU()\n",
       "      (4): Linear(in_features=256, out_features=1, bias=True)\n",
       "    )\n",
       "  )\n",
       "  (policy): GaussianPolicy(\n",
       "    (feature_extractor): Sequential(\n",
       "      (0): Linear(in_features=17, out_features=256, bias=True)\n",
       "      (1): ReLU()\n",
       "      (2): Linear(in_features=256, out_features=256, bias=True)\n",
       "      (3): ReLU()\n",
       "    )\n",
       "    (mu_out_layer): Linear(in_features=256, out_features=6, bias=True)\n",
       "    (log_sigma_out_layer): Linear(in_features=256, out_features=6, bias=True)\n",
       "  )\n",
       ")"
      ]
     },
     "execution_count": 7,
     "metadata": {},
     "output_type": "execute_result"
    }
   ],
   "source": [
    "'''\n",
    "    ############################\n",
    "    ### LOAD FROM CHECKPOINT ###\n",
    "    ############################\n",
    "'''\n",
    "\n",
    "# Best model from Trainer checkpoint\n",
    "#test_model = DDPGS(env = gym.make(\"HalfCheetah-v4\", render_mode = \"rgb_array\"))\n",
    "test_model = GaussPolicy_DDPG.load_from_checkpoint(\"./lightning_logs/version_7/checkpoints/epoch=9-step=200000.ckpt\")\n",
    "\n",
    "# disable randomness, dropout, etc...\n",
    "test_model.eval()"
   ]
  },
  {
   "cell_type": "code",
   "execution_count": null,
   "id": "bc3056f7-b03a-4785-987e-12b60c4137a6",
   "metadata": {},
   "outputs": [],
   "source": [
    "'''\n",
    "    ##############################\n",
    "    ### USE LAST TRAINED MODEL ###\n",
    "    ##############################\n",
    "'''\n",
    "test_model = model\n",
    "\n",
    "test_model.eval()"
   ]
  },
  {
   "cell_type": "code",
   "execution_count": null,
   "id": "a3d759d3-a283-4896-9dc8-c74c4cc96ba6",
   "metadata": {},
   "outputs": [],
   "source": [
    "test_model.cpu()"
   ]
  },
  {
   "cell_type": "code",
   "execution_count": 8,
   "id": "6c29b27c-ca6d-4e2b-ab0c-c4bba6b4efa3",
   "metadata": {},
   "outputs": [],
   "source": [
    "# Make virtual display\n",
    "virtual_display = Display(visible=0, size=(1400, 900))\n",
    "virtual_display.start()\n",
    "\n",
    "# Trigger for wrapper.RecordVideo() object\n",
    "def epsd_trigger(episode_id: int) -> bool:\n",
    "    '''\n",
    "        Records all episodes\n",
    "    '''\n",
    "    if episode_id < 10:\n",
    "        return True\n",
    "    else:\n",
    "        return False"
   ]
  },
  {
   "cell_type": "code",
   "execution_count": null,
   "id": "095b9159-0497-4668-a117-66d001bdcbcd",
   "metadata": {},
   "outputs": [],
   "source": [
    "del env"
   ]
  },
  {
   "cell_type": "code",
   "execution_count": 9,
   "id": "36a66aef-686e-4e36-bfd7-d327ea965ac9",
   "metadata": {},
   "outputs": [
    {
     "name": "stderr",
     "output_type": "stream",
     "text": [
      "/usr/local/lib/python3.9/dist-packages/gym/utils/env_checker.py:144: UserWarning: \u001b[33mWARN: Agent's minimum observation space value is -infinity. This is probably too low.\u001b[0m\n",
      "  logger.warn(\n",
      "/usr/local/lib/python3.9/dist-packages/gym/utils/env_checker.py:148: UserWarning: \u001b[33mWARN: Agent's maxmimum observation space value is infinity. This is probably too high\u001b[0m\n",
      "  logger.warn(\n",
      "/usr/local/lib/python3.9/dist-packages/gym/wrappers/record_video.py:75: UserWarning: \u001b[33mWARN: Overwriting existing videos at /notebooks/Lightning/vids folder (try specifying a different `video_folder` for the `RecordVideo` wrapper if this is not desired)\u001b[0m\n",
      "  logger.warn(\n"
     ]
    }
   ],
   "source": [
    "# Test env\n",
    "#env = gym.make(\"HalfCheetah-v4\", render_mode = \"rgb_array\")\n",
    "env = gym.make(\"HalfCheetah-v4\")\n",
    "env = wrappers.RecordVideo(env = env, \n",
    "                           video_folder=\"vids/\",\n",
    "                           name_prefix=\"GaussPolDDPG_pl_gym0240_200kSteps_2307052200\",\n",
    "                           episode_trigger = epsd_trigger)"
   ]
  },
  {
   "cell_type": "code",
   "execution_count": 10,
   "id": "0c3b6661-129c-4e0e-aa56-5fd7495e3883",
   "metadata": {},
   "outputs": [
    {
     "name": "stdout",
     "output_type": "stream",
     "text": [
      "Episode: 0,\tSteps: 1000,\tscore: -322204.3222067865\n",
      "Episode: 1,\tSteps: 1000,\tscore: -315308.709114402\n",
      "Episode: 2,\tSteps: 1000,\tscore: -311572.3465534488\n"
     ]
    }
   ],
   "source": [
    "# Main loop\n",
    "for episode in range(3):\n",
    "    \n",
    "    # Init. env. and counters\n",
    "    state = env.reset()\n",
    "    step = 0\n",
    "    total_reward = 0\n",
    "    n_prds = 0\n",
    "    done = False\n",
    "    trunc = False\n",
    "    \n",
    "    # Episodic loop\n",
    "    while not done and step<5001:\n",
    "        \n",
    "        # Render\n",
    "        env.render()\n",
    "        \n",
    "        # Get action\n",
    "        with torch.no_grad():\n",
    "            state_ = torch.FloatTensor(np.array(state)).to(test_model.device)\n",
    "            # Get actions and UPolicy output\n",
    "            #action = test_model.get_action(state_, test_model.device)\n",
    "            action_ = test_model.policy.forward_mu(state_)\n",
    "            # Get np arrays\n",
    "            action = action_.cpu().detach().numpy()\n",
    "        \n",
    "        # Environment step\n",
    "        state_next, reward, done, info = env.step(action)\n",
    "        # Update tot. score\n",
    "        total_reward += reward\n",
    "        # Update step\n",
    "        step += 1\n",
    "        # Update state\n",
    "        state = state_next\n",
    "        # End of episode\n",
    "        if done:\n",
    "            print(f\"Episode: {episode},\\tSteps: {step},\\tscore: {total_reward}\")\n",
    "            break\n",
    "\n",
    "# Close environment\n",
    "env.close()"
   ]
  },
  {
   "cell_type": "code",
   "execution_count": null,
   "id": "35c7ee2c-d923-48cd-a8d5-99e841429a2f",
   "metadata": {},
   "outputs": [],
   "source": []
  },
  {
   "cell_type": "markdown",
   "id": "270cbbd7-b060-4d4a-b6c7-6df64705fcd2",
   "metadata": {},
   "source": [
    "# III - DDPG with Generalized State-Dependent Exploration"
   ]
  },
  {
   "cell_type": "code",
   "execution_count": 1,
   "id": "f895d335-b699-402c-a516-53b997c52724",
   "metadata": {},
   "outputs": [
    {
     "name": "stderr",
     "output_type": "stream",
     "text": [
      "Warning: Gym version v0.24.0 has a number of critical issues with `gym.make` such that the `reset` and `step` functions are called before returning the environment. It is recommend to downgrading to v0.23.1 or upgrading to v0.25.1\n",
      "/usr/local/lib/python3.9/dist-packages/torchmetrics/utilities/imports.py:24: DeprecationWarning: distutils Version classes are deprecated. Use packaging.version instead.\n",
      "  _PYTHON_LOWER_3_8 = LooseVersion(_PYTHON_VERSION) < LooseVersion(\"3.8\")\n",
      "/usr/local/lib/python3.9/dist-packages/torchvision/transforms/functional_pil.py:228: DeprecationWarning: BILINEAR is deprecated and will be removed in Pillow 10 (2023-07-01). Use Resampling.BILINEAR instead.\n",
      "  interpolation: int = Image.BILINEAR,\n",
      "/usr/local/lib/python3.9/dist-packages/torchvision/transforms/functional_pil.py:295: DeprecationWarning: NEAREST is deprecated and will be removed in Pillow 10 (2023-07-01). Use Resampling.NEAREST or Dither.NONE instead.\n",
      "  interpolation: int = Image.NEAREST,\n",
      "/usr/local/lib/python3.9/dist-packages/torchvision/transforms/functional_pil.py:328: DeprecationWarning: BICUBIC is deprecated and will be removed in Pillow 10 (2023-07-01). Use Resampling.BICUBIC instead.\n",
      "  interpolation: int = Image.BICUBIC,\n"
     ]
    }
   ],
   "source": [
    "from collections import OrderedDict, deque, namedtuple\n",
    "from typing import Dict, List, Tuple\n",
    "import numpy as np\n",
    "import gym\n",
    "# Torch imports \n",
    "import torch as th\n",
    "from torch import Tensor, nn\n",
    "\n",
    "# Torch lightning imports\n",
    "from pytorch_lightning import LightningModule, Trainer, seed_everything\n",
    "from pytorch_lightning.callbacks import ModelCheckpoint\n",
    "\n",
    "\n",
    "from DDPG import GSDE_DDPG"
   ]
  },
  {
   "cell_type": "code",
   "execution_count": null,
   "id": "9826a888-97ff-4f26-ae30-ce842f5f8b66",
   "metadata": {
    "jupyter": {
     "source_hidden": true
    },
    "tags": []
   },
   "outputs": [],
   "source": [
    "del model"
   ]
  },
  {
   "cell_type": "code",
   "execution_count": 2,
   "id": "2cce0efb-dab4-49e8-936e-e243895b7515",
   "metadata": {},
   "outputs": [
    {
     "name": "stderr",
     "output_type": "stream",
     "text": [
      "/usr/local/lib/python3.9/dist-packages/gym/utils/env_checker.py:144: UserWarning: \u001b[33mWARN: Agent's minimum observation space value is -infinity. This is probably too low.\u001b[0m\n",
      "  logger.warn(\n",
      "/usr/local/lib/python3.9/dist-packages/gym/utils/env_checker.py:148: UserWarning: \u001b[33mWARN: Agent's maxmimum observation space value is infinity. This is probably too high\u001b[0m\n",
      "  logger.warn(\n"
     ]
    }
   ],
   "source": [
    "# Instantiate DDPG model\n",
    "model = GSDE_DDPG(env = gym.make(\"HalfCheetah-v4\"),\n",
    "                         n_warm_start_steps=10000,#10000,\n",
    "                         num_workers = 6,\n",
    "                        )\n"
   ]
  },
  {
   "cell_type": "code",
   "execution_count": 3,
   "id": "17a38c48-7e4a-407d-a0e5-9e2c5e6b7e2c",
   "metadata": {
    "tags": []
   },
   "outputs": [
    {
     "name": "stderr",
     "output_type": "stream",
     "text": [
      "Global seed set to 123\n",
      "GPU available: True (cuda), used: True\n",
      "TPU available: False, using: 0 TPU cores\n",
      "IPU available: False, using: 0 IPUs\n",
      "HPU available: False, using: 0 HPUs\n"
     ]
    }
   ],
   "source": [
    "'''\n",
    "    #####################################\n",
    "    ### TRAINER WITH MODEL CHECKPOINT ###\n",
    "    #####################################\n",
    "'''\n",
    "\n",
    "# save checkpoints based on avg_reward\n",
    "checkpoint_callback = ModelCheckpoint(save_top_k=1, \n",
    "                                      monitor=\"avg_score\", \n",
    "                                      mode=\"max\", \n",
    "                                      verbose=True)\n",
    "seed_everything(123)\n",
    "trainer = Trainer(accelerator=\"gpu\", \n",
    "                  max_steps=500000,  # 100000, 1000000\n",
    "                  callbacks = checkpoint_callback)"
   ]
  },
  {
   "cell_type": "code",
   "execution_count": null,
   "id": "581d62d1-8090-440d-a165-644b679d5c0e",
   "metadata": {
    "tags": []
   },
   "outputs": [],
   "source": [
    "del checkpoint_callback, trainer"
   ]
  },
  {
   "cell_type": "code",
   "execution_count": 3,
   "id": "cf75c70c-87d3-4fbe-9238-7d73d1ea3262",
   "metadata": {
    "collapsed": true,
    "jupyter": {
     "outputs_hidden": true,
     "source_hidden": true
    },
    "tags": []
   },
   "outputs": [
    {
     "name": "stderr",
     "output_type": "stream",
     "text": [
      "Global seed set to 123\n",
      "GPU available: True (cuda), used: True\n",
      "TPU available: False, using: 0 TPU cores\n",
      "IPU available: False, using: 0 IPUs\n",
      "HPU available: False, using: 0 HPUs\n"
     ]
    }
   ],
   "source": [
    "'''\n",
    "    ##########################################\n",
    "    ### TEST TRAINER (NO MODEL CHECKPOINT) ###\n",
    "    ##########################################\n",
    "'''\n",
    "\n",
    "seed_everything(123)\n",
    "trainer = Trainer(accelerator=\"gpu\",\n",
    "                  max_steps=10000,)"
   ]
  },
  {
   "cell_type": "code",
   "execution_count": 4,
   "id": "15d4596d-5b4b-4677-bf19-31da3395dc43",
   "metadata": {
    "tags": []
   },
   "outputs": [
    {
     "name": "stderr",
     "output_type": "stream",
     "text": [
      "LOCAL_RANK: 0 - CUDA_VISIBLE_DEVICES: [0]\n",
      "\n",
      "  | Name         | Type       | Params\n",
      "--------------------------------------------\n",
      "0 | q_net        | MLP        | 72.2 K\n",
      "1 | target_q_net | MLP        | 72.2 K\n",
      "2 | policy       | GSDEPolicy | 73.5 K\n",
      "--------------------------------------------\n",
      "217 K     Trainable params\n",
      "0         Non-trainable params\n",
      "217 K     Total params\n",
      "0.871     Total estimated model params size (MB)\n",
      "/usr/local/lib/python3.9/dist-packages/torch/utils/tensorboard/__init__.py:4: DeprecationWarning: distutils Version classes are deprecated. Use packaging.version instead.\n",
      "  if not hasattr(tensorboard, '__version__') or LooseVersion(tensorboard.__version__) < LooseVersion('1.15'):\n",
      "/usr/local/lib/python3.9/dist-packages/flatbuffers/compat.py:19: DeprecationWarning: the imp module is deprecated in favour of importlib; see the module's documentation for alternative uses\n",
      "  import imp\n",
      "/usr/local/lib/python3.9/dist-packages/keras/utils/image_utils.py:36: DeprecationWarning: NEAREST is deprecated and will be removed in Pillow 10 (2023-07-01). Use Resampling.NEAREST or Dither.NONE instead.\n",
      "  'nearest': pil_image.NEAREST,\n",
      "/usr/local/lib/python3.9/dist-packages/keras/utils/image_utils.py:37: DeprecationWarning: BILINEAR is deprecated and will be removed in Pillow 10 (2023-07-01). Use Resampling.BILINEAR instead.\n",
      "  'bilinear': pil_image.BILINEAR,\n",
      "/usr/local/lib/python3.9/dist-packages/keras/utils/image_utils.py:38: DeprecationWarning: BICUBIC is deprecated and will be removed in Pillow 10 (2023-07-01). Use Resampling.BICUBIC instead.\n",
      "  'bicubic': pil_image.BICUBIC,\n",
      "/usr/local/lib/python3.9/dist-packages/keras/utils/image_utils.py:39: DeprecationWarning: HAMMING is deprecated and will be removed in Pillow 10 (2023-07-01). Use Resampling.HAMMING instead.\n",
      "  'hamming': pil_image.HAMMING,\n",
      "/usr/local/lib/python3.9/dist-packages/keras/utils/image_utils.py:40: DeprecationWarning: BOX is deprecated and will be removed in Pillow 10 (2023-07-01). Use Resampling.BOX instead.\n",
      "  'box': pil_image.BOX,\n",
      "/usr/local/lib/python3.9/dist-packages/keras/utils/image_utils.py:41: DeprecationWarning: LANCZOS is deprecated and will be removed in Pillow 10 (2023-07-01). Use Resampling.LANCZOS instead.\n",
      "  'lanczos': pil_image.LANCZOS,\n",
      "/usr/local/lib/python3.9/dist-packages/pytorch_lightning/trainer/connectors/data_connector.py:224: PossibleUserWarning: The dataloader, train_dataloader, does not have many workers which may be a bottleneck. Consider increasing the value of the `num_workers` argument` (try 8 which is the number of cpus on this machine) in the `DataLoader` init to improve performance.\n",
      "  rank_zero_warn(\n"
     ]
    },
    {
     "data": {
      "application/vnd.jupyter.widget-view+json": {
       "model_id": "0c6cce4f52e3438fa0691af51dfd534c",
       "version_major": 2,
       "version_minor": 0
      },
      "text/plain": [
       "Training: 0it [00:00, ?it/s]"
      ]
     },
     "metadata": {},
     "output_type": "display_data"
    },
    {
     "name": "stderr",
     "output_type": "stream",
     "text": [
      "/usr/local/lib/python3.9/dist-packages/torch/utils/data/_utils/collate.py:148: DeprecationWarning: In future, it will be an error for 'np.bool_' scalars to be interpreted as an index\n",
      "  return torch.as_tensor(batch)\n",
      "/usr/local/lib/python3.9/dist-packages/pytorch_lightning/trainer/connectors/logger_connector/result.py:234: UserWarning: You called `self.log('episodes', ...)` in your `training_step` but the value needs to be floating point. Converting it to torch.float32.\n",
      "  warning_cache.warn(\n",
      "/usr/local/lib/python3.9/dist-packages/pytorch_lightning/trainer/connectors/logger_connector/result.py:234: UserWarning: You called `self.log('episode_steps', ...)` in your `training_step` but the value needs to be floating point. Converting it to torch.float32.\n",
      "  warning_cache.warn(\n",
      "Epoch 0, global step 20000: 'avg_score' reached -35.61629 (best -35.61629), saving model to '/notebooks/Lightning/lightning_logs/version_9/checkpoints/epoch=0-step=20000.ckpt' as top 1\n",
      "Epoch 1, global step 40000: 'avg_score' was not in top 1\n",
      "Epoch 2, global step 60000: 'avg_score' reached 68.71633 (best 68.71633), saving model to '/notebooks/Lightning/lightning_logs/version_9/checkpoints/epoch=2-step=60000.ckpt' as top 1\n",
      "Epoch 3, global step 80000: 'avg_score' reached 174.58679 (best 174.58679), saving model to '/notebooks/Lightning/lightning_logs/version_9/checkpoints/epoch=3-step=80000.ckpt' as top 1\n",
      "Epoch 4, global step 100000: 'avg_score' reached 341.15875 (best 341.15875), saving model to '/notebooks/Lightning/lightning_logs/version_9/checkpoints/epoch=4-step=100000.ckpt' as top 1\n",
      "Epoch 5, global step 120000: 'avg_score' reached 514.74371 (best 514.74371), saving model to '/notebooks/Lightning/lightning_logs/version_9/checkpoints/epoch=5-step=120000.ckpt' as top 1\n",
      "Epoch 6, global step 140000: 'avg_score' reached 692.96124 (best 692.96124), saving model to '/notebooks/Lightning/lightning_logs/version_9/checkpoints/epoch=6-step=140000.ckpt' as top 1\n",
      "Epoch 7, global step 160000: 'avg_score' reached 890.28760 (best 890.28760), saving model to '/notebooks/Lightning/lightning_logs/version_9/checkpoints/epoch=7-step=160000.ckpt' as top 1\n",
      "Epoch 8, global step 180000: 'avg_score' reached 1077.81726 (best 1077.81726), saving model to '/notebooks/Lightning/lightning_logs/version_9/checkpoints/epoch=8-step=180000.ckpt' as top 1\n",
      "Epoch 9, global step 200000: 'avg_score' reached 1296.51282 (best 1296.51282), saving model to '/notebooks/Lightning/lightning_logs/version_9/checkpoints/epoch=9-step=200000.ckpt' as top 1\n",
      "Epoch 10, global step 220000: 'avg_score' reached 1565.71753 (best 1565.71753), saving model to '/notebooks/Lightning/lightning_logs/version_9/checkpoints/epoch=10-step=220000.ckpt' as top 1\n",
      "Epoch 11, global step 240000: 'avg_score' reached 1801.56384 (best 1801.56384), saving model to '/notebooks/Lightning/lightning_logs/version_9/checkpoints/epoch=11-step=240000.ckpt' as top 1\n",
      "Epoch 12, global step 260000: 'avg_score' reached 1937.52722 (best 1937.52722), saving model to '/notebooks/Lightning/lightning_logs/version_9/checkpoints/epoch=12-step=260000.ckpt' as top 1\n",
      "Epoch 13, global step 280000: 'avg_score' reached 2030.71960 (best 2030.71960), saving model to '/notebooks/Lightning/lightning_logs/version_9/checkpoints/epoch=13-step=280000.ckpt' as top 1\n",
      "Epoch 14, global step 300000: 'avg_score' reached 2117.33716 (best 2117.33716), saving model to '/notebooks/Lightning/lightning_logs/version_9/checkpoints/epoch=14-step=300000.ckpt' as top 1\n",
      "Epoch 15, global step 320000: 'avg_score' reached 2184.47803 (best 2184.47803), saving model to '/notebooks/Lightning/lightning_logs/version_9/checkpoints/epoch=15-step=320000.ckpt' as top 1\n",
      "Epoch 16, global step 340000: 'avg_score' reached 2276.25977 (best 2276.25977), saving model to '/notebooks/Lightning/lightning_logs/version_9/checkpoints/epoch=16-step=340000.ckpt' as top 1\n",
      "Epoch 17, global step 360000: 'avg_score' reached 2342.17407 (best 2342.17407), saving model to '/notebooks/Lightning/lightning_logs/version_9/checkpoints/epoch=17-step=360000.ckpt' as top 1\n",
      "Epoch 18, global step 380000: 'avg_score' reached 2409.86597 (best 2409.86597), saving model to '/notebooks/Lightning/lightning_logs/version_9/checkpoints/epoch=18-step=380000.ckpt' as top 1\n",
      "Epoch 19, global step 400000: 'avg_score' reached 2466.74487 (best 2466.74487), saving model to '/notebooks/Lightning/lightning_logs/version_9/checkpoints/epoch=19-step=400000.ckpt' as top 1\n",
      "Epoch 20, global step 420000: 'avg_score' reached 2515.20825 (best 2515.20825), saving model to '/notebooks/Lightning/lightning_logs/version_9/checkpoints/epoch=20-step=420000.ckpt' as top 1\n",
      "Epoch 21, global step 440000: 'avg_score' reached 2551.27197 (best 2551.27197), saving model to '/notebooks/Lightning/lightning_logs/version_9/checkpoints/epoch=21-step=440000.ckpt' as top 1\n",
      "Epoch 22, global step 460000: 'avg_score' reached 2594.96411 (best 2594.96411), saving model to '/notebooks/Lightning/lightning_logs/version_9/checkpoints/epoch=22-step=460000.ckpt' as top 1\n",
      "Epoch 23, global step 480000: 'avg_score' reached 2686.94897 (best 2686.94897), saving model to '/notebooks/Lightning/lightning_logs/version_9/checkpoints/epoch=23-step=480000.ckpt' as top 1\n",
      "Epoch 24, global step 500000: 'avg_score' reached 2722.89087 (best 2722.89087), saving model to '/notebooks/Lightning/lightning_logs/version_9/checkpoints/epoch=24-step=500000.ckpt' as top 1\n",
      "`Trainer.fit` stopped: `max_steps=500000` reached.\n"
     ]
    }
   ],
   "source": [
    "trainer.fit(model)"
   ]
  },
  {
   "cell_type": "code",
   "execution_count": null,
   "id": "7160fda6-c7f1-4980-83fb-16ef97039b30",
   "metadata": {},
   "outputs": [],
   "source": []
  },
  {
   "cell_type": "markdown",
   "id": "3bbf4b2f-68d4-40ac-b409-5ceb57ef6b13",
   "metadata": {},
   "source": [
    "____________________________________________________________________________________\n",
    "\n",
    "### Recorded test"
   ]
  },
  {
   "cell_type": "code",
   "execution_count": 4,
   "id": "163337ac-8c5a-4850-b73e-d1179fa179a8",
   "metadata": {},
   "outputs": [],
   "source": [
    "from gym import wrappers\n",
    "from pyvirtualdisplay import Display"
   ]
  },
  {
   "cell_type": "code",
   "execution_count": null,
   "id": "5a220a99-2e47-45a1-9ca3-61bd557cb854",
   "metadata": {},
   "outputs": [],
   "source": [
    "del test_model"
   ]
  },
  {
   "cell_type": "code",
   "execution_count": null,
   "id": "403cbf9b-c2d2-486b-89e5-a8eabd186f71",
   "metadata": {
    "jupyter": {
     "source_hidden": true
    },
    "tags": []
   },
   "outputs": [],
   "source": [
    "'''\n",
    "    ########################\n",
    "    ### LOAD SAVED MODEL ###\n",
    "    ########################\n",
    "'''\n",
    "# Last saved model\n",
    "# test_model = DDPGS(env = gym.make(\"HalfCheetah-v4\", render_mode = \"rgb_array\"))\n",
    "test_model = DDPGS(env = gym.make(\"HalfCheetah-v4\"))\n",
    "test_model.load_state_dict(torch.load(\"./pl_ddpg_gym0240_2306272205\"))"
   ]
  },
  {
   "cell_type": "code",
   "execution_count": 2,
   "id": "d6194eb3-248e-4fc6-bf32-53fc634fa477",
   "metadata": {},
   "outputs": [
    {
     "data": {
      "text/plain": [
       "GSDE_DDPG(\n",
       "  (q_net): MLP(\n",
       "    (net): Sequential(\n",
       "      (0): Linear(in_features=23, out_features=256, bias=True)\n",
       "      (1): ReLU()\n",
       "      (2): Linear(in_features=256, out_features=256, bias=True)\n",
       "      (3): ReLU()\n",
       "      (4): Linear(in_features=256, out_features=1, bias=True)\n",
       "    )\n",
       "  )\n",
       "  (target_q_net): MLP(\n",
       "    (net): Sequential(\n",
       "      (0): Linear(in_features=23, out_features=256, bias=True)\n",
       "      (1): ReLU()\n",
       "      (2): Linear(in_features=256, out_features=256, bias=True)\n",
       "      (3): ReLU()\n",
       "      (4): Linear(in_features=256, out_features=1, bias=True)\n",
       "    )\n",
       "  )\n",
       "  (policy): GSDEPolicy(\n",
       "    (feature_extractor): Sequential(\n",
       "      (0): Linear(in_features=17, out_features=256, bias=True)\n",
       "      (1): ReLU()\n",
       "      (2): Linear(in_features=256, out_features=256, bias=True)\n",
       "      (3): ReLU()\n",
       "    )\n",
       "    (mu_out_layer): Linear(in_features=256, out_features=6, bias=True)\n",
       "    (output_activation_fn): Tanh()\n",
       "  )\n",
       ")"
      ]
     },
     "execution_count": 2,
     "metadata": {},
     "output_type": "execute_result"
    }
   ],
   "source": [
    "'''\n",
    "    ############################\n",
    "    ### LOAD FROM CHECKPOINT ###\n",
    "    ############################\n",
    "'''\n",
    "\n",
    "# Best model from Trainer checkpoint\n",
    "#test_model = DDPGS(env = gym.make(\"HalfCheetah-v4\", render_mode = \"rgb_array\"))\n",
    "test_model = GSDE_DDPG.load_from_checkpoint(\"./lightning_logs/version_09_gSDEDDPG_500kSteps/checkpoints/epoch=24-step=500000.ckpt\")\n",
    "\n",
    "# disable randomness, dropout, etc...\n",
    "test_model.eval()"
   ]
  },
  {
   "cell_type": "code",
   "execution_count": null,
   "id": "ed352272-1e5f-4d37-b45a-ea5c5684cf1d",
   "metadata": {},
   "outputs": [],
   "source": [
    "'''\n",
    "    ##############################\n",
    "    ### USE LAST TRAINED MODEL ###\n",
    "    ##############################\n",
    "'''\n",
    "test_model = model\n",
    "\n",
    "test_model.eval()"
   ]
  },
  {
   "cell_type": "code",
   "execution_count": null,
   "id": "bde751f9-7267-4589-9c7f-c39164295155",
   "metadata": {},
   "outputs": [],
   "source": [
    "test_model.cpu()"
   ]
  },
  {
   "cell_type": "code",
   "execution_count": 5,
   "id": "36759bf8-c75f-4ffd-a905-fee05105264c",
   "metadata": {},
   "outputs": [],
   "source": [
    "# Make virtual display\n",
    "virtual_display = Display(visible=0, size=(1400, 900))\n",
    "virtual_display.start()\n",
    "\n",
    "# Trigger for wrapper.RecordVideo() object\n",
    "def epsd_trigger(episode_id: int) -> bool:\n",
    "    '''\n",
    "        Records all episodes\n",
    "    '''\n",
    "    if episode_id < 10:\n",
    "        return True\n",
    "    else:\n",
    "        return False"
   ]
  },
  {
   "cell_type": "code",
   "execution_count": null,
   "id": "bbb8db8a-73e6-4802-ae34-11d6a766fe06",
   "metadata": {},
   "outputs": [],
   "source": [
    "del env"
   ]
  },
  {
   "cell_type": "code",
   "execution_count": 6,
   "id": "781880fb-a86c-4ef4-82be-b0873dd0d881",
   "metadata": {},
   "outputs": [
    {
     "name": "stderr",
     "output_type": "stream",
     "text": [
      "/usr/local/lib/python3.9/dist-packages/gym/utils/env_checker.py:144: UserWarning: \u001b[33mWARN: Agent's minimum observation space value is -infinity. This is probably too low.\u001b[0m\n",
      "  logger.warn(\n",
      "/usr/local/lib/python3.9/dist-packages/gym/utils/env_checker.py:148: UserWarning: \u001b[33mWARN: Agent's maxmimum observation space value is infinity. This is probably too high\u001b[0m\n",
      "  logger.warn(\n",
      "/usr/local/lib/python3.9/dist-packages/gym/wrappers/record_video.py:75: UserWarning: \u001b[33mWARN: Overwriting existing videos at /notebooks/Lightning/vids folder (try specifying a different `video_folder` for the `RecordVideo` wrapper if this is not desired)\u001b[0m\n",
      "  logger.warn(\n"
     ]
    }
   ],
   "source": [
    "# Test env\n",
    "#env = gym.make(\"HalfCheetah-v4\", render_mode = \"rgb_array\")\n",
    "env = gym.make(\"HalfCheetah-v4\")\n",
    "env = wrappers.RecordVideo(env = env, \n",
    "                           video_folder=\"vids/\",\n",
    "                           name_prefix=\"gSDEDDPG_pl_gym0240_500kStepsDetrmc_2307101855\",\n",
    "                           episode_trigger = epsd_trigger)"
   ]
  },
  {
   "cell_type": "code",
   "execution_count": 7,
   "id": "fb55bc6f-3511-4e29-b471-611e7f5ce6d4",
   "metadata": {},
   "outputs": [
    {
     "name": "stdout",
     "output_type": "stream",
     "text": [
      "Episode: 0,\tSteps: 1000,\tscore: 3184.802152807015\n",
      "Episode: 1,\tSteps: 1000,\tscore: 2567.0954478574845\n",
      "Episode: 2,\tSteps: 1000,\tscore: 2892.501496492099\n"
     ]
    }
   ],
   "source": [
    "test_model.policy.set_random_weights_distribution()\n",
    "test_model.policy.sample_random_weights()\n",
    "\n",
    "# Main loop\n",
    "for episode in range(3):\n",
    "    \n",
    "    # Init. env. and counters\n",
    "    state = env.reset()\n",
    "    step = 0\n",
    "    total_reward = 0\n",
    "    n_prds = 0\n",
    "    done = False\n",
    "    trunc = False\n",
    "    \n",
    "    # Episodic loop\n",
    "    while not done and step<5001:\n",
    "        \n",
    "        # Render\n",
    "        env.render()\n",
    "        \n",
    "        # Get action\n",
    "        with th.no_grad():\n",
    "            state_ = th.FloatTensor(np.array(state)).to(test_model.device)\n",
    "            \n",
    "            #action = test_model.get_action(state_, test_model.device, deterministic=False)\n",
    "            mu_ = test_model.policy.forward_mu(state_)\n",
    "            action_ = test_model.policy.output_activation_fn(mu_)\n",
    "            # Get np arrays\n",
    "            action = action_.cpu().detach().numpy()\n",
    "        \n",
    "        # Environment step\n",
    "        state_next, reward, done, info = env.step(action)\n",
    "        # Update tot. score\n",
    "        total_reward += reward\n",
    "        # Update step\n",
    "        step += 1\n",
    "        # Update state\n",
    "        state = state_next\n",
    "        # End of episode\n",
    "        if done:\n",
    "            print(f\"Episode: {episode},\\tSteps: {step},\\tscore: {total_reward}\")\n",
    "            break\n",
    "\n",
    "# Close environment\n",
    "env.close()"
   ]
  },
  {
   "cell_type": "code",
   "execution_count": null,
   "id": "eacbe68e-2edd-4ae8-a7dd-946ff3477d1b",
   "metadata": {},
   "outputs": [],
   "source": []
  },
  {
   "cell_type": "code",
   "execution_count": null,
   "id": "8ec930a9-46b3-45d6-bc8a-2111b5b92fbe",
   "metadata": {},
   "outputs": [],
   "source": []
  },
  {
   "cell_type": "code",
   "execution_count": null,
   "id": "42717b51-2bca-49da-ba06-9a11933c5f19",
   "metadata": {},
   "outputs": [],
   "source": []
  },
  {
   "cell_type": "markdown",
   "id": "4812b31c-c5a9-44ca-a13e-04471f4277cc",
   "metadata": {},
   "source": [
    "________________________________________________________________________"
   ]
  },
  {
   "cell_type": "markdown",
   "id": "fd40414a-12b4-4116-b815-eda602a1e7d1",
   "metadata": {
    "jp-MarkdownHeadingCollapsed": true,
    "tags": []
   },
   "source": [
    "### Scrap"
   ]
  },
  {
   "cell_type": "code",
   "execution_count": null,
   "id": "b26bb82d-b034-4c01-b176-61b076f49cc7",
   "metadata": {},
   "outputs": [],
   "source": [
    "POLICY_ARCH = {\"net_arch\":[256, 256],\n",
    "                       \"dropout_probs\":[],\n",
    "                       \"layer_activation_fn\":nn.ReLU,\n",
    "                       \"output_activation_fn\":nn.Tanh,\n",
    "                       \"weight_init_mthd\": \"\",\n",
    "                       \"weight_init_seed\":123,}\n",
    "\n",
    "CRITIC_ARCH = {\"net_arch\":[256, 256],\n",
    "                       \"dropout_probs\":[],\n",
    "                       \"layer_activation_fn\":nn.ReLU,\n",
    "                       \"output_activation_fn\":nn.Identity,\n",
    "                       \"weight_init_mthd\": \"\",\n",
    "                       \"weight_init_seed\":123,}\n",
    "\n",
    "model = DDPG(env = gym.make(\"HalfCheetah-v4\"),\n",
    "             policy_arch_dict=POLICY_ARCH,\n",
    "             q_net_arch_dict=CRITIC_ARCH,\n",
    "             n_warm_start_steps=5000,\n",
    "            )"
   ]
  },
  {
   "cell_type": "code",
   "execution_count": null,
   "id": "24e78d6c-36c3-449b-a9ef-6f509b1906f8",
   "metadata": {},
   "outputs": [],
   "source": [
    "# save checkpoints based on avg_reward\n",
    "checkpoint_callback = ModelCheckpoint(save_top_k=1, \n",
    "                                      monitor=\"avg_score\", \n",
    "                                      mode=\"max\", \n",
    "                                      verbose=True)\n",
    "seed_everything(123)\n",
    "trainer = Trainer(accelerator=\"gpu\", \n",
    "                  max_steps=20000,  # 100000, 1000000\n",
    "                  callbacks = checkpoint_callback)"
   ]
  },
  {
   "cell_type": "code",
   "execution_count": null,
   "id": "c39be498-baff-43bb-a054-0fa9d280cb9b",
   "metadata": {},
   "outputs": [],
   "source": [
    "trainer.fit(model)"
   ]
  },
  {
   "cell_type": "code",
   "execution_count": null,
   "id": "3c18e1ce-94d3-471d-877b-0bab188cbf4d",
   "metadata": {},
   "outputs": [],
   "source": []
  },
  {
   "cell_type": "code",
   "execution_count": null,
   "id": "bf3bb90b-f01c-4860-84a7-ad623d040d7e",
   "metadata": {},
   "outputs": [],
   "source": []
  },
  {
   "cell_type": "code",
   "execution_count": null,
   "id": "e1924265-c8ad-460a-8213-8ade20e6e0bc",
   "metadata": {},
   "outputs": [],
   "source": []
  }
 ],
 "metadata": {
  "kernelspec": {
   "display_name": "Python 3 (ipykernel)",
   "language": "python",
   "name": "python3"
  },
  "language_info": {
   "codemirror_mode": {
    "name": "ipython",
    "version": 3
   },
   "file_extension": ".py",
   "mimetype": "text/x-python",
   "name": "python",
   "nbconvert_exporter": "python",
   "pygments_lexer": "ipython3",
   "version": "3.9.16"
  }
 },
 "nbformat": 4,
 "nbformat_minor": 5
}
